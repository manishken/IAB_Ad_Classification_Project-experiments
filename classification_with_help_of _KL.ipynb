{
 "cells": [
  {
   "cell_type": "markdown",
   "metadata": {},
   "source": [
    "### DATA"
   ]
  },
  {
   "cell_type": "code",
   "execution_count": 1,
   "metadata": {},
   "outputs": [],
   "source": [
    "import pandas as pd\n",
    "\n",
    "# Specify the path to your CSV file\n",
    "file_path = 'data_cleaned_and_fixed.csv'\n",
    "\n",
    "# Load the CSV file into a DataFrame\n",
    "df = pd.read_csv(file_path)\n",
    "\n",
    "\n"
   ]
  },
  {
   "cell_type": "code",
   "execution_count": 2,
   "metadata": {},
   "outputs": [
    {
     "data": {
      "text/plain": [
       "(33513, 12)"
      ]
     },
     "execution_count": 2,
     "metadata": {},
     "output_type": "execute_result"
    }
   ],
   "source": [
    "df.shape"
   ]
  },
  {
   "cell_type": "code",
   "execution_count": 3,
   "metadata": {},
   "outputs": [
    {
     "data": {
      "text/html": [
       "<div>\n",
       "<style scoped>\n",
       "    .dataframe tbody tr th:only-of-type {\n",
       "        vertical-align: middle;\n",
       "    }\n",
       "\n",
       "    .dataframe tbody tr th {\n",
       "        vertical-align: top;\n",
       "    }\n",
       "\n",
       "    .dataframe thead th {\n",
       "        text-align: right;\n",
       "    }\n",
       "</style>\n",
       "<table border=\"1\" class=\"dataframe\">\n",
       "  <thead>\n",
       "    <tr style=\"text-align: right;\">\n",
       "      <th></th>\n",
       "      <th>Tier 1</th>\n",
       "      <th>Tier 2</th>\n",
       "      <th>URL</th>\n",
       "      <th>Title</th>\n",
       "      <th>Description</th>\n",
       "      <th>Keywords</th>\n",
       "      <th>Site Name</th>\n",
       "      <th>Content</th>\n",
       "      <th>License</th>\n",
       "      <th>Language</th>\n",
       "      <th>Tier 3</th>\n",
       "      <th>Tier 4</th>\n",
       "    </tr>\n",
       "  </thead>\n",
       "  <tbody>\n",
       "    <tr>\n",
       "      <th>0</th>\n",
       "      <td>Automotive</td>\n",
       "      <td>dash cam videos</td>\n",
       "      <td>https://www.techradar.com/best/best-dash-cam</td>\n",
       "      <td>The best dash cam 2024: The latest car cameras...</td>\n",
       "      <td>Whatever your needs and budget, we've round up...</td>\n",
       "      <td>NaN</td>\n",
       "      <td>TechRadar</td>\n",
       "      <td>best dash cam nextbase garmin thinkware purcha...</td>\n",
       "      <td>cc by sa</td>\n",
       "      <td>en</td>\n",
       "      <td>NaN</td>\n",
       "      <td>NaN</td>\n",
       "    </tr>\n",
       "    <tr>\n",
       "      <th>1</th>\n",
       "      <td>Automotive</td>\n",
       "      <td>dash cam videos</td>\n",
       "      <td>https://www.amazon.com/Camera-Built-170%C2%B0W...</td>\n",
       "      <td>Amazon.com: Dash Camera for Cars,4K Full UHD C...</td>\n",
       "      <td>Amazon.com: Dash Camera for Cars,4K Full UHD C...</td>\n",
       "      <td>NaN</td>\n",
       "      <td>Unknown Site</td>\n",
       "      <td>offer easy convenient return least one free re...</td>\n",
       "      <td>cc by sa</td>\n",
       "      <td>en</td>\n",
       "      <td>NaN</td>\n",
       "      <td>NaN</td>\n",
       "    </tr>\n",
       "    <tr>\n",
       "      <th>2</th>\n",
       "      <td>Automotive</td>\n",
       "      <td>dash cam videos</td>\n",
       "      <td>https://matrackinc.com/dash-cams-with-cloud-st...</td>\n",
       "      <td>Top 6 Dash cams with Local and Cloud Storage -...</td>\n",
       "      <td>est dash cams with local and cloud storage for...</td>\n",
       "      <td>NaN</td>\n",
       "      <td>Matrackinc -</td>\n",
       "      <td>wed love send info fill form query one team me...</td>\n",
       "      <td>cc by sa</td>\n",
       "      <td>en</td>\n",
       "      <td>NaN</td>\n",
       "      <td>NaN</td>\n",
       "    </tr>\n",
       "    <tr>\n",
       "      <th>3</th>\n",
       "      <td>Automotive</td>\n",
       "      <td>dash cam videos</td>\n",
       "      <td>https://www.blackboxmycar.com/pages/license-pl...</td>\n",
       "      <td>License Plates in Dash Cam Footage — BlackboxM...</td>\n",
       "      <td>One of the reasons why you need a dash cam is ...</td>\n",
       "      <td>NaN</td>\n",
       "      <td>BlackboxMyCar</td>\n",
       "      <td>best dash cam best dash cam road incident inev...</td>\n",
       "      <td>cc by sa</td>\n",
       "      <td>en</td>\n",
       "      <td>NaN</td>\n",
       "      <td>NaN</td>\n",
       "    </tr>\n",
       "    <tr>\n",
       "      <th>4</th>\n",
       "      <td>Automotive</td>\n",
       "      <td>dash cam videos</td>\n",
       "      <td>https://www.hikvision.com/en/products/onboard-...</td>\n",
       "      <td>Industry Dash Camera - Dash Cameras - Hikvision</td>\n",
       "      <td>Hikvision dashcams provide a lightweight solut...</td>\n",
       "      <td>dash cameras</td>\n",
       "      <td>Hikvision</td>\n",
       "      <td>login global en product network product networ...</td>\n",
       "      <td>cc by sa</td>\n",
       "      <td>en</td>\n",
       "      <td>NaN</td>\n",
       "      <td>NaN</td>\n",
       "    </tr>\n",
       "  </tbody>\n",
       "</table>\n",
       "</div>"
      ],
      "text/plain": [
       "       Tier 1           Tier 2  \\\n",
       "0  Automotive  dash cam videos   \n",
       "1  Automotive  dash cam videos   \n",
       "2  Automotive  dash cam videos   \n",
       "3  Automotive  dash cam videos   \n",
       "4  Automotive  dash cam videos   \n",
       "\n",
       "                                                 URL  \\\n",
       "0       https://www.techradar.com/best/best-dash-cam   \n",
       "1  https://www.amazon.com/Camera-Built-170%C2%B0W...   \n",
       "2  https://matrackinc.com/dash-cams-with-cloud-st...   \n",
       "3  https://www.blackboxmycar.com/pages/license-pl...   \n",
       "4  https://www.hikvision.com/en/products/onboard-...   \n",
       "\n",
       "                                               Title  \\\n",
       "0  The best dash cam 2024: The latest car cameras...   \n",
       "1  Amazon.com: Dash Camera for Cars,4K Full UHD C...   \n",
       "2  Top 6 Dash cams with Local and Cloud Storage -...   \n",
       "3  License Plates in Dash Cam Footage — BlackboxM...   \n",
       "4    Industry Dash Camera - Dash Cameras - Hikvision   \n",
       "\n",
       "                                         Description      Keywords  \\\n",
       "0  Whatever your needs and budget, we've round up...           NaN   \n",
       "1  Amazon.com: Dash Camera for Cars,4K Full UHD C...           NaN   \n",
       "2  est dash cams with local and cloud storage for...           NaN   \n",
       "3  One of the reasons why you need a dash cam is ...           NaN   \n",
       "4  Hikvision dashcams provide a lightweight solut...  dash cameras   \n",
       "\n",
       "       Site Name                                            Content   License  \\\n",
       "0      TechRadar  best dash cam nextbase garmin thinkware purcha...  cc by sa   \n",
       "1   Unknown Site  offer easy convenient return least one free re...  cc by sa   \n",
       "2   Matrackinc -  wed love send info fill form query one team me...  cc by sa   \n",
       "3  BlackboxMyCar  best dash cam best dash cam road incident inev...  cc by sa   \n",
       "4      Hikvision  login global en product network product networ...  cc by sa   \n",
       "\n",
       "  Language Tier 3 Tier 4  \n",
       "0       en    NaN    NaN  \n",
       "1       en    NaN    NaN  \n",
       "2       en    NaN    NaN  \n",
       "3       en    NaN    NaN  \n",
       "4       en    NaN    NaN  "
      ]
     },
     "execution_count": 3,
     "metadata": {},
     "output_type": "execute_result"
    }
   ],
   "source": [
    "# Display the first few rows of the dataset\n",
    "df.head()"
   ]
  },
  {
   "cell_type": "code",
   "execution_count": 9,
   "metadata": {},
   "outputs": [],
   "source": [
    "import pandas as pd\n",
    "# from transformers import pipeline\n",
    "from tqdm import tqdm\n"
   ]
  },
  {
   "cell_type": "code",
   "execution_count": 10,
   "metadata": {},
   "outputs": [],
   "source": [
    "import pandas as pd\n",
    "# from transformers import BartForConditionalGeneration, BartTokenizer\n",
    "from tqdm import tqdm"
   ]
  },
  {
   "cell_type": "code",
   "execution_count": 11,
   "metadata": {},
   "outputs": [
    {
     "ename": "NameError",
     "evalue": "name 'BartTokenizer' is not defined",
     "output_type": "error",
     "traceback": [
      "\u001b[1;31m---------------------------------------------------------------------------\u001b[0m",
      "\u001b[1;31mNameError\u001b[0m                                 Traceback (most recent call last)",
      "Cell \u001b[1;32mIn[11], line 5\u001b[0m\n\u001b[0;32m      1\u001b[0m \u001b[38;5;66;03m# Filter rows with missing Tier 3 or Keywords\u001b[39;00m\n\u001b[0;32m      2\u001b[0m \u001b[38;5;66;03m# Filter rows with missing Tier 3 or Keywords\u001b[39;00m\n\u001b[0;32m      3\u001b[0m \u001b[38;5;66;03m# Load the pre-trained BART model and tokenizer\u001b[39;00m\n\u001b[0;32m      4\u001b[0m model_name \u001b[38;5;241m=\u001b[39m \u001b[38;5;124m\"\u001b[39m\u001b[38;5;124mfacebook/bart-large\u001b[39m\u001b[38;5;124m\"\u001b[39m  \u001b[38;5;66;03m# You can also try \"facebook/bart-base\" for faster inference\u001b[39;00m\n\u001b[1;32m----> 5\u001b[0m tokenizer \u001b[38;5;241m=\u001b[39m \u001b[43mBartTokenizer\u001b[49m\u001b[38;5;241m.\u001b[39mfrom_pretrained(model_name)\n\u001b[0;32m      6\u001b[0m model \u001b[38;5;241m=\u001b[39m BartForConditionalGeneration\u001b[38;5;241m.\u001b[39mfrom_pretrained(model_name)\n",
      "\u001b[1;31mNameError\u001b[0m: name 'BartTokenizer' is not defined"
     ]
    }
   ],
   "source": [
    "# Filter rows with missing Tier 3 or Keywords\n",
    "# Filter rows with missing Tier 3 or Keywords\n",
    "# Load the pre-trained BART model and tokenizer\n",
    "model_name = \"facebook/bart-large\"  # You can also try \"facebook/bart-base\" for faster inference\n",
    "tokenizer = BartTokenizer.from_pretrained(model_name)\n",
    "model = BartForConditionalGeneration.from_pretrained(model_name)\n"
   ]
  },
  {
   "cell_type": "code",
   "execution_count": null,
   "metadata": {},
   "outputs": [],
   "source": [
    "missing_rows = df[df['Tier 3'].isna() | df['Keywords'].isna()]"
   ]
  },
  {
   "cell_type": "code",
   "execution_count": null,
   "metadata": {},
   "outputs": [],
   "source": [
    "mr = missing_rows.iloc[0]"
   ]
  },
  {
   "cell_type": "code",
   "execution_count": null,
   "metadata": {},
   "outputs": [
    {
     "data": {
      "text/plain": [
       "Tier 1                                                Automotive\n",
       "Tier 2                                           dash cam videos\n",
       "URL                 https://www.techradar.com/best/best-dash-cam\n",
       "Title          The best dash cam 2024: The latest car cameras...\n",
       "Description    Whatever your needs and budget, we've round up...\n",
       "Keywords                                                     NaN\n",
       "Site Name                                              TechRadar\n",
       "Content        best dash cam nextbase garmin thinkware purcha...\n",
       "License                                                 cc by sa\n",
       "Language                                                      en\n",
       "Tier 3                                                       NaN\n",
       "Tier 4                                                       NaN\n",
       "Name: 0, dtype: object"
      ]
     },
     "execution_count": 41,
     "metadata": {},
     "output_type": "execute_result"
    }
   ],
   "source": [
    "mr"
   ]
  },
  {
   "cell_type": "code",
   "execution_count": 12,
   "metadata": {},
   "outputs": [],
   "source": [
    "import spacy"
   ]
  },
  {
   "cell_type": "code",
   "execution_count": 13,
   "metadata": {},
   "outputs": [],
   "source": [
    "tier_1=df['Tier 1'].unique().tolist()"
   ]
  },
  {
   "cell_type": "code",
   "execution_count": 9,
   "metadata": {},
   "outputs": [
    {
     "data": {
      "text/plain": [
       "['Automotive',\n",
       " 'Business and Finance',\n",
       " 'Books and Literature',\n",
       " 'Careers',\n",
       " 'Communication',\n",
       " 'Crime',\n",
       " 'Disasters',\n",
       " 'Education',\n",
       " 'Entertainment',\n",
       " 'Events',\n",
       " 'Family and Relationships',\n",
       " 'Fine Art',\n",
       " 'Food & Drink',\n",
       " 'Hobbies & Interests',\n",
       " 'Genres',\n",
       " 'Healthy Living',\n",
       " 'Holidays',\n",
       " 'Home & Garden',\n",
       " 'Law',\n",
       " 'Medical Health',\n",
       " 'Maps & Navigation',\n",
       " 'Personal Finance',\n",
       " 'Personal Celebrations & Life Events',\n",
       " 'Pets',\n",
       " 'Politics',\n",
       " 'Pop Culture',\n",
       " 'Productivity',\n",
       " 'Real Estate',\n",
       " 'Religion & Spirituality',\n",
       " 'Science',\n",
       " 'Sensitive Topics',\n",
       " 'Shopping',\n",
       " 'Style & Fashion',\n",
       " 'Technology & Computing',\n",
       " 'Travel',\n",
       " 'Video Gaming',\n",
       " 'War and Conflicts',\n",
       " 'Attractions']"
      ]
     },
     "execution_count": 9,
     "metadata": {},
     "output_type": "execute_result"
    }
   ],
   "source": [
    "tier_1"
   ]
  },
  {
   "cell_type": "code",
   "execution_count": 14,
   "metadata": {},
   "outputs": [],
   "source": [
    "category_keywords = {\n",
    "    'Automotive': ['cars', 'vehicles', 'trucks', 'electric vehicles', 'road safety', 'car repair', 'car models', 'hybrid', 'automotive news', 'driving', 'car brands', 'car accessories', 'fuel efficiency'],\n",
    "    'Business and Finance': ['stocks', 'investments', 'financial planning', 'entrepreneurship', 'business strategy', 'market trends', 'accounting', 'finance tips', 'corporate', 'wealth management', 'economic forecast', 'taxes'],\n",
    "    'Books and Literature': ['fiction', 'novels', 'poetry', 'bestsellers', 'book reviews', 'writers', 'literature awards', 'classic novels', 'book clubs', 'literary analysis', 'authors', 'reading list'],\n",
    "    'Careers': ['job search', 'employment', 'career advice', 'professional development', 'interviews', 'resume writing', 'salary', 'job market', 'recruitment', 'work-life balance', 'remote jobs'],\n",
    "    'Communication': ['messaging', 'emails', 'social media', 'communication skills', 'business communication', 'digital communication', 'public speaking', 'media', 'social networks', 'online communication', 'PR'],\n",
    "    'Crime': ['criminal law', 'investigations', 'police', 'crime rates', 'law enforcement', 'detective', 'crime scenes', 'criminal justice', 'felonies', 'misdemeanors', 'criminal defense', 'criminals'],\n",
    "    'Disasters': ['natural disasters', 'earthquakes', 'floods', 'hurricanes', 'wildfires', 'disaster recovery', 'emergency preparedness', 'disaster relief', 'global warming', 'climate change', 'evacuation plans'],\n",
    "    'Education': ['learning', 'schools', 'teaching', 'online courses', 'education system', 'university', 'curriculum', 'academic', 'study tips', 'exams', 'higher education', 'textbooks', 'tutoring'],\n",
    "    'Entertainment': ['movies', 'TV shows', 'music', 'celebrities', 'concerts', 'theater', 'streaming', 'film reviews', 'pop culture', 'binge-watching', 'events', 'performances', 'entertainment industry'],\n",
    "    'Events': ['conferences', 'festivals', 'seminars', 'trade shows', 'live events', 'webinars', 'parties', 'weddings', 'conventions', 'event planning', 'event management', 'event speakers'],\n",
    "    'Family and Relationships': ['parenting', 'family life', 'marriage', 'relationships', 'communication', 'children', 'family counseling', 'love', 'family activities', 'relationship advice', 'divorce', 'family gatherings'],\n",
    "    'Fine Art': ['paintings', 'sculptures', 'galleries', 'exhibitions', 'artists', 'contemporary art', 'museums', 'art history', 'art collectors', 'oil paintings', 'fine art photography', 'masterpieces'],\n",
    "    'Food & Drink': ['recipes', 'cooking', 'restaurants', 'food reviews', 'healthy eating', 'cuisines', 'beverages', 'wine', 'food trends', 'culinary arts', 'vegan', 'cooking tips', 'gourmet food'],\n",
    "    'Hobbies & Interests': ['crafting', 'DIY', 'gardening', 'photography', 'music', 'sports', 'knitting', 'drawing', 'painting', 'collecting', 'model building', 'home improvement', 'woodworking'],\n",
    "    'Genres': ['mystery', 'romance', 'thriller', 'comedy', 'drama', 'fantasy', 'horror', 'adventure', 'sci-fi', 'historical', 'non-fiction', 'biography', 'fiction', 'young adult', 'poetry'],\n",
    "    'Healthy Living': ['fitness', 'wellness', 'nutrition', 'mental health', 'exercise', 'healthy recipes', 'mindfulness', 'self-care', 'stress management', 'meditation', 'sleep hygiene', 'diet'],\n",
    "    'Holidays': ['christmas', 'new year', 'thanksgiving', 'easter', 'halloween', 'valentine\\'s day', 'independence day', 'holidays planning', 'travel', 'traditions', 'holiday recipes', 'seasonal events'],\n",
    "    'Home & Garden': ['home improvement', 'gardening', 'DIY', 'landscaping', 'home decor', 'interior design', 'plants', 'outdoor furniture', 'home renovation', 'gardening tips', 'home security', 'house cleaning'],\n",
    "    'Law': ['legal advice', 'contracts', 'criminal law', 'civil law', 'corporate law', 'attorneys', 'court cases', 'legal rights', 'law firms', 'litigation', 'legal documentation', 'laws and regulations'],\n",
    "    'Medical Health': ['healthcare', 'medical conditions', 'doctors', 'hospitals', 'health insurance', 'fitness', 'wellness', 'medicine', 'mental health', 'disease prevention', 'treatments', 'medical research', 'nutrition'],\n",
    "    'Maps & Navigation': ['GPS', 'route planning', 'maps', 'location-based services', 'travel apps', 'geographic information systems', 'street view', 'directions', 'landmarks', 'hiking trails', 'city maps'],\n",
    "    'Personal Finance': ['budgeting', 'saving', 'debt', 'investments', 'credit scores', 'retirement planning', 'financial goals', 'loans', 'savings accounts', 'financial literacy', 'credit cards', 'mortgage'],\n",
    "    'Personal Celebrations & Life Events': ['birthdays', 'weddings', 'graduations', 'anniversaries', 'baby showers', 'celebrations', 'life milestones', 'special events', 'life planning', 'gifts', 'planning parties', 'events'],\n",
    "    'Pets': ['dogs', 'cats', 'pet care', 'animal health', 'pet food', 'pet adoption', 'veterinary', 'animal behavior', 'pet training', 'pet grooming', 'pet accessories', 'petsitting', 'pet breeds'],\n",
    "    'Politics': ['government', 'elections', 'policies', 'political parties', 'democracy', 'voting', 'political analysis', 'candidates', 'political campaigns', 'international relations', 'political commentary'],\n",
    "    'Pop Culture': ['celebrities', 'music', 'movies', 'TV shows', 'trends', 'memes', 'social media', 'viral', 'entertainment', 'fashion', 'influencers', 'social issues', 'fan culture', 'fandoms'],\n",
    "    'Productivity': ['time management', 'efficiency', 'to-do lists', 'goal setting', 'task management', 'productivity hacks', 'focus', 'motivation', 'personal development', 'work productivity', 'organization'],\n",
    "    'Real Estate': ['properties', 'homes for sale', 'real estate market', 'renting', 'buying', 'mortgage', 'home buying', 'real estate agents', 'home improvement', 'real estate investment', 'property listings'],\n",
    "    'Religion & Spirituality': ['faith', 'spirituality', 'religion', 'meditation', 'prayer', 'religious texts', 'philosophy', 'mindfulness', 'religious practices', 'theology', 'spiritual growth', 'beliefs', 'rituals'],\n",
    "    'Science': ['physics', 'chemistry', 'biology', 'research', 'experiments', 'discoveries', 'space', 'technology', 'scientific methods', 'scientists', 'evolution', 'medicine', 'astronomy', 'climate change'],\n",
    "    'Sensitive Topics': ['mental health', 'abuse', 'addiction', 'trauma', 'grief', 'recovery', 'therapy', 'domestic violence', 'sexual health', 'substance abuse', 'social issues', 'mental illness', 'recovery'],\n",
    "    'Shopping': ['e-commerce', 'deals', 'discounts', 'online shopping', 'product reviews', 'fashion', 'gadgets', 'sales', 'shopping tips', 'consumer electronics', 'retail', 'shopping carts'],\n",
    "    'Style & Fashion': ['clothing', 'trends', 'fashion designers', 'styling', 'shopping', 'fashion accessories', 'makeup', 'outfits', 'seasonal fashion', 'fashion tips', 'beauty', 'runway', 'street style'],\n",
    "    'Technology & Computing': ['software', 'hardware', 'AI', 'machine learning', 'programming', 'coding', 'gadgets', 'technology trends', 'cybersecurity', 'data analysis', 'tech innovations', 'cloud computing', 'IT'],\n",
    "    'Travel': ['destinations', 'flights', 'hotels', 'travel tips', 'vacations', 'backpacking', 'solo travel', 'tourist attractions', 'travel deals', 'adventure travel', 'guides', 'travel photography'],\n",
    "    'Video Gaming': ['games', 'gaming consoles', 'esports', 'game reviews', 'multiplayer', 'strategy games', 'role-playing games', 'gaming news', 'video game characters', 'virtual reality', 'game updates'],\n",
    "    'War and Conflicts': ['military', 'combat', 'conflicts', 'war zones', 'peace talks', 'international relations', 'defense', 'war history', 'soldiers', 'political conflicts', 'global security', 'military operations'],\n",
    "    'Attractions': ['landmarks', 'museums', 'theme parks', 'zoos', 'national parks', 'vacation spots', 'tourism', 'travel guides', 'tourist destinations', 'historical sites', 'cultural attractions', 'excursions']\n",
    "}\n"
   ]
  },
  {
   "cell_type": "code",
   "execution_count": 15,
   "metadata": {},
   "outputs": [],
   "source": [
    "# Load spaCy model\n",
    "nlp = spacy.load(\"en_core_web_sm\")"
   ]
  },
  {
   "cell_type": "code",
   "execution_count": 16,
   "metadata": {},
   "outputs": [],
   "source": [
    "nlp.max_length = 1500000"
   ]
  },
  {
   "cell_type": "code",
   "execution_count": 17,
   "metadata": {},
   "outputs": [
    {
     "name": "stdout",
     "output_type": "stream",
     "text": [
      "           Tier 1             Tier 2  \\\n",
      "0      Automotive            driving   \n",
      "1      Automotive            driving   \n",
      "2      Automotive            driving   \n",
      "3      Automotive  No Keywords Found   \n",
      "4      Automotive             hybrid   \n",
      "...           ...                ...   \n",
      "33508  Automotive            styling   \n",
      "33509  Automotive  No Keywords Found   \n",
      "33510  Automotive         employment   \n",
      "33511  Automotive  No Keywords Found   \n",
      "33512  Automotive         government   \n",
      "\n",
      "                                                     URL  \\\n",
      "0           https://www.techradar.com/best/best-dash-cam   \n",
      "1      https://www.amazon.com/Camera-Built-170%C2%B0W...   \n",
      "2      https://matrackinc.com/dash-cams-with-cloud-st...   \n",
      "3      https://www.blackboxmycar.com/pages/license-pl...   \n",
      "4      https://www.hikvision.com/en/products/onboard-...   \n",
      "...                                                  ...   \n",
      "33508  https://www.bikewale.com/new-bike-search/best-...   \n",
      "33509  https://www.expat.com/forum/viewtopic.php?id=9...   \n",
      "33510  https://www.topgearpowersports.com/Inventory/A...   \n",
      "33511    https://www.zigwheels.com/ola-electric-scooters   \n",
      "33512  https://www.nsw.gov.au/driving-boating-and-tra...   \n",
      "\n",
      "                                                   Title  \\\n",
      "0      The best dash cam 2024: The latest car cameras...   \n",
      "1      Amazon.com: Dash Camera for Cars,4K Full UHD C...   \n",
      "2      Top 6 Dash cams with Local and Cloud Storage -...   \n",
      "3      License Plates in Dash Cam Footage — BlackboxM...   \n",
      "4        Industry Dash Camera - Dash Cameras - Hikvision   \n",
      "...                                                  ...   \n",
      "33508  Best scooty under 60,000 | Top scooters under ...   \n",
      "33509  Motor Scooter question - Mexico forum - Expat.com   \n",
      "33510  Scooters For Sale: Inventory at Top Gear Power...   \n",
      "33511  Ola Electric Scooters and Scooty Prices - New ...   \n",
      "33512             Learner rider licence | NSW Government   \n",
      "\n",
      "                                             Description           Keywords  \\\n",
      "0      Whatever your needs and budget, we've round up...            driving   \n",
      "1      Amazon.com: Dash Camera for Cars,4K Full UHD C...            driving   \n",
      "2      est dash cams with local and cloud storage for...            driving   \n",
      "3      One of the reasons why you need a dash cam is ...  No Keywords Found   \n",
      "4      Hikvision dashcams provide a lightweight solut...             hybrid   \n",
      "...                                                  ...                ...   \n",
      "33508  Looking to buy a scooty under 60,000? Here is ...            styling   \n",
      "33509  I my name is Kirk I am a US citizen living in ...  No Keywords Found   \n",
      "33510  Shop all in-stock Scooters inventory for sale ...         employment   \n",
      "33511  Ola scooters offers 3 Electric models in price...  No Keywords Found   \n",
      "33512  Once you're 16 and 9 months, you can apply for...         government   \n",
      "\n",
      "                    Site Name  \\\n",
      "0                   TechRadar   \n",
      "1                Unknown Site   \n",
      "2                Matrackinc -   \n",
      "3               BlackboxMyCar   \n",
      "4                   Hikvision   \n",
      "...                       ...   \n",
      "33508                BikeWale   \n",
      "33509  https://www.expat.com/   \n",
      "33510            Unknown Site   \n",
      "33511           ZigWheels.com   \n",
      "33512          NSW Government   \n",
      "\n",
      "                                                 Content   License Language  \\\n",
      "0      best dash cam nextbase garmin thinkware purcha...  cc by sa       en   \n",
      "1      offer easy convenient return least one free re...  cc by sa       en   \n",
      "2      wed love send info fill form query one team me...  cc by sa       en   \n",
      "3      best dash cam best dash cam road incident inev...  cc by sa       en   \n",
      "4      login global en product network product networ...  cc by sa       en   \n",
      "...                                                  ...       ...      ...   \n",
      "33508  rating parameter design styling reliability co...        cc       en   \n",
      "33509  motor scooter question last activity april chi...        cc       en   \n",
      "33510  shop inventory sale dealership roselle illinoi...        cc       en   \n",
      "33511  ola electric scooter price start r x go upto r...        cc       en   \n",
      "33512  youre month apply learner licence ride motorcy...        cc       en   \n",
      "\n",
      "      Tier 3 Tier 4  \n",
      "0        NaN    NaN  \n",
      "1        NaN    NaN  \n",
      "2        NaN    NaN  \n",
      "3        NaN    NaN  \n",
      "4        NaN    NaN  \n",
      "...      ...    ...  \n",
      "33508    NaN    NaN  \n",
      "33509    NaN    NaN  \n",
      "33510    NaN    NaN  \n",
      "33511    NaN    NaN  \n",
      "33512    NaN    NaN  \n",
      "\n",
      "[33513 rows x 12 columns]\n"
     ]
    }
   ],
   "source": [
    "# Extract keywords using spaCy\n",
    "def extract_keywords(text):\n",
    "    # Handle NaN values by replacing them with an empty string\n",
    "    if not isinstance(text, str):\n",
    "        text = \"\"\n",
    "    \n",
    "    # Truncate long texts to a maximum length (e.g., 1000 characters)\n",
    "    max_length = 1000  # Set the limit based on your system's capacity\n",
    "    text = text[:max_length]\n",
    "\n",
    "    doc = nlp(text)\n",
    "    # Extract nouns and proper nouns\n",
    "    keywords = [token.text.lower() for token in doc if token.pos_ in ['NOUN', 'PROPN']]\n",
    "    return keywords\n",
    "\n",
    "# Rule-based imputation function for Keywords only\n",
    "def rule_based_keywords_imputation(row):\n",
    "    # Extract keywords from Title and Content\n",
    "    title_keywords = extract_keywords(row['Title'])\n",
    "    content_keywords = extract_keywords(row['Content'])\n",
    "    \n",
    "    # Combine keywords\n",
    "    all_keywords = title_keywords + content_keywords\n",
    "    \n",
    "    # Initialize variable to store matched keyword\n",
    "    matched_keyword = None\n",
    "\n",
    "    # Iterate over category_keywords to match the extracted keywords\n",
    "    for category, keywords_list in category_keywords.items():\n",
    "        for keyword in keywords_list:\n",
    "            if keyword in all_keywords:\n",
    "                matched_keyword = keyword\n",
    "                break\n",
    "        if matched_keyword:  # Stop once a keyword is found\n",
    "            break\n",
    "    \n",
    "    # Return the first matched keyword or \"No Keywords Found\" if no match\n",
    "    return matched_keyword if matched_keyword else \"No Keywords Found\"\n",
    "\n",
    "# Apply rule-based keywords imputation on missing Keywords\n",
    "df['Keywords'] = df.apply(rule_based_keywords_imputation, axis=1)\n",
    "df['Tier 2'] = df.apply(rule_based_keywords_imputation, axis=1)\n",
    "\n",
    "# Display the updated DataFrame\n",
    "print(df)"
   ]
  },
  {
   "cell_type": "code",
   "execution_count": 18,
   "metadata": {},
   "outputs": [
    {
     "data": {
      "text/html": [
       "<div>\n",
       "<style scoped>\n",
       "    .dataframe tbody tr th:only-of-type {\n",
       "        vertical-align: middle;\n",
       "    }\n",
       "\n",
       "    .dataframe tbody tr th {\n",
       "        vertical-align: top;\n",
       "    }\n",
       "\n",
       "    .dataframe thead th {\n",
       "        text-align: right;\n",
       "    }\n",
       "</style>\n",
       "<table border=\"1\" class=\"dataframe\">\n",
       "  <thead>\n",
       "    <tr style=\"text-align: right;\">\n",
       "      <th></th>\n",
       "      <th>Tier 1</th>\n",
       "      <th>Tier 2</th>\n",
       "      <th>URL</th>\n",
       "      <th>Title</th>\n",
       "      <th>Description</th>\n",
       "      <th>Keywords</th>\n",
       "      <th>Site Name</th>\n",
       "      <th>Content</th>\n",
       "      <th>License</th>\n",
       "      <th>Language</th>\n",
       "      <th>Tier 3</th>\n",
       "      <th>Tier 4</th>\n",
       "    </tr>\n",
       "  </thead>\n",
       "  <tbody>\n",
       "    <tr>\n",
       "      <th>0</th>\n",
       "      <td>Automotive</td>\n",
       "      <td>driving</td>\n",
       "      <td>https://www.techradar.com/best/best-dash-cam</td>\n",
       "      <td>The best dash cam 2024: The latest car cameras...</td>\n",
       "      <td>Whatever your needs and budget, we've round up...</td>\n",
       "      <td>driving</td>\n",
       "      <td>TechRadar</td>\n",
       "      <td>best dash cam nextbase garmin thinkware purcha...</td>\n",
       "      <td>cc by sa</td>\n",
       "      <td>en</td>\n",
       "      <td>NaN</td>\n",
       "      <td>NaN</td>\n",
       "    </tr>\n",
       "    <tr>\n",
       "      <th>1</th>\n",
       "      <td>Automotive</td>\n",
       "      <td>driving</td>\n",
       "      <td>https://www.amazon.com/Camera-Built-170%C2%B0W...</td>\n",
       "      <td>Amazon.com: Dash Camera for Cars,4K Full UHD C...</td>\n",
       "      <td>Amazon.com: Dash Camera for Cars,4K Full UHD C...</td>\n",
       "      <td>driving</td>\n",
       "      <td>Unknown Site</td>\n",
       "      <td>offer easy convenient return least one free re...</td>\n",
       "      <td>cc by sa</td>\n",
       "      <td>en</td>\n",
       "      <td>NaN</td>\n",
       "      <td>NaN</td>\n",
       "    </tr>\n",
       "    <tr>\n",
       "      <th>2</th>\n",
       "      <td>Automotive</td>\n",
       "      <td>driving</td>\n",
       "      <td>https://matrackinc.com/dash-cams-with-cloud-st...</td>\n",
       "      <td>Top 6 Dash cams with Local and Cloud Storage -...</td>\n",
       "      <td>est dash cams with local and cloud storage for...</td>\n",
       "      <td>driving</td>\n",
       "      <td>Matrackinc -</td>\n",
       "      <td>wed love send info fill form query one team me...</td>\n",
       "      <td>cc by sa</td>\n",
       "      <td>en</td>\n",
       "      <td>NaN</td>\n",
       "      <td>NaN</td>\n",
       "    </tr>\n",
       "    <tr>\n",
       "      <th>3</th>\n",
       "      <td>Automotive</td>\n",
       "      <td>No Keywords Found</td>\n",
       "      <td>https://www.blackboxmycar.com/pages/license-pl...</td>\n",
       "      <td>License Plates in Dash Cam Footage — BlackboxM...</td>\n",
       "      <td>One of the reasons why you need a dash cam is ...</td>\n",
       "      <td>No Keywords Found</td>\n",
       "      <td>BlackboxMyCar</td>\n",
       "      <td>best dash cam best dash cam road incident inev...</td>\n",
       "      <td>cc by sa</td>\n",
       "      <td>en</td>\n",
       "      <td>NaN</td>\n",
       "      <td>NaN</td>\n",
       "    </tr>\n",
       "    <tr>\n",
       "      <th>4</th>\n",
       "      <td>Automotive</td>\n",
       "      <td>hybrid</td>\n",
       "      <td>https://www.hikvision.com/en/products/onboard-...</td>\n",
       "      <td>Industry Dash Camera - Dash Cameras - Hikvision</td>\n",
       "      <td>Hikvision dashcams provide a lightweight solut...</td>\n",
       "      <td>hybrid</td>\n",
       "      <td>Hikvision</td>\n",
       "      <td>login global en product network product networ...</td>\n",
       "      <td>cc by sa</td>\n",
       "      <td>en</td>\n",
       "      <td>NaN</td>\n",
       "      <td>NaN</td>\n",
       "    </tr>\n",
       "    <tr>\n",
       "      <th>...</th>\n",
       "      <td>...</td>\n",
       "      <td>...</td>\n",
       "      <td>...</td>\n",
       "      <td>...</td>\n",
       "      <td>...</td>\n",
       "      <td>...</td>\n",
       "      <td>...</td>\n",
       "      <td>...</td>\n",
       "      <td>...</td>\n",
       "      <td>...</td>\n",
       "      <td>...</td>\n",
       "      <td>...</td>\n",
       "    </tr>\n",
       "    <tr>\n",
       "      <th>33508</th>\n",
       "      <td>Automotive</td>\n",
       "      <td>styling</td>\n",
       "      <td>https://www.bikewale.com/new-bike-search/best-...</td>\n",
       "      <td>Best scooty under 60,000 | Top scooters under ...</td>\n",
       "      <td>Looking to buy a scooty under 60,000? Here is ...</td>\n",
       "      <td>styling</td>\n",
       "      <td>BikeWale</td>\n",
       "      <td>rating parameter design styling reliability co...</td>\n",
       "      <td>cc</td>\n",
       "      <td>en</td>\n",
       "      <td>NaN</td>\n",
       "      <td>NaN</td>\n",
       "    </tr>\n",
       "    <tr>\n",
       "      <th>33509</th>\n",
       "      <td>Automotive</td>\n",
       "      <td>No Keywords Found</td>\n",
       "      <td>https://www.expat.com/forum/viewtopic.php?id=9...</td>\n",
       "      <td>Motor Scooter question - Mexico forum - Expat.com</td>\n",
       "      <td>I my name is Kirk I am a US citizen living in ...</td>\n",
       "      <td>No Keywords Found</td>\n",
       "      <td>https://www.expat.com/</td>\n",
       "      <td>motor scooter question last activity april chi...</td>\n",
       "      <td>cc</td>\n",
       "      <td>en</td>\n",
       "      <td>NaN</td>\n",
       "      <td>NaN</td>\n",
       "    </tr>\n",
       "    <tr>\n",
       "      <th>33510</th>\n",
       "      <td>Automotive</td>\n",
       "      <td>employment</td>\n",
       "      <td>https://www.topgearpowersports.com/Inventory/A...</td>\n",
       "      <td>Scooters For Sale: Inventory at Top Gear Power...</td>\n",
       "      <td>Shop all in-stock Scooters inventory for sale ...</td>\n",
       "      <td>employment</td>\n",
       "      <td>Unknown Site</td>\n",
       "      <td>shop inventory sale dealership roselle illinoi...</td>\n",
       "      <td>cc</td>\n",
       "      <td>en</td>\n",
       "      <td>NaN</td>\n",
       "      <td>NaN</td>\n",
       "    </tr>\n",
       "    <tr>\n",
       "      <th>33511</th>\n",
       "      <td>Automotive</td>\n",
       "      <td>No Keywords Found</td>\n",
       "      <td>https://www.zigwheels.com/ola-electric-scooters</td>\n",
       "      <td>Ola Electric Scooters and Scooty Prices - New ...</td>\n",
       "      <td>Ola scooters offers 3 Electric models in price...</td>\n",
       "      <td>No Keywords Found</td>\n",
       "      <td>ZigWheels.com</td>\n",
       "      <td>ola electric scooter price start r x go upto r...</td>\n",
       "      <td>cc</td>\n",
       "      <td>en</td>\n",
       "      <td>NaN</td>\n",
       "      <td>NaN</td>\n",
       "    </tr>\n",
       "    <tr>\n",
       "      <th>33512</th>\n",
       "      <td>Automotive</td>\n",
       "      <td>government</td>\n",
       "      <td>https://www.nsw.gov.au/driving-boating-and-tra...</td>\n",
       "      <td>Learner rider licence | NSW Government</td>\n",
       "      <td>Once you're 16 and 9 months, you can apply for...</td>\n",
       "      <td>government</td>\n",
       "      <td>NSW Government</td>\n",
       "      <td>youre month apply learner licence ride motorcy...</td>\n",
       "      <td>cc</td>\n",
       "      <td>en</td>\n",
       "      <td>NaN</td>\n",
       "      <td>NaN</td>\n",
       "    </tr>\n",
       "  </tbody>\n",
       "</table>\n",
       "<p>33513 rows × 12 columns</p>\n",
       "</div>"
      ],
      "text/plain": [
       "           Tier 1             Tier 2  \\\n",
       "0      Automotive            driving   \n",
       "1      Automotive            driving   \n",
       "2      Automotive            driving   \n",
       "3      Automotive  No Keywords Found   \n",
       "4      Automotive             hybrid   \n",
       "...           ...                ...   \n",
       "33508  Automotive            styling   \n",
       "33509  Automotive  No Keywords Found   \n",
       "33510  Automotive         employment   \n",
       "33511  Automotive  No Keywords Found   \n",
       "33512  Automotive         government   \n",
       "\n",
       "                                                     URL  \\\n",
       "0           https://www.techradar.com/best/best-dash-cam   \n",
       "1      https://www.amazon.com/Camera-Built-170%C2%B0W...   \n",
       "2      https://matrackinc.com/dash-cams-with-cloud-st...   \n",
       "3      https://www.blackboxmycar.com/pages/license-pl...   \n",
       "4      https://www.hikvision.com/en/products/onboard-...   \n",
       "...                                                  ...   \n",
       "33508  https://www.bikewale.com/new-bike-search/best-...   \n",
       "33509  https://www.expat.com/forum/viewtopic.php?id=9...   \n",
       "33510  https://www.topgearpowersports.com/Inventory/A...   \n",
       "33511    https://www.zigwheels.com/ola-electric-scooters   \n",
       "33512  https://www.nsw.gov.au/driving-boating-and-tra...   \n",
       "\n",
       "                                                   Title  \\\n",
       "0      The best dash cam 2024: The latest car cameras...   \n",
       "1      Amazon.com: Dash Camera for Cars,4K Full UHD C...   \n",
       "2      Top 6 Dash cams with Local and Cloud Storage -...   \n",
       "3      License Plates in Dash Cam Footage — BlackboxM...   \n",
       "4        Industry Dash Camera - Dash Cameras - Hikvision   \n",
       "...                                                  ...   \n",
       "33508  Best scooty under 60,000 | Top scooters under ...   \n",
       "33509  Motor Scooter question - Mexico forum - Expat.com   \n",
       "33510  Scooters For Sale: Inventory at Top Gear Power...   \n",
       "33511  Ola Electric Scooters and Scooty Prices - New ...   \n",
       "33512             Learner rider licence | NSW Government   \n",
       "\n",
       "                                             Description           Keywords  \\\n",
       "0      Whatever your needs and budget, we've round up...            driving   \n",
       "1      Amazon.com: Dash Camera for Cars,4K Full UHD C...            driving   \n",
       "2      est dash cams with local and cloud storage for...            driving   \n",
       "3      One of the reasons why you need a dash cam is ...  No Keywords Found   \n",
       "4      Hikvision dashcams provide a lightweight solut...             hybrid   \n",
       "...                                                  ...                ...   \n",
       "33508  Looking to buy a scooty under 60,000? Here is ...            styling   \n",
       "33509  I my name is Kirk I am a US citizen living in ...  No Keywords Found   \n",
       "33510  Shop all in-stock Scooters inventory for sale ...         employment   \n",
       "33511  Ola scooters offers 3 Electric models in price...  No Keywords Found   \n",
       "33512  Once you're 16 and 9 months, you can apply for...         government   \n",
       "\n",
       "                    Site Name  \\\n",
       "0                   TechRadar   \n",
       "1                Unknown Site   \n",
       "2                Matrackinc -   \n",
       "3               BlackboxMyCar   \n",
       "4                   Hikvision   \n",
       "...                       ...   \n",
       "33508                BikeWale   \n",
       "33509  https://www.expat.com/   \n",
       "33510            Unknown Site   \n",
       "33511           ZigWheels.com   \n",
       "33512          NSW Government   \n",
       "\n",
       "                                                 Content   License Language  \\\n",
       "0      best dash cam nextbase garmin thinkware purcha...  cc by sa       en   \n",
       "1      offer easy convenient return least one free re...  cc by sa       en   \n",
       "2      wed love send info fill form query one team me...  cc by sa       en   \n",
       "3      best dash cam best dash cam road incident inev...  cc by sa       en   \n",
       "4      login global en product network product networ...  cc by sa       en   \n",
       "...                                                  ...       ...      ...   \n",
       "33508  rating parameter design styling reliability co...        cc       en   \n",
       "33509  motor scooter question last activity april chi...        cc       en   \n",
       "33510  shop inventory sale dealership roselle illinoi...        cc       en   \n",
       "33511  ola electric scooter price start r x go upto r...        cc       en   \n",
       "33512  youre month apply learner licence ride motorcy...        cc       en   \n",
       "\n",
       "      Tier 3 Tier 4  \n",
       "0        NaN    NaN  \n",
       "1        NaN    NaN  \n",
       "2        NaN    NaN  \n",
       "3        NaN    NaN  \n",
       "4        NaN    NaN  \n",
       "...      ...    ...  \n",
       "33508    NaN    NaN  \n",
       "33509    NaN    NaN  \n",
       "33510    NaN    NaN  \n",
       "33511    NaN    NaN  \n",
       "33512    NaN    NaN  \n",
       "\n",
       "[33513 rows x 12 columns]"
      ]
     },
     "execution_count": 18,
     "metadata": {},
     "output_type": "execute_result"
    }
   ],
   "source": [
    "df"
   ]
  },
  {
   "cell_type": "code",
   "execution_count": 15,
   "metadata": {},
   "outputs": [],
   "source": [
    "# # Count the number of rows where the 'Keywords' column has 'No Keywords Found'\n",
    "# no_keywords_count = df[df['Keywords'] == 'No Keywords Found'].shape[0]\n",
    "\n",
    "# # Print the count\n",
    "# print(f\"Number of rows with 'No Keywords Found': {no_keywords_count}\")"
   ]
  },
  {
   "cell_type": "code",
   "execution_count": 16,
   "metadata": {},
   "outputs": [],
   "source": [
    "# # Set the rows with 'No Keywords Found' to empty (NaN)\n",
    "# df.loc[df['Keywords'] == 'No Keywords Found', 'Keywords'] = \"\"\n",
    "\n",
    "# # Display the updated DataFrame\n",
    "# print(df)"
   ]
  },
  {
   "cell_type": "code",
   "execution_count": 19,
   "metadata": {},
   "outputs": [
    {
     "data": {
      "text/html": [
       "<div>\n",
       "<style scoped>\n",
       "    .dataframe tbody tr th:only-of-type {\n",
       "        vertical-align: middle;\n",
       "    }\n",
       "\n",
       "    .dataframe tbody tr th {\n",
       "        vertical-align: top;\n",
       "    }\n",
       "\n",
       "    .dataframe thead th {\n",
       "        text-align: right;\n",
       "    }\n",
       "</style>\n",
       "<table border=\"1\" class=\"dataframe\">\n",
       "  <thead>\n",
       "    <tr style=\"text-align: right;\">\n",
       "      <th></th>\n",
       "      <th>Tier 1</th>\n",
       "      <th>Tier 2</th>\n",
       "      <th>URL</th>\n",
       "      <th>Title</th>\n",
       "      <th>Description</th>\n",
       "      <th>Keywords</th>\n",
       "      <th>Site Name</th>\n",
       "      <th>Content</th>\n",
       "      <th>License</th>\n",
       "      <th>Language</th>\n",
       "      <th>Tier 3</th>\n",
       "      <th>Tier 4</th>\n",
       "    </tr>\n",
       "  </thead>\n",
       "  <tbody>\n",
       "    <tr>\n",
       "      <th>0</th>\n",
       "      <td>Automotive</td>\n",
       "      <td>driving</td>\n",
       "      <td>https://www.techradar.com/best/best-dash-cam</td>\n",
       "      <td>The best dash cam 2024: The latest car cameras...</td>\n",
       "      <td>Whatever your needs and budget, we've round up...</td>\n",
       "      <td>driving</td>\n",
       "      <td>TechRadar</td>\n",
       "      <td>best dash cam nextbase garmin thinkware purcha...</td>\n",
       "      <td>cc by sa</td>\n",
       "      <td>en</td>\n",
       "      <td>NaN</td>\n",
       "      <td>NaN</td>\n",
       "    </tr>\n",
       "    <tr>\n",
       "      <th>1</th>\n",
       "      <td>Automotive</td>\n",
       "      <td>driving</td>\n",
       "      <td>https://www.amazon.com/Camera-Built-170%C2%B0W...</td>\n",
       "      <td>Amazon.com: Dash Camera for Cars,4K Full UHD C...</td>\n",
       "      <td>Amazon.com: Dash Camera for Cars,4K Full UHD C...</td>\n",
       "      <td>driving</td>\n",
       "      <td>Unknown Site</td>\n",
       "      <td>offer easy convenient return least one free re...</td>\n",
       "      <td>cc by sa</td>\n",
       "      <td>en</td>\n",
       "      <td>NaN</td>\n",
       "      <td>NaN</td>\n",
       "    </tr>\n",
       "    <tr>\n",
       "      <th>2</th>\n",
       "      <td>Automotive</td>\n",
       "      <td>driving</td>\n",
       "      <td>https://matrackinc.com/dash-cams-with-cloud-st...</td>\n",
       "      <td>Top 6 Dash cams with Local and Cloud Storage -...</td>\n",
       "      <td>est dash cams with local and cloud storage for...</td>\n",
       "      <td>driving</td>\n",
       "      <td>Matrackinc -</td>\n",
       "      <td>wed love send info fill form query one team me...</td>\n",
       "      <td>cc by sa</td>\n",
       "      <td>en</td>\n",
       "      <td>NaN</td>\n",
       "      <td>NaN</td>\n",
       "    </tr>\n",
       "    <tr>\n",
       "      <th>3</th>\n",
       "      <td>Automotive</td>\n",
       "      <td>No Keywords Found</td>\n",
       "      <td>https://www.blackboxmycar.com/pages/license-pl...</td>\n",
       "      <td>License Plates in Dash Cam Footage — BlackboxM...</td>\n",
       "      <td>One of the reasons why you need a dash cam is ...</td>\n",
       "      <td>No Keywords Found</td>\n",
       "      <td>BlackboxMyCar</td>\n",
       "      <td>best dash cam best dash cam road incident inev...</td>\n",
       "      <td>cc by sa</td>\n",
       "      <td>en</td>\n",
       "      <td>NaN</td>\n",
       "      <td>NaN</td>\n",
       "    </tr>\n",
       "    <tr>\n",
       "      <th>4</th>\n",
       "      <td>Automotive</td>\n",
       "      <td>hybrid</td>\n",
       "      <td>https://www.hikvision.com/en/products/onboard-...</td>\n",
       "      <td>Industry Dash Camera - Dash Cameras - Hikvision</td>\n",
       "      <td>Hikvision dashcams provide a lightweight solut...</td>\n",
       "      <td>hybrid</td>\n",
       "      <td>Hikvision</td>\n",
       "      <td>login global en product network product networ...</td>\n",
       "      <td>cc by sa</td>\n",
       "      <td>en</td>\n",
       "      <td>NaN</td>\n",
       "      <td>NaN</td>\n",
       "    </tr>\n",
       "    <tr>\n",
       "      <th>...</th>\n",
       "      <td>...</td>\n",
       "      <td>...</td>\n",
       "      <td>...</td>\n",
       "      <td>...</td>\n",
       "      <td>...</td>\n",
       "      <td>...</td>\n",
       "      <td>...</td>\n",
       "      <td>...</td>\n",
       "      <td>...</td>\n",
       "      <td>...</td>\n",
       "      <td>...</td>\n",
       "      <td>...</td>\n",
       "    </tr>\n",
       "    <tr>\n",
       "      <th>33508</th>\n",
       "      <td>Automotive</td>\n",
       "      <td>styling</td>\n",
       "      <td>https://www.bikewale.com/new-bike-search/best-...</td>\n",
       "      <td>Best scooty under 60,000 | Top scooters under ...</td>\n",
       "      <td>Looking to buy a scooty under 60,000? Here is ...</td>\n",
       "      <td>styling</td>\n",
       "      <td>BikeWale</td>\n",
       "      <td>rating parameter design styling reliability co...</td>\n",
       "      <td>cc</td>\n",
       "      <td>en</td>\n",
       "      <td>NaN</td>\n",
       "      <td>NaN</td>\n",
       "    </tr>\n",
       "    <tr>\n",
       "      <th>33509</th>\n",
       "      <td>Automotive</td>\n",
       "      <td>No Keywords Found</td>\n",
       "      <td>https://www.expat.com/forum/viewtopic.php?id=9...</td>\n",
       "      <td>Motor Scooter question - Mexico forum - Expat.com</td>\n",
       "      <td>I my name is Kirk I am a US citizen living in ...</td>\n",
       "      <td>No Keywords Found</td>\n",
       "      <td>https://www.expat.com/</td>\n",
       "      <td>motor scooter question last activity april chi...</td>\n",
       "      <td>cc</td>\n",
       "      <td>en</td>\n",
       "      <td>NaN</td>\n",
       "      <td>NaN</td>\n",
       "    </tr>\n",
       "    <tr>\n",
       "      <th>33510</th>\n",
       "      <td>Automotive</td>\n",
       "      <td>employment</td>\n",
       "      <td>https://www.topgearpowersports.com/Inventory/A...</td>\n",
       "      <td>Scooters For Sale: Inventory at Top Gear Power...</td>\n",
       "      <td>Shop all in-stock Scooters inventory for sale ...</td>\n",
       "      <td>employment</td>\n",
       "      <td>Unknown Site</td>\n",
       "      <td>shop inventory sale dealership roselle illinoi...</td>\n",
       "      <td>cc</td>\n",
       "      <td>en</td>\n",
       "      <td>NaN</td>\n",
       "      <td>NaN</td>\n",
       "    </tr>\n",
       "    <tr>\n",
       "      <th>33511</th>\n",
       "      <td>Automotive</td>\n",
       "      <td>No Keywords Found</td>\n",
       "      <td>https://www.zigwheels.com/ola-electric-scooters</td>\n",
       "      <td>Ola Electric Scooters and Scooty Prices - New ...</td>\n",
       "      <td>Ola scooters offers 3 Electric models in price...</td>\n",
       "      <td>No Keywords Found</td>\n",
       "      <td>ZigWheels.com</td>\n",
       "      <td>ola electric scooter price start r x go upto r...</td>\n",
       "      <td>cc</td>\n",
       "      <td>en</td>\n",
       "      <td>NaN</td>\n",
       "      <td>NaN</td>\n",
       "    </tr>\n",
       "    <tr>\n",
       "      <th>33512</th>\n",
       "      <td>Automotive</td>\n",
       "      <td>government</td>\n",
       "      <td>https://www.nsw.gov.au/driving-boating-and-tra...</td>\n",
       "      <td>Learner rider licence | NSW Government</td>\n",
       "      <td>Once you're 16 and 9 months, you can apply for...</td>\n",
       "      <td>government</td>\n",
       "      <td>NSW Government</td>\n",
       "      <td>youre month apply learner licence ride motorcy...</td>\n",
       "      <td>cc</td>\n",
       "      <td>en</td>\n",
       "      <td>NaN</td>\n",
       "      <td>NaN</td>\n",
       "    </tr>\n",
       "  </tbody>\n",
       "</table>\n",
       "<p>33513 rows × 12 columns</p>\n",
       "</div>"
      ],
      "text/plain": [
       "           Tier 1             Tier 2  \\\n",
       "0      Automotive            driving   \n",
       "1      Automotive            driving   \n",
       "2      Automotive            driving   \n",
       "3      Automotive  No Keywords Found   \n",
       "4      Automotive             hybrid   \n",
       "...           ...                ...   \n",
       "33508  Automotive            styling   \n",
       "33509  Automotive  No Keywords Found   \n",
       "33510  Automotive         employment   \n",
       "33511  Automotive  No Keywords Found   \n",
       "33512  Automotive         government   \n",
       "\n",
       "                                                     URL  \\\n",
       "0           https://www.techradar.com/best/best-dash-cam   \n",
       "1      https://www.amazon.com/Camera-Built-170%C2%B0W...   \n",
       "2      https://matrackinc.com/dash-cams-with-cloud-st...   \n",
       "3      https://www.blackboxmycar.com/pages/license-pl...   \n",
       "4      https://www.hikvision.com/en/products/onboard-...   \n",
       "...                                                  ...   \n",
       "33508  https://www.bikewale.com/new-bike-search/best-...   \n",
       "33509  https://www.expat.com/forum/viewtopic.php?id=9...   \n",
       "33510  https://www.topgearpowersports.com/Inventory/A...   \n",
       "33511    https://www.zigwheels.com/ola-electric-scooters   \n",
       "33512  https://www.nsw.gov.au/driving-boating-and-tra...   \n",
       "\n",
       "                                                   Title  \\\n",
       "0      The best dash cam 2024: The latest car cameras...   \n",
       "1      Amazon.com: Dash Camera for Cars,4K Full UHD C...   \n",
       "2      Top 6 Dash cams with Local and Cloud Storage -...   \n",
       "3      License Plates in Dash Cam Footage — BlackboxM...   \n",
       "4        Industry Dash Camera - Dash Cameras - Hikvision   \n",
       "...                                                  ...   \n",
       "33508  Best scooty under 60,000 | Top scooters under ...   \n",
       "33509  Motor Scooter question - Mexico forum - Expat.com   \n",
       "33510  Scooters For Sale: Inventory at Top Gear Power...   \n",
       "33511  Ola Electric Scooters and Scooty Prices - New ...   \n",
       "33512             Learner rider licence | NSW Government   \n",
       "\n",
       "                                             Description           Keywords  \\\n",
       "0      Whatever your needs and budget, we've round up...            driving   \n",
       "1      Amazon.com: Dash Camera for Cars,4K Full UHD C...            driving   \n",
       "2      est dash cams with local and cloud storage for...            driving   \n",
       "3      One of the reasons why you need a dash cam is ...  No Keywords Found   \n",
       "4      Hikvision dashcams provide a lightweight solut...             hybrid   \n",
       "...                                                  ...                ...   \n",
       "33508  Looking to buy a scooty under 60,000? Here is ...            styling   \n",
       "33509  I my name is Kirk I am a US citizen living in ...  No Keywords Found   \n",
       "33510  Shop all in-stock Scooters inventory for sale ...         employment   \n",
       "33511  Ola scooters offers 3 Electric models in price...  No Keywords Found   \n",
       "33512  Once you're 16 and 9 months, you can apply for...         government   \n",
       "\n",
       "                    Site Name  \\\n",
       "0                   TechRadar   \n",
       "1                Unknown Site   \n",
       "2                Matrackinc -   \n",
       "3               BlackboxMyCar   \n",
       "4                   Hikvision   \n",
       "...                       ...   \n",
       "33508                BikeWale   \n",
       "33509  https://www.expat.com/   \n",
       "33510            Unknown Site   \n",
       "33511           ZigWheels.com   \n",
       "33512          NSW Government   \n",
       "\n",
       "                                                 Content   License Language  \\\n",
       "0      best dash cam nextbase garmin thinkware purcha...  cc by sa       en   \n",
       "1      offer easy convenient return least one free re...  cc by sa       en   \n",
       "2      wed love send info fill form query one team me...  cc by sa       en   \n",
       "3      best dash cam best dash cam road incident inev...  cc by sa       en   \n",
       "4      login global en product network product networ...  cc by sa       en   \n",
       "...                                                  ...       ...      ...   \n",
       "33508  rating parameter design styling reliability co...        cc       en   \n",
       "33509  motor scooter question last activity april chi...        cc       en   \n",
       "33510  shop inventory sale dealership roselle illinoi...        cc       en   \n",
       "33511  ola electric scooter price start r x go upto r...        cc       en   \n",
       "33512  youre month apply learner licence ride motorcy...        cc       en   \n",
       "\n",
       "      Tier 3 Tier 4  \n",
       "0        NaN    NaN  \n",
       "1        NaN    NaN  \n",
       "2        NaN    NaN  \n",
       "3        NaN    NaN  \n",
       "4        NaN    NaN  \n",
       "...      ...    ...  \n",
       "33508    NaN    NaN  \n",
       "33509    NaN    NaN  \n",
       "33510    NaN    NaN  \n",
       "33511    NaN    NaN  \n",
       "33512    NaN    NaN  \n",
       "\n",
       "[33513 rows x 12 columns]"
      ]
     },
     "execution_count": 19,
     "metadata": {},
     "output_type": "execute_result"
    }
   ],
   "source": [
    "df"
   ]
  },
  {
   "cell_type": "code",
   "execution_count": 4,
   "metadata": {},
   "outputs": [
    {
     "data": {
      "text/plain": [
       "['dash cam videos',\n",
       " 'auto type',\n",
       " 'auto body styles',\n",
       " 'industries',\n",
       " 'economy',\n",
       " 'business',\n",
       " nan,\n",
       " 'comics and graphic novels',\n",
       " 'fiction',\n",
       " 'remote working',\n",
       " 'job search',\n",
       " 'apprenticeships',\n",
       " 'vocational training',\n",
       " 'career planning',\n",
       " 'career advice',\n",
       " 'adult education',\n",
       " 'educational assessment',\n",
       " 'primary education',\n",
       " 'online education',\n",
       " 'adult contemporary music',\n",
       " 'rock music',\n",
       " 'comedy (music and audio)',\n",
       " \"children's music\",\n",
       " 'classic hits',\n",
       " 'classical music',\n",
       " 'alternative music',\n",
       " 'college education',\n",
       " 'homeschooling',\n",
       " 'music',\n",
       " 'television',\n",
       " 'college radio',\n",
       " 'country music',\n",
       " 'private school',\n",
       " 'secondary education',\n",
       " 'early childhood education',\n",
       " 'urban contemporary music',\n",
       " 'special education',\n",
       " 'dance and electronic music',\n",
       " 'variety (music and audio)',\n",
       " 'fan conventions',\n",
       " 'religious (music and audio)',\n",
       " 'gospel music',\n",
       " 'reggae',\n",
       " 'movies',\n",
       " 'hip hop music',\n",
       " 'language learning',\n",
       " 'business expos & conferences',\n",
       " 'awards shows',\n",
       " 'homework and study',\n",
       " 'jazz',\n",
       " 'soundtracks, tv and showtunes',\n",
       " 'blues',\n",
       " 'dating',\n",
       " 'bereavement',\n",
       " 'parenting',\n",
       " 'theater',\n",
       " 'dance',\n",
       " 'modern art',\n",
       " 'eldercare',\n",
       " 'single life',\n",
       " 'design',\n",
       " 'food movements',\n",
       " 'opera',\n",
       " 'cooking',\n",
       " 'desserts and baking',\n",
       " 'vegan diets',\n",
       " 'costume',\n",
       " 'barbecues and grilling',\n",
       " 'divorce',\n",
       " 'vegetarian diets',\n",
       " 'digital arts',\n",
       " 'arts and crafts',\n",
       " 'marriage and civil unions',\n",
       " 'food allergies',\n",
       " 'world cuisines',\n",
       " 'dining out',\n",
       " 'alcoholic beverages',\n",
       " 'non-alcoholic beverages',\n",
       " 'healthy cooking and eating',\n",
       " 'factual',\n",
       " 'soap opera',\n",
       " 'biographies',\n",
       " 'talk show',\n",
       " 'sports radio',\n",
       " 'drama',\n",
       " 'musical',\n",
       " 'history',\n",
       " 'holiday',\n",
       " 'western',\n",
       " 'lifestyle',\n",
       " '0',\n",
       " 'documentary',\n",
       " 'comedy',\n",
       " 'music video',\n",
       " 'horror',\n",
       " 'animation & anime',\n",
       " 'mystery',\n",
       " 'talk radio',\n",
       " 'reality tv',\n",
       " 'true crime',\n",
       " 'young adult',\n",
       " 'romance',\n",
       " 'fantasy',\n",
       " 'science fiction',\n",
       " 'fitness and exercise',\n",
       " 'weight loss',\n",
       " 'wellness',\n",
       " 'model toys',\n",
       " \"children's health\",\n",
       " 'nutrition',\n",
       " 'musical instruments',\n",
       " 'content production',\n",
       " 'games and puzzles',\n",
       " 'workshops and classes',\n",
       " 'senior health',\n",
       " 'beekeeping',\n",
       " 'collecting',\n",
       " 'antiquing and antiques',\n",
       " 'paranormal phenomena',\n",
       " 'landscaping',\n",
       " 'radio control',\n",
       " 'magic and illusion',\n",
       " 'birdwatching',\n",
       " 'home improvement',\n",
       " 'cigars',\n",
       " 'home appliances',\n",
       " \"women's health\",\n",
       " 'gardening',\n",
       " 'home security',\n",
       " 'national & civic holidays',\n",
       " 'smart home',\n",
       " 'interior decorating',\n",
       " 'home entertaining',\n",
       " \"men's health\",\n",
       " 'remodeling & construction',\n",
       " 'outdoor decorating',\n",
       " 'genealogy and ancestry',\n",
       " 'indoor environmental quality',\n",
       " 'sci-fi and fantasy',\n",
       " 'diseases and conditions',\n",
       " 'vaccines',\n",
       " 'cosmetic medical services',\n",
       " 'surgery',\n",
       " 'pharmaceutical drugs',\n",
       " 'adult album alternative',\n",
       " 'medical tests',\n",
       " 'personal investing',\n",
       " 'home utilities',\n",
       " 'baby shower',\n",
       " 'prom',\n",
       " 'financial assistance',\n",
       " 'anniversary',\n",
       " 'bachelorette party',\n",
       " 'birth',\n",
       " 'birthday',\n",
       " 'funeral',\n",
       " 'graduation',\n",
       " 'personal debt',\n",
       " 'consumer banking',\n",
       " 'retirement planning',\n",
       " 'cats',\n",
       " 'fish and aquariums',\n",
       " 'wedding',\n",
       " 'birds',\n",
       " 'dogs',\n",
       " 'insurance',\n",
       " 'personal taxes',\n",
       " 'financial planning',\n",
       " 'large animals',\n",
       " 'frugal living',\n",
       " 'elections',\n",
       " 'pet supplies',\n",
       " 'bachelor party',\n",
       " 'celebrity style',\n",
       " 'celebrity relationships',\n",
       " 'pet adoptions',\n",
       " 'celebrity families',\n",
       " 'civic affairs',\n",
       " 'celebrity deaths',\n",
       " 'veterinary medicine',\n",
       " 'celebrity homes',\n",
       " 'celebrity pregnancy',\n",
       " 'reptiles',\n",
       " 'humor and satire',\n",
       " 'celebrity scandal',\n",
       " 'political issues & policy',\n",
       " 'office property',\n",
       " 'industrial property',\n",
       " 'retail property',\n",
       " 'houses',\n",
       " 'islam',\n",
       " 'hotel properties',\n",
       " 'developmental sites',\n",
       " 'real estate renting and leasing',\n",
       " 'real estate buying and selling',\n",
       " 'vacation properties',\n",
       " 'agnosticism',\n",
       " 'apartments',\n",
       " 'sikhism',\n",
       " 'spirituality',\n",
       " 'christianity',\n",
       " 'hinduism',\n",
       " 'buddhism',\n",
       " 'judaism',\n",
       " 'atheism',\n",
       " 'land and farms',\n",
       " 'astrology',\n",
       " 'geology',\n",
       " 'chemistry',\n",
       " 'geography',\n",
       " 'genetics',\n",
       " 'biological sciences',\n",
       " 'space and astronomy',\n",
       " 'weather',\n",
       " 'obscenity and profanity',\n",
       " 'physics',\n",
       " 'environment',\n",
       " 'debated sensitive social issues',\n",
       " 'crime & harmful acts to individuals, society & human right violations',\n",
       " 'adult & explicit sexual content',\n",
       " 'arms & ammunition',\n",
       " 'illegal drugs, tobacco, ecigarettes, vaping, alcohol',\n",
       " \"children's games and toys\",\n",
       " 'death, injury, or military conflict',\n",
       " 'terrorism',\n",
       " 'hate speech and acts of aggression',\n",
       " 'coupons and discounts',\n",
       " 'spam or harmful content',\n",
       " \"women's fashion\",\n",
       " 'street style',\n",
       " 'online piracy',\n",
       " 'personal care',\n",
       " 'beauty',\n",
       " 'computing',\n",
       " 'augmented reality',\n",
       " 'consumer electronics',\n",
       " 'robotics',\n",
       " 'travel locations',\n",
       " 'artificial intelligence',\n",
       " 'virtual reality',\n",
       " 'travel accessories',\n",
       " 'travel preparation and advice',\n",
       " 'travel type',\n",
       " 'video game genres',\n",
       " 'pc games',\n",
       " 'mobile games',\n",
       " 'console games',\n",
       " 'esports',\n",
       " 'malls & shopping centers',\n",
       " 'amusement and theme parks',\n",
       " 'nightclubs',\n",
       " 'outdoor activities',\n",
       " 'casinos & gambling',\n",
       " 'historic site and landmark tours',\n",
       " 'auto technology',\n",
       " 'parks & nature',\n",
       " 'zoos & aquariums',\n",
       " 'auto recalls',\n",
       " 'auto shows',\n",
       " 'museums & galleries',\n",
       " 'motorcycles',\n",
       " 'theater venues',\n",
       " 'auto safety',\n",
       " 'auto insurance',\n",
       " 'car culture',\n",
       " 'road-side assistance',\n",
       " 'auto repair',\n",
       " 'bars & restaurants',\n",
       " 'auto buying and selling',\n",
       " 'scooters']"
      ]
     },
     "execution_count": 4,
     "metadata": {},
     "output_type": "execute_result"
    }
   ],
   "source": [
    "df['Tier 2'].unique().tolist()"
   ]
  },
  {
   "cell_type": "code",
   "execution_count": 21,
   "metadata": {},
   "outputs": [
    {
     "name": "stdout",
     "output_type": "stream",
     "text": [
      "Number of rows with 'No Keywords Found': 8526\n"
     ]
    }
   ],
   "source": [
    "# Count the number of rows where the 'Keywords' column has 'No Keywords Found'\n",
    "no_keywords_count = df[df['Tier 2'] == 'No Keywords Found'].shape[0]\n",
    "\n",
    "# Print the count\n",
    "print(f\"Number of rows with 'No Keywords Found': {no_keywords_count}\")"
   ]
  },
  {
   "cell_type": "code",
   "execution_count": 22,
   "metadata": {},
   "outputs": [
    {
     "name": "stdout",
     "output_type": "stream",
     "text": [
      "           Tier 1      Tier 2  \\\n",
      "0      Automotive     driving   \n",
      "1      Automotive     driving   \n",
      "2      Automotive     driving   \n",
      "3      Automotive               \n",
      "4      Automotive      hybrid   \n",
      "...           ...         ...   \n",
      "33508  Automotive     styling   \n",
      "33509  Automotive               \n",
      "33510  Automotive  employment   \n",
      "33511  Automotive               \n",
      "33512  Automotive  government   \n",
      "\n",
      "                                                     URL  \\\n",
      "0           https://www.techradar.com/best/best-dash-cam   \n",
      "1      https://www.amazon.com/Camera-Built-170%C2%B0W...   \n",
      "2      https://matrackinc.com/dash-cams-with-cloud-st...   \n",
      "3      https://www.blackboxmycar.com/pages/license-pl...   \n",
      "4      https://www.hikvision.com/en/products/onboard-...   \n",
      "...                                                  ...   \n",
      "33508  https://www.bikewale.com/new-bike-search/best-...   \n",
      "33509  https://www.expat.com/forum/viewtopic.php?id=9...   \n",
      "33510  https://www.topgearpowersports.com/Inventory/A...   \n",
      "33511    https://www.zigwheels.com/ola-electric-scooters   \n",
      "33512  https://www.nsw.gov.au/driving-boating-and-tra...   \n",
      "\n",
      "                                                   Title  \\\n",
      "0      The best dash cam 2024: The latest car cameras...   \n",
      "1      Amazon.com: Dash Camera for Cars,4K Full UHD C...   \n",
      "2      Top 6 Dash cams with Local and Cloud Storage -...   \n",
      "3      License Plates in Dash Cam Footage — BlackboxM...   \n",
      "4        Industry Dash Camera - Dash Cameras - Hikvision   \n",
      "...                                                  ...   \n",
      "33508  Best scooty under 60,000 | Top scooters under ...   \n",
      "33509  Motor Scooter question - Mexico forum - Expat.com   \n",
      "33510  Scooters For Sale: Inventory at Top Gear Power...   \n",
      "33511  Ola Electric Scooters and Scooty Prices - New ...   \n",
      "33512             Learner rider licence | NSW Government   \n",
      "\n",
      "                                             Description           Keywords  \\\n",
      "0      Whatever your needs and budget, we've round up...            driving   \n",
      "1      Amazon.com: Dash Camera for Cars,4K Full UHD C...            driving   \n",
      "2      est dash cams with local and cloud storage for...            driving   \n",
      "3      One of the reasons why you need a dash cam is ...  No Keywords Found   \n",
      "4      Hikvision dashcams provide a lightweight solut...             hybrid   \n",
      "...                                                  ...                ...   \n",
      "33508  Looking to buy a scooty under 60,000? Here is ...            styling   \n",
      "33509  I my name is Kirk I am a US citizen living in ...  No Keywords Found   \n",
      "33510  Shop all in-stock Scooters inventory for sale ...         employment   \n",
      "33511  Ola scooters offers 3 Electric models in price...  No Keywords Found   \n",
      "33512  Once you're 16 and 9 months, you can apply for...         government   \n",
      "\n",
      "                    Site Name  \\\n",
      "0                   TechRadar   \n",
      "1                Unknown Site   \n",
      "2                Matrackinc -   \n",
      "3               BlackboxMyCar   \n",
      "4                   Hikvision   \n",
      "...                       ...   \n",
      "33508                BikeWale   \n",
      "33509  https://www.expat.com/   \n",
      "33510            Unknown Site   \n",
      "33511           ZigWheels.com   \n",
      "33512          NSW Government   \n",
      "\n",
      "                                                 Content   License Language  \\\n",
      "0      best dash cam nextbase garmin thinkware purcha...  cc by sa       en   \n",
      "1      offer easy convenient return least one free re...  cc by sa       en   \n",
      "2      wed love send info fill form query one team me...  cc by sa       en   \n",
      "3      best dash cam best dash cam road incident inev...  cc by sa       en   \n",
      "4      login global en product network product networ...  cc by sa       en   \n",
      "...                                                  ...       ...      ...   \n",
      "33508  rating parameter design styling reliability co...        cc       en   \n",
      "33509  motor scooter question last activity april chi...        cc       en   \n",
      "33510  shop inventory sale dealership roselle illinoi...        cc       en   \n",
      "33511  ola electric scooter price start r x go upto r...        cc       en   \n",
      "33512  youre month apply learner licence ride motorcy...        cc       en   \n",
      "\n",
      "      Tier 3 Tier 4  \n",
      "0        NaN    NaN  \n",
      "1        NaN    NaN  \n",
      "2        NaN    NaN  \n",
      "3        NaN    NaN  \n",
      "4        NaN    NaN  \n",
      "...      ...    ...  \n",
      "33508    NaN    NaN  \n",
      "33509    NaN    NaN  \n",
      "33510    NaN    NaN  \n",
      "33511    NaN    NaN  \n",
      "33512    NaN    NaN  \n",
      "\n",
      "[33513 rows x 12 columns]\n"
     ]
    }
   ],
   "source": [
    "# Set the rows with 'No Keywords Found' to empty (NaN)\n",
    "df.loc[df['Tier 2'] == 'No Keywords Found', 'Tier 2'] = \"\"\n",
    "\n",
    "# Display the updated DataFrame\n",
    "print(df)"
   ]
  },
  {
   "cell_type": "code",
   "execution_count": 23,
   "metadata": {},
   "outputs": [
    {
     "data": {
      "text/html": [
       "<div>\n",
       "<style scoped>\n",
       "    .dataframe tbody tr th:only-of-type {\n",
       "        vertical-align: middle;\n",
       "    }\n",
       "\n",
       "    .dataframe tbody tr th {\n",
       "        vertical-align: top;\n",
       "    }\n",
       "\n",
       "    .dataframe thead th {\n",
       "        text-align: right;\n",
       "    }\n",
       "</style>\n",
       "<table border=\"1\" class=\"dataframe\">\n",
       "  <thead>\n",
       "    <tr style=\"text-align: right;\">\n",
       "      <th></th>\n",
       "      <th>Tier 1</th>\n",
       "      <th>Tier 2</th>\n",
       "      <th>URL</th>\n",
       "      <th>Title</th>\n",
       "      <th>Description</th>\n",
       "      <th>Keywords</th>\n",
       "      <th>Site Name</th>\n",
       "      <th>Content</th>\n",
       "      <th>License</th>\n",
       "      <th>Language</th>\n",
       "      <th>Tier 3</th>\n",
       "      <th>Tier 4</th>\n",
       "    </tr>\n",
       "  </thead>\n",
       "  <tbody>\n",
       "    <tr>\n",
       "      <th>0</th>\n",
       "      <td>Automotive</td>\n",
       "      <td>driving</td>\n",
       "      <td>https://www.techradar.com/best/best-dash-cam</td>\n",
       "      <td>The best dash cam 2024: The latest car cameras...</td>\n",
       "      <td>Whatever your needs and budget, we've round up...</td>\n",
       "      <td>driving</td>\n",
       "      <td>TechRadar</td>\n",
       "      <td>best dash cam nextbase garmin thinkware purcha...</td>\n",
       "      <td>cc by sa</td>\n",
       "      <td>en</td>\n",
       "      <td>NaN</td>\n",
       "      <td>NaN</td>\n",
       "    </tr>\n",
       "    <tr>\n",
       "      <th>1</th>\n",
       "      <td>Automotive</td>\n",
       "      <td>driving</td>\n",
       "      <td>https://www.amazon.com/Camera-Built-170%C2%B0W...</td>\n",
       "      <td>Amazon.com: Dash Camera for Cars,4K Full UHD C...</td>\n",
       "      <td>Amazon.com: Dash Camera for Cars,4K Full UHD C...</td>\n",
       "      <td>driving</td>\n",
       "      <td>Unknown Site</td>\n",
       "      <td>offer easy convenient return least one free re...</td>\n",
       "      <td>cc by sa</td>\n",
       "      <td>en</td>\n",
       "      <td>NaN</td>\n",
       "      <td>NaN</td>\n",
       "    </tr>\n",
       "    <tr>\n",
       "      <th>2</th>\n",
       "      <td>Automotive</td>\n",
       "      <td>driving</td>\n",
       "      <td>https://matrackinc.com/dash-cams-with-cloud-st...</td>\n",
       "      <td>Top 6 Dash cams with Local and Cloud Storage -...</td>\n",
       "      <td>est dash cams with local and cloud storage for...</td>\n",
       "      <td>driving</td>\n",
       "      <td>Matrackinc -</td>\n",
       "      <td>wed love send info fill form query one team me...</td>\n",
       "      <td>cc by sa</td>\n",
       "      <td>en</td>\n",
       "      <td>NaN</td>\n",
       "      <td>NaN</td>\n",
       "    </tr>\n",
       "    <tr>\n",
       "      <th>3</th>\n",
       "      <td>Automotive</td>\n",
       "      <td></td>\n",
       "      <td>https://www.blackboxmycar.com/pages/license-pl...</td>\n",
       "      <td>License Plates in Dash Cam Footage — BlackboxM...</td>\n",
       "      <td>One of the reasons why you need a dash cam is ...</td>\n",
       "      <td>No Keywords Found</td>\n",
       "      <td>BlackboxMyCar</td>\n",
       "      <td>best dash cam best dash cam road incident inev...</td>\n",
       "      <td>cc by sa</td>\n",
       "      <td>en</td>\n",
       "      <td>NaN</td>\n",
       "      <td>NaN</td>\n",
       "    </tr>\n",
       "    <tr>\n",
       "      <th>4</th>\n",
       "      <td>Automotive</td>\n",
       "      <td>hybrid</td>\n",
       "      <td>https://www.hikvision.com/en/products/onboard-...</td>\n",
       "      <td>Industry Dash Camera - Dash Cameras - Hikvision</td>\n",
       "      <td>Hikvision dashcams provide a lightweight solut...</td>\n",
       "      <td>hybrid</td>\n",
       "      <td>Hikvision</td>\n",
       "      <td>login global en product network product networ...</td>\n",
       "      <td>cc by sa</td>\n",
       "      <td>en</td>\n",
       "      <td>NaN</td>\n",
       "      <td>NaN</td>\n",
       "    </tr>\n",
       "    <tr>\n",
       "      <th>...</th>\n",
       "      <td>...</td>\n",
       "      <td>...</td>\n",
       "      <td>...</td>\n",
       "      <td>...</td>\n",
       "      <td>...</td>\n",
       "      <td>...</td>\n",
       "      <td>...</td>\n",
       "      <td>...</td>\n",
       "      <td>...</td>\n",
       "      <td>...</td>\n",
       "      <td>...</td>\n",
       "      <td>...</td>\n",
       "    </tr>\n",
       "    <tr>\n",
       "      <th>33508</th>\n",
       "      <td>Automotive</td>\n",
       "      <td>styling</td>\n",
       "      <td>https://www.bikewale.com/new-bike-search/best-...</td>\n",
       "      <td>Best scooty under 60,000 | Top scooters under ...</td>\n",
       "      <td>Looking to buy a scooty under 60,000? Here is ...</td>\n",
       "      <td>styling</td>\n",
       "      <td>BikeWale</td>\n",
       "      <td>rating parameter design styling reliability co...</td>\n",
       "      <td>cc</td>\n",
       "      <td>en</td>\n",
       "      <td>NaN</td>\n",
       "      <td>NaN</td>\n",
       "    </tr>\n",
       "    <tr>\n",
       "      <th>33509</th>\n",
       "      <td>Automotive</td>\n",
       "      <td></td>\n",
       "      <td>https://www.expat.com/forum/viewtopic.php?id=9...</td>\n",
       "      <td>Motor Scooter question - Mexico forum - Expat.com</td>\n",
       "      <td>I my name is Kirk I am a US citizen living in ...</td>\n",
       "      <td>No Keywords Found</td>\n",
       "      <td>https://www.expat.com/</td>\n",
       "      <td>motor scooter question last activity april chi...</td>\n",
       "      <td>cc</td>\n",
       "      <td>en</td>\n",
       "      <td>NaN</td>\n",
       "      <td>NaN</td>\n",
       "    </tr>\n",
       "    <tr>\n",
       "      <th>33510</th>\n",
       "      <td>Automotive</td>\n",
       "      <td>employment</td>\n",
       "      <td>https://www.topgearpowersports.com/Inventory/A...</td>\n",
       "      <td>Scooters For Sale: Inventory at Top Gear Power...</td>\n",
       "      <td>Shop all in-stock Scooters inventory for sale ...</td>\n",
       "      <td>employment</td>\n",
       "      <td>Unknown Site</td>\n",
       "      <td>shop inventory sale dealership roselle illinoi...</td>\n",
       "      <td>cc</td>\n",
       "      <td>en</td>\n",
       "      <td>NaN</td>\n",
       "      <td>NaN</td>\n",
       "    </tr>\n",
       "    <tr>\n",
       "      <th>33511</th>\n",
       "      <td>Automotive</td>\n",
       "      <td></td>\n",
       "      <td>https://www.zigwheels.com/ola-electric-scooters</td>\n",
       "      <td>Ola Electric Scooters and Scooty Prices - New ...</td>\n",
       "      <td>Ola scooters offers 3 Electric models in price...</td>\n",
       "      <td>No Keywords Found</td>\n",
       "      <td>ZigWheels.com</td>\n",
       "      <td>ola electric scooter price start r x go upto r...</td>\n",
       "      <td>cc</td>\n",
       "      <td>en</td>\n",
       "      <td>NaN</td>\n",
       "      <td>NaN</td>\n",
       "    </tr>\n",
       "    <tr>\n",
       "      <th>33512</th>\n",
       "      <td>Automotive</td>\n",
       "      <td>government</td>\n",
       "      <td>https://www.nsw.gov.au/driving-boating-and-tra...</td>\n",
       "      <td>Learner rider licence | NSW Government</td>\n",
       "      <td>Once you're 16 and 9 months, you can apply for...</td>\n",
       "      <td>government</td>\n",
       "      <td>NSW Government</td>\n",
       "      <td>youre month apply learner licence ride motorcy...</td>\n",
       "      <td>cc</td>\n",
       "      <td>en</td>\n",
       "      <td>NaN</td>\n",
       "      <td>NaN</td>\n",
       "    </tr>\n",
       "  </tbody>\n",
       "</table>\n",
       "<p>33513 rows × 12 columns</p>\n",
       "</div>"
      ],
      "text/plain": [
       "           Tier 1      Tier 2  \\\n",
       "0      Automotive     driving   \n",
       "1      Automotive     driving   \n",
       "2      Automotive     driving   \n",
       "3      Automotive               \n",
       "4      Automotive      hybrid   \n",
       "...           ...         ...   \n",
       "33508  Automotive     styling   \n",
       "33509  Automotive               \n",
       "33510  Automotive  employment   \n",
       "33511  Automotive               \n",
       "33512  Automotive  government   \n",
       "\n",
       "                                                     URL  \\\n",
       "0           https://www.techradar.com/best/best-dash-cam   \n",
       "1      https://www.amazon.com/Camera-Built-170%C2%B0W...   \n",
       "2      https://matrackinc.com/dash-cams-with-cloud-st...   \n",
       "3      https://www.blackboxmycar.com/pages/license-pl...   \n",
       "4      https://www.hikvision.com/en/products/onboard-...   \n",
       "...                                                  ...   \n",
       "33508  https://www.bikewale.com/new-bike-search/best-...   \n",
       "33509  https://www.expat.com/forum/viewtopic.php?id=9...   \n",
       "33510  https://www.topgearpowersports.com/Inventory/A...   \n",
       "33511    https://www.zigwheels.com/ola-electric-scooters   \n",
       "33512  https://www.nsw.gov.au/driving-boating-and-tra...   \n",
       "\n",
       "                                                   Title  \\\n",
       "0      The best dash cam 2024: The latest car cameras...   \n",
       "1      Amazon.com: Dash Camera for Cars,4K Full UHD C...   \n",
       "2      Top 6 Dash cams with Local and Cloud Storage -...   \n",
       "3      License Plates in Dash Cam Footage — BlackboxM...   \n",
       "4        Industry Dash Camera - Dash Cameras - Hikvision   \n",
       "...                                                  ...   \n",
       "33508  Best scooty under 60,000 | Top scooters under ...   \n",
       "33509  Motor Scooter question - Mexico forum - Expat.com   \n",
       "33510  Scooters For Sale: Inventory at Top Gear Power...   \n",
       "33511  Ola Electric Scooters and Scooty Prices - New ...   \n",
       "33512             Learner rider licence | NSW Government   \n",
       "\n",
       "                                             Description           Keywords  \\\n",
       "0      Whatever your needs and budget, we've round up...            driving   \n",
       "1      Amazon.com: Dash Camera for Cars,4K Full UHD C...            driving   \n",
       "2      est dash cams with local and cloud storage for...            driving   \n",
       "3      One of the reasons why you need a dash cam is ...  No Keywords Found   \n",
       "4      Hikvision dashcams provide a lightweight solut...             hybrid   \n",
       "...                                                  ...                ...   \n",
       "33508  Looking to buy a scooty under 60,000? Here is ...            styling   \n",
       "33509  I my name is Kirk I am a US citizen living in ...  No Keywords Found   \n",
       "33510  Shop all in-stock Scooters inventory for sale ...         employment   \n",
       "33511  Ola scooters offers 3 Electric models in price...  No Keywords Found   \n",
       "33512  Once you're 16 and 9 months, you can apply for...         government   \n",
       "\n",
       "                    Site Name  \\\n",
       "0                   TechRadar   \n",
       "1                Unknown Site   \n",
       "2                Matrackinc -   \n",
       "3               BlackboxMyCar   \n",
       "4                   Hikvision   \n",
       "...                       ...   \n",
       "33508                BikeWale   \n",
       "33509  https://www.expat.com/   \n",
       "33510            Unknown Site   \n",
       "33511           ZigWheels.com   \n",
       "33512          NSW Government   \n",
       "\n",
       "                                                 Content   License Language  \\\n",
       "0      best dash cam nextbase garmin thinkware purcha...  cc by sa       en   \n",
       "1      offer easy convenient return least one free re...  cc by sa       en   \n",
       "2      wed love send info fill form query one team me...  cc by sa       en   \n",
       "3      best dash cam best dash cam road incident inev...  cc by sa       en   \n",
       "4      login global en product network product networ...  cc by sa       en   \n",
       "...                                                  ...       ...      ...   \n",
       "33508  rating parameter design styling reliability co...        cc       en   \n",
       "33509  motor scooter question last activity april chi...        cc       en   \n",
       "33510  shop inventory sale dealership roselle illinoi...        cc       en   \n",
       "33511  ola electric scooter price start r x go upto r...        cc       en   \n",
       "33512  youre month apply learner licence ride motorcy...        cc       en   \n",
       "\n",
       "      Tier 3 Tier 4  \n",
       "0        NaN    NaN  \n",
       "1        NaN    NaN  \n",
       "2        NaN    NaN  \n",
       "3        NaN    NaN  \n",
       "4        NaN    NaN  \n",
       "...      ...    ...  \n",
       "33508    NaN    NaN  \n",
       "33509    NaN    NaN  \n",
       "33510    NaN    NaN  \n",
       "33511    NaN    NaN  \n",
       "33512    NaN    NaN  \n",
       "\n",
       "[33513 rows x 12 columns]"
      ]
     },
     "execution_count": 23,
     "metadata": {},
     "output_type": "execute_result"
    }
   ],
   "source": [
    "df"
   ]
  },
  {
   "cell_type": "code",
   "execution_count": 24,
   "metadata": {},
   "outputs": [
    {
     "name": "stdout",
     "output_type": "stream",
     "text": [
      "           Tier 1      Tier 2  \\\n",
      "0      Automotive     driving   \n",
      "1      Automotive     driving   \n",
      "2      Automotive     driving   \n",
      "3      Automotive      hybrid   \n",
      "4      Automotive      hybrid   \n",
      "...           ...         ...   \n",
      "24982  Automotive   adventure   \n",
      "24983  Automotive    research   \n",
      "24984  Automotive     styling   \n",
      "24985  Automotive  employment   \n",
      "24986  Automotive  government   \n",
      "\n",
      "                                                     URL  \\\n",
      "0           https://www.techradar.com/best/best-dash-cam   \n",
      "1      https://www.amazon.com/Camera-Built-170%C2%B0W...   \n",
      "2      https://matrackinc.com/dash-cams-with-cloud-st...   \n",
      "3      https://www.hikvision.com/en/products/onboard-...   \n",
      "4                          https://www.hikvision.com/en/   \n",
      "...                                                  ...   \n",
      "24982          https://www.riders-share.com/type/scooter   \n",
      "24983                                https://tvsabl.com/   \n",
      "24984  https://www.bikewale.com/new-bike-search/best-...   \n",
      "24985  https://www.topgearpowersports.com/Inventory/A...   \n",
      "24986  https://www.nsw.gov.au/driving-boating-and-tra...   \n",
      "\n",
      "                                                   Title  \\\n",
      "0      The best dash cam 2024: The latest car cameras...   \n",
      "1      Amazon.com: Dash Camera for Cars,4K Full UHD C...   \n",
      "2      Top 6 Dash cams with Local and Cloud Storage -...   \n",
      "3        Industry Dash Camera - Dash Cameras - Hikvision   \n",
      "4      Hikvision - Leading Video AIoT Solutions & Ser...   \n",
      "...                                                  ...   \n",
      "24982     Scooter Rentals & Moped Rentals - Riders Share   \n",
      "24983  Best Two Wheeler in Bangladesh - Bike, Scooter...   \n",
      "24984  Best scooty under 60,000 | Top scooters under ...   \n",
      "24985  Scooters For Sale: Inventory at Top Gear Power...   \n",
      "24986             Learner rider licence | NSW Government   \n",
      "\n",
      "                                             Description    Keywords  \\\n",
      "0      Whatever your needs and budget, we've round up...     driving   \n",
      "1      Amazon.com: Dash Camera for Cars,4K Full UHD C...     driving   \n",
      "2      est dash cams with local and cloud storage for...     driving   \n",
      "3      Hikvision dashcams provide a lightweight solut...      hybrid   \n",
      "4      Hikvision provides top-of-the-line AIoT soluti...      hybrid   \n",
      "...                                                  ...         ...   \n",
      "24982  Rent a scooter or moped across the United Stat...   adventure   \n",
      "24983  : TVS Auto Bangladesh Limited - Find the best ...    research   \n",
      "24984  Looking to buy a scooty under 60,000? Here is ...     styling   \n",
      "24985  Shop all in-stock Scooters inventory for sale ...  employment   \n",
      "24986  Once you're 16 and 9 months, you can apply for...  government   \n",
      "\n",
      "                         Site Name  \\\n",
      "0                        TechRadar   \n",
      "1                     Unknown Site   \n",
      "2                     Matrackinc -   \n",
      "3                        Hikvision   \n",
      "4                        Hikvision   \n",
      "...                            ...   \n",
      "24982                 Unknown Site   \n",
      "24983  TVS Auto Bangladesh Limited   \n",
      "24984                     BikeWale   \n",
      "24985                 Unknown Site   \n",
      "24986               NSW Government   \n",
      "\n",
      "                                                 Content   License Language  \\\n",
      "0      best dash cam nextbase garmin thinkware purcha...  cc by sa       en   \n",
      "1      offer easy convenient return least one free re...  cc by sa       en   \n",
      "2      wed love send info fill form query one team me...  cc by sa       en   \n",
      "3      login global en product network product networ...  cc by sa       en   \n",
      "4      login global en product network product networ...  cc by sa       en   \n",
      "...                                                  ...       ...      ...   \n",
      "24982  step world motor scooter moped rental convenie...        cc       en   \n",
      "24983  imposing gaze thatll stop track sound thats ro...        cc       en   \n",
      "24984  rating parameter design styling reliability co...        cc       en   \n",
      "24985  shop inventory sale dealership roselle illinoi...        cc       en   \n",
      "24986  youre month apply learner licence ride motorcy...        cc       en   \n",
      "\n",
      "      Tier 3 Tier 4  \n",
      "0        NaN    NaN  \n",
      "1        NaN    NaN  \n",
      "2        NaN    NaN  \n",
      "3        NaN    NaN  \n",
      "4        NaN    NaN  \n",
      "...      ...    ...  \n",
      "24982    NaN    NaN  \n",
      "24983    NaN    NaN  \n",
      "24984    NaN    NaN  \n",
      "24985    NaN    NaN  \n",
      "24986    NaN    NaN  \n",
      "\n",
      "[24987 rows x 12 columns]\n"
     ]
    }
   ],
   "source": [
    "# df = df.dropna(subset=['Tier 2'])\n",
    "# Drop rows where 'Tier 2' is an empty string\n",
    "df = df[df['Tier 2'].str.strip() != '']\n",
    "\n",
    "# Reset index after dropping rows (optional)\n",
    "df = df.reset_index(drop=True)\n",
    "\n",
    "# Display the updated DataFrame\n",
    "print(df)"
   ]
  },
  {
   "cell_type": "code",
   "execution_count": 25,
   "metadata": {},
   "outputs": [
    {
     "data": {
      "text/plain": [
       "(24987, 12)"
      ]
     },
     "execution_count": 25,
     "metadata": {},
     "output_type": "execute_result"
    }
   ],
   "source": [
    "df.shape"
   ]
  },
  {
   "cell_type": "code",
   "execution_count": 5,
   "metadata": {},
   "outputs": [],
   "source": [
    "from neo4j import GraphDatabase\n",
    "import pandas as pd"
   ]
  },
  {
   "cell_type": "code",
   "execution_count": 7,
   "metadata": {},
   "outputs": [
    {
     "name": "stdout",
     "output_type": "stream",
     "text": [
      "       Tier 1           Tier 2  \\\n",
      "0  Automotive  dash cam videos   \n",
      "1  Automotive  dash cam videos   \n",
      "2  Automotive  dash cam videos   \n",
      "3  Automotive  dash cam videos   \n",
      "4  Automotive  dash cam videos   \n",
      "\n",
      "                                                 URL  \\\n",
      "0       https://www.techradar.com/best/best-dash-cam   \n",
      "1  https://www.amazon.com/Camera-Built-170%C2%B0W...   \n",
      "2  https://matrackinc.com/dash-cams-with-cloud-st...   \n",
      "3  https://www.blackboxmycar.com/pages/license-pl...   \n",
      "4  https://www.hikvision.com/en/products/onboard-...   \n",
      "\n",
      "                                               Title  \\\n",
      "0  The best dash cam 2024: The latest car cameras...   \n",
      "1  Amazon.com: Dash Camera for Cars,4K Full UHD C...   \n",
      "2  Top 6 Dash cams with Local and Cloud Storage -...   \n",
      "3  License Plates in Dash Cam Footage — BlackboxM...   \n",
      "4    Industry Dash Camera - Dash Cameras - Hikvision   \n",
      "\n",
      "                                         Description      Keywords  \\\n",
      "0  Whatever your needs and budget, we've round up...           NaN   \n",
      "1  Amazon.com: Dash Camera for Cars,4K Full UHD C...           NaN   \n",
      "2  est dash cams with local and cloud storage for...           NaN   \n",
      "3  One of the reasons why you need a dash cam is ...           NaN   \n",
      "4  Hikvision dashcams provide a lightweight solut...  dash cameras   \n",
      "\n",
      "       Site Name                                            Content   License  \\\n",
      "0      TechRadar  best dash cam nextbase garmin thinkware purcha...  cc by sa   \n",
      "1   Unknown Site  offer easy convenient return least one free re...  cc by sa   \n",
      "2   Matrackinc -  wed love send info fill form query one team me...  cc by sa   \n",
      "3  BlackboxMyCar  best dash cam best dash cam road incident inev...  cc by sa   \n",
      "4      Hikvision  login global en product network product networ...  cc by sa   \n",
      "\n",
      "  Language Tier 3 Tier 4  \n",
      "0       en    NaN    NaN  \n",
      "1       en    NaN    NaN  \n",
      "2       en    NaN    NaN  \n",
      "3       en    NaN    NaN  \n",
      "4       en    NaN    NaN  \n"
     ]
    }
   ],
   "source": [
    "# Remove rows where Tier 2 has NaN values\n",
    "df = df.dropna(subset=['Tier 2'])\n",
    "\n",
    "# Display the updated DataFrame\n",
    "print(df.head())"
   ]
  },
  {
   "cell_type": "code",
   "execution_count": 9,
   "metadata": {},
   "outputs": [
    {
     "name": "stderr",
     "output_type": "stream",
     "text": [
      "C:\\Users\\Kaneki\\AppData\\Local\\Temp\\ipykernel_10260\\1363553792.py:23: DeprecationWarning: write_transaction has been renamed to execute_write\n",
      "  session.write_transaction(create_graph, tier1, tier2)\n"
     ]
    },
    {
     "name": "stdout",
     "output_type": "stream",
     "text": [
      "Automotive -> dash cam videos\n",
      "Automotive -> auto type\n",
      "Automotive -> auto body styles\n",
      "Automotive -> auto technology\n",
      "Automotive -> auto recalls\n",
      "Automotive -> auto shows\n",
      "Automotive -> motorcycles\n",
      "Automotive -> auto safety\n",
      "Automotive -> auto insurance\n",
      "Automotive -> car culture\n",
      "Automotive -> road-side assistance\n",
      "Automotive -> auto repair\n",
      "Automotive -> auto buying and selling\n",
      "Automotive -> scooters\n",
      "Business and Finance -> industries\n",
      "Business and Finance -> economy\n",
      "Business and Finance -> business\n",
      "Books and Literature -> comics and graphic novels\n",
      "Books and Literature -> fiction\n",
      "Careers -> remote working\n",
      "Careers -> job search\n",
      "Careers -> apprenticeships\n",
      "Careers -> vocational training\n",
      "Careers -> career planning\n",
      "Careers -> career advice\n",
      "Education -> adult education\n",
      "Education -> educational assessment\n",
      "Education -> primary education\n",
      "Education -> online education\n",
      "Education -> college education\n",
      "Education -> homeschooling\n",
      "Education -> private school\n",
      "Education -> secondary education\n",
      "Education -> early childhood education\n",
      "Education -> special education\n",
      "Education -> language learning\n",
      "Education -> homework and study\n",
      "Entertainment -> adult contemporary music\n",
      "Entertainment -> rock music\n",
      "Entertainment -> comedy (music and audio)\n",
      "Entertainment -> children's music\n",
      "Entertainment -> classic hits\n",
      "Entertainment -> classical music\n",
      "Entertainment -> alternative music\n",
      "Entertainment -> music\n",
      "Entertainment -> television\n",
      "Entertainment -> college radio\n",
      "Entertainment -> country music\n",
      "Entertainment -> urban contemporary music\n",
      "Entertainment -> dance and electronic music\n",
      "Entertainment -> variety (music and audio)\n",
      "Entertainment -> religious (music and audio)\n",
      "Entertainment -> gospel music\n",
      "Entertainment -> reggae\n",
      "Entertainment -> movies\n",
      "Entertainment -> hip hop music\n",
      "Entertainment -> jazz\n",
      "Entertainment -> soundtracks, tv and showtunes\n",
      "Entertainment -> blues\n",
      "Events -> fan conventions\n",
      "Events -> business expos & conferences\n",
      "Events -> awards shows\n",
      "Family and Relationships -> dating\n",
      "Family and Relationships -> bereavement\n",
      "Family and Relationships -> parenting\n",
      "Family and Relationships -> eldercare\n",
      "Family and Relationships -> single life\n",
      "Family and Relationships -> divorce\n",
      "Family and Relationships -> marriage and civil unions\n",
      "Fine Art -> theater\n",
      "Fine Art -> dance\n",
      "Fine Art -> modern art\n",
      "Fine Art -> design\n",
      "Fine Art -> opera\n",
      "Fine Art -> costume\n",
      "Fine Art -> digital arts\n",
      "Food & Drink -> food movements\n",
      "Food & Drink -> cooking\n",
      "Food & Drink -> desserts and baking\n",
      "Food & Drink -> vegan diets\n",
      "Food & Drink -> barbecues and grilling\n",
      "Food & Drink -> vegetarian diets\n",
      "Food & Drink -> food allergies\n",
      "Food & Drink -> world cuisines\n",
      "Food & Drink -> dining out\n",
      "Food & Drink -> alcoholic beverages\n",
      "Food & Drink -> non-alcoholic beverages\n",
      "Food & Drink -> healthy cooking and eating\n",
      "Hobbies & Interests -> arts and crafts\n",
      "Hobbies & Interests -> model toys\n",
      "Hobbies & Interests -> musical instruments\n",
      "Hobbies & Interests -> content production\n",
      "Hobbies & Interests -> games and puzzles\n",
      "Hobbies & Interests -> workshops and classes\n",
      "Hobbies & Interests -> beekeeping\n",
      "Hobbies & Interests -> collecting\n",
      "Hobbies & Interests -> antiquing and antiques\n",
      "Hobbies & Interests -> paranormal phenomena\n",
      "Hobbies & Interests -> radio control\n",
      "Hobbies & Interests -> magic and illusion\n",
      "Hobbies & Interests -> birdwatching\n",
      "Hobbies & Interests -> cigars\n",
      "Hobbies & Interests -> genealogy and ancestry\n",
      "Hobbies & Interests -> sci-fi and fantasy\n",
      "Genres -> factual\n",
      "Genres -> soap opera\n",
      "Genres -> biographies\n",
      "Genres -> talk show\n",
      "Genres -> sports radio\n",
      "Genres -> drama\n",
      "Genres -> musical\n",
      "Genres -> history\n",
      "Genres -> holiday\n",
      "Genres -> western\n",
      "Genres -> lifestyle\n",
      "Genres -> 0\n",
      "Genres -> documentary\n",
      "Genres -> comedy\n",
      "Genres -> music video\n",
      "Genres -> horror\n",
      "Genres -> animation & anime\n",
      "Genres -> mystery\n",
      "Genres -> talk radio\n",
      "Genres -> reality tv\n",
      "Genres -> true crime\n",
      "Genres -> young adult\n",
      "Genres -> romance\n",
      "Genres -> fantasy\n",
      "Genres -> science fiction\n",
      "Healthy Living -> fitness and exercise\n",
      "Healthy Living -> weight loss\n",
      "Healthy Living -> wellness\n",
      "Healthy Living -> children's health\n",
      "Healthy Living -> nutrition\n",
      "Healthy Living -> senior health\n",
      "Healthy Living -> women's health\n",
      "Healthy Living -> men's health\n",
      "Home & Garden -> landscaping\n",
      "Home & Garden -> home improvement\n",
      "Home & Garden -> home appliances\n",
      "Home & Garden -> gardening\n",
      "Home & Garden -> home security\n",
      "Home & Garden -> smart home\n",
      "Home & Garden -> interior decorating\n",
      "Home & Garden -> home entertaining\n",
      "Home & Garden -> remodeling & construction\n",
      "Home & Garden -> outdoor decorating\n",
      "Home & Garden -> indoor environmental quality\n",
      "Holidays -> national & civic holidays\n",
      "Medical Health -> diseases and conditions\n",
      "Medical Health -> vaccines\n",
      "Medical Health -> cosmetic medical services\n",
      "Medical Health -> surgery\n",
      "Medical Health -> pharmaceutical drugs\n",
      "Medical Health -> adult album alternative\n",
      "Medical Health -> medical tests\n",
      "Personal Finance -> personal investing\n",
      "Personal Finance -> home utilities\n",
      "Personal Finance -> financial assistance\n",
      "Personal Finance -> personal debt\n",
      "Personal Finance -> consumer banking\n",
      "Personal Finance -> retirement planning\n",
      "Personal Finance -> insurance\n",
      "Personal Finance -> personal taxes\n",
      "Personal Finance -> financial planning\n",
      "Personal Finance -> frugal living\n",
      "Personal Celebrations & Life Events -> 0\n",
      "Personal Celebrations & Life Events -> baby shower\n",
      "Personal Celebrations & Life Events -> prom\n",
      "Personal Celebrations & Life Events -> anniversary\n",
      "Personal Celebrations & Life Events -> bachelorette party\n",
      "Personal Celebrations & Life Events -> birth\n",
      "Personal Celebrations & Life Events -> birthday\n",
      "Personal Celebrations & Life Events -> funeral\n",
      "Personal Celebrations & Life Events -> graduation\n",
      "Personal Celebrations & Life Events -> wedding\n",
      "Personal Celebrations & Life Events -> bachelor party\n",
      "Pets -> cats\n",
      "Pets -> fish and aquariums\n",
      "Pets -> birds\n",
      "Pets -> dogs\n",
      "Pets -> large animals\n",
      "Pets -> pet supplies\n",
      "Pets -> pet adoptions\n",
      "Pets -> veterinary medicine\n",
      "Pets -> reptiles\n",
      "Politics -> elections\n",
      "Politics -> civic affairs\n",
      "Politics -> political issues & policy\n",
      "Pop Culture -> celebrity style\n",
      "Pop Culture -> celebrity relationships\n",
      "Pop Culture -> celebrity families\n",
      "Pop Culture -> celebrity deaths\n",
      "Pop Culture -> celebrity homes\n",
      "Pop Culture -> celebrity pregnancy\n",
      "Pop Culture -> humor and satire\n",
      "Pop Culture -> celebrity scandal\n",
      "Real Estate -> office property\n",
      "Real Estate -> industrial property\n",
      "Real Estate -> retail property\n",
      "Real Estate -> houses\n",
      "Real Estate -> hotel properties\n",
      "Real Estate -> developmental sites\n",
      "Real Estate -> real estate renting and leasing\n",
      "Real Estate -> real estate buying and selling\n",
      "Real Estate -> vacation properties\n",
      "Real Estate -> apartments\n",
      "Real Estate -> land and farms\n",
      "Religion & Spirituality -> islam\n",
      "Religion & Spirituality -> agnosticism\n",
      "Religion & Spirituality -> sikhism\n",
      "Religion & Spirituality -> spirituality\n",
      "Religion & Spirituality -> christianity\n",
      "Religion & Spirituality -> hinduism\n",
      "Religion & Spirituality -> buddhism\n",
      "Religion & Spirituality -> judaism\n",
      "Religion & Spirituality -> atheism\n",
      "Religion & Spirituality -> astrology\n",
      "Science -> geology\n",
      "Science -> chemistry\n",
      "Science -> geography\n",
      "Science -> genetics\n",
      "Science -> biological sciences\n",
      "Science -> space and astronomy\n",
      "Science -> weather\n",
      "Science -> physics\n",
      "Science -> environment\n",
      "Sensitive Topics -> obscenity and profanity\n",
      "Sensitive Topics -> debated sensitive social issues\n",
      "Sensitive Topics -> crime & harmful acts to individuals, society & human right violations\n",
      "Sensitive Topics -> adult & explicit sexual content\n",
      "Sensitive Topics -> arms & ammunition\n",
      "Sensitive Topics -> illegal drugs, tobacco, ecigarettes, vaping, alcohol\n",
      "Sensitive Topics -> death, injury, or military conflict\n",
      "Sensitive Topics -> terrorism\n",
      "Sensitive Topics -> hate speech and acts of aggression\n",
      "Sensitive Topics -> spam or harmful content\n",
      "Sensitive Topics -> online piracy\n",
      "Shopping -> children's games and toys\n",
      "Shopping -> coupons and discounts\n",
      "Style & Fashion -> women's fashion\n",
      "Style & Fashion -> street style\n",
      "Style & Fashion -> personal care\n",
      "Style & Fashion -> beauty\n",
      "Technology & Computing -> computing\n",
      "Technology & Computing -> augmented reality\n",
      "Technology & Computing -> consumer electronics\n",
      "Technology & Computing -> robotics\n",
      "Technology & Computing -> artificial intelligence\n",
      "Technology & Computing -> virtual reality\n",
      "Travel -> travel locations\n",
      "Travel -> travel accessories\n",
      "Travel -> travel preparation and advice\n",
      "Travel -> travel type\n",
      "Video Gaming -> video game genres\n",
      "Video Gaming -> pc games\n",
      "Video Gaming -> mobile games\n",
      "Video Gaming -> console games\n",
      "Video Gaming -> esports\n",
      "Attractions -> malls & shopping centers\n",
      "Attractions -> amusement and theme parks\n",
      "Attractions -> nightclubs\n",
      "Attractions -> outdoor activities\n",
      "Attractions -> casinos & gambling\n",
      "Attractions -> historic site and landmark tours\n",
      "Attractions -> parks & nature\n",
      "Attractions -> zoos & aquariums\n",
      "Attractions -> museums & galleries\n",
      "Attractions -> theater venues\n",
      "Attractions -> bars & restaurants\n"
     ]
    },
    {
     "name": "stderr",
     "output_type": "stream",
     "text": [
      "C:\\Users\\Kaneki\\AppData\\Local\\Temp\\ipykernel_10260\\1363553792.py:36: DeprecationWarning: read_transaction has been renamed to execute_read\n",
      "  session.read_transaction(query_graph)\n"
     ]
    }
   ],
   "source": [
    "\n",
    "# Connect to Neo4j\n",
    "uri = \"bolt://localhost:7687\"  # Change this to your Neo4j URI\n",
    "username = \"neo4j\"\n",
    "password = \"kenkaneki\"  # Replace with your password\n",
    "driver = GraphDatabase.driver(uri, auth=(username, password))\n",
    "\n",
    "def create_graph(tx, tier1, tier2):\n",
    "    # Create nodes for Tier 1 and Tier 2\n",
    "    tx.run(\"MERGE (t1:Tier1 {name: $tier1})\", tier1=tier1)\n",
    "    tx.run(\"MERGE (t2:Tier2 {name: $tier2})\", tier2=tier2)\n",
    "    \n",
    "    # Create relationship between Tier 1 and Tier 2\n",
    "    tx.run(\"\"\"\n",
    "        MATCH (t1:Tier1 {name: $tier1}), (t2:Tier2 {name: $tier2})\n",
    "        MERGE (t1)-[:RELATED_TO]->(t2)\n",
    "    \"\"\", tier1=tier1, tier2=tier2)\n",
    "\n",
    "def build_knowledge_graph(df):\n",
    "    with driver.session() as session:\n",
    "        for _, row in df.iterrows():\n",
    "            tier1 = row['Tier 1']\n",
    "            tier2 = row['Tier 2']\n",
    "            session.write_transaction(create_graph, tier1, tier2)\n",
    "\n",
    "# Build the graph\n",
    "build_knowledge_graph(df)\n",
    "\n",
    "# Query the graph to check the result\n",
    "def query_graph(tx):\n",
    "    result = tx.run(\"MATCH (t1:Tier1)-[:RELATED_TO]->(t2:Tier2) RETURN t1.name, t2.name\")\n",
    "    for record in result:\n",
    "        print(f\"{record['t1.name']} -> {record['t2.name']}\")\n",
    "\n",
    "# Query the graph\n",
    "with driver.session() as session:\n",
    "    session.read_transaction(query_graph)"
   ]
  },
  {
   "cell_type": "code",
   "execution_count": 28,
   "metadata": {},
   "outputs": [
    {
     "data": {
      "text/plain": [
       "0        False\n",
       "1        False\n",
       "2        False\n",
       "3        False\n",
       "4        False\n",
       "         ...  \n",
       "24982    False\n",
       "24983    False\n",
       "24984    False\n",
       "24985    False\n",
       "24986    False\n",
       "Name: Tier 2, Length: 24987, dtype: bool"
      ]
     },
     "execution_count": 28,
     "metadata": {},
     "output_type": "execute_result"
    }
   ],
   "source": [
    "df['Tier 2'].isna()"
   ]
  },
  {
   "cell_type": "code",
   "execution_count": 29,
   "metadata": {},
   "outputs": [
    {
     "data": {
      "text/html": [
       "<div>\n",
       "<style scoped>\n",
       "    .dataframe tbody tr th:only-of-type {\n",
       "        vertical-align: middle;\n",
       "    }\n",
       "\n",
       "    .dataframe tbody tr th {\n",
       "        vertical-align: top;\n",
       "    }\n",
       "\n",
       "    .dataframe thead th {\n",
       "        text-align: right;\n",
       "    }\n",
       "</style>\n",
       "<table border=\"1\" class=\"dataframe\">\n",
       "  <thead>\n",
       "    <tr style=\"text-align: right;\">\n",
       "      <th></th>\n",
       "      <th>Tier 1</th>\n",
       "      <th>Tier 2</th>\n",
       "      <th>URL</th>\n",
       "      <th>Title</th>\n",
       "      <th>Description</th>\n",
       "      <th>Keywords</th>\n",
       "      <th>Site Name</th>\n",
       "      <th>Content</th>\n",
       "      <th>License</th>\n",
       "      <th>Language</th>\n",
       "      <th>Tier 3</th>\n",
       "      <th>Tier 4</th>\n",
       "    </tr>\n",
       "  </thead>\n",
       "  <tbody>\n",
       "    <tr>\n",
       "      <th>0</th>\n",
       "      <td>Automotive</td>\n",
       "      <td>driving</td>\n",
       "      <td>https://www.techradar.com/best/best-dash-cam</td>\n",
       "      <td>The best dash cam 2024: The latest car cameras...</td>\n",
       "      <td>Whatever your needs and budget, we've round up...</td>\n",
       "      <td>driving</td>\n",
       "      <td>TechRadar</td>\n",
       "      <td>best dash cam nextbase garmin thinkware purcha...</td>\n",
       "      <td>cc by sa</td>\n",
       "      <td>en</td>\n",
       "      <td>NaN</td>\n",
       "      <td>NaN</td>\n",
       "    </tr>\n",
       "    <tr>\n",
       "      <th>1</th>\n",
       "      <td>Automotive</td>\n",
       "      <td>driving</td>\n",
       "      <td>https://www.amazon.com/Camera-Built-170%C2%B0W...</td>\n",
       "      <td>Amazon.com: Dash Camera for Cars,4K Full UHD C...</td>\n",
       "      <td>Amazon.com: Dash Camera for Cars,4K Full UHD C...</td>\n",
       "      <td>driving</td>\n",
       "      <td>Unknown Site</td>\n",
       "      <td>offer easy convenient return least one free re...</td>\n",
       "      <td>cc by sa</td>\n",
       "      <td>en</td>\n",
       "      <td>NaN</td>\n",
       "      <td>NaN</td>\n",
       "    </tr>\n",
       "    <tr>\n",
       "      <th>2</th>\n",
       "      <td>Automotive</td>\n",
       "      <td>driving</td>\n",
       "      <td>https://matrackinc.com/dash-cams-with-cloud-st...</td>\n",
       "      <td>Top 6 Dash cams with Local and Cloud Storage -...</td>\n",
       "      <td>est dash cams with local and cloud storage for...</td>\n",
       "      <td>driving</td>\n",
       "      <td>Matrackinc -</td>\n",
       "      <td>wed love send info fill form query one team me...</td>\n",
       "      <td>cc by sa</td>\n",
       "      <td>en</td>\n",
       "      <td>NaN</td>\n",
       "      <td>NaN</td>\n",
       "    </tr>\n",
       "    <tr>\n",
       "      <th>3</th>\n",
       "      <td>Automotive</td>\n",
       "      <td>hybrid</td>\n",
       "      <td>https://www.hikvision.com/en/products/onboard-...</td>\n",
       "      <td>Industry Dash Camera - Dash Cameras - Hikvision</td>\n",
       "      <td>Hikvision dashcams provide a lightweight solut...</td>\n",
       "      <td>hybrid</td>\n",
       "      <td>Hikvision</td>\n",
       "      <td>login global en product network product networ...</td>\n",
       "      <td>cc by sa</td>\n",
       "      <td>en</td>\n",
       "      <td>NaN</td>\n",
       "      <td>NaN</td>\n",
       "    </tr>\n",
       "    <tr>\n",
       "      <th>4</th>\n",
       "      <td>Automotive</td>\n",
       "      <td>hybrid</td>\n",
       "      <td>https://www.hikvision.com/en/</td>\n",
       "      <td>Hikvision - Leading Video AIoT Solutions &amp; Ser...</td>\n",
       "      <td>Hikvision provides top-of-the-line AIoT soluti...</td>\n",
       "      <td>hybrid</td>\n",
       "      <td>Hikvision</td>\n",
       "      <td>login global en product network product networ...</td>\n",
       "      <td>cc by sa</td>\n",
       "      <td>en</td>\n",
       "      <td>NaN</td>\n",
       "      <td>NaN</td>\n",
       "    </tr>\n",
       "    <tr>\n",
       "      <th>...</th>\n",
       "      <td>...</td>\n",
       "      <td>...</td>\n",
       "      <td>...</td>\n",
       "      <td>...</td>\n",
       "      <td>...</td>\n",
       "      <td>...</td>\n",
       "      <td>...</td>\n",
       "      <td>...</td>\n",
       "      <td>...</td>\n",
       "      <td>...</td>\n",
       "      <td>...</td>\n",
       "      <td>...</td>\n",
       "    </tr>\n",
       "    <tr>\n",
       "      <th>24982</th>\n",
       "      <td>Automotive</td>\n",
       "      <td>adventure</td>\n",
       "      <td>https://www.riders-share.com/type/scooter</td>\n",
       "      <td>Scooter Rentals &amp; Moped Rentals - Riders Share</td>\n",
       "      <td>Rent a scooter or moped across the United Stat...</td>\n",
       "      <td>adventure</td>\n",
       "      <td>Unknown Site</td>\n",
       "      <td>step world motor scooter moped rental convenie...</td>\n",
       "      <td>cc</td>\n",
       "      <td>en</td>\n",
       "      <td>NaN</td>\n",
       "      <td>NaN</td>\n",
       "    </tr>\n",
       "    <tr>\n",
       "      <th>24983</th>\n",
       "      <td>Automotive</td>\n",
       "      <td>research</td>\n",
       "      <td>https://tvsabl.com/</td>\n",
       "      <td>Best Two Wheeler in Bangladesh - Bike, Scooter...</td>\n",
       "      <td>: TVS Auto Bangladesh Limited - Find the best ...</td>\n",
       "      <td>research</td>\n",
       "      <td>TVS Auto Bangladesh Limited</td>\n",
       "      <td>imposing gaze thatll stop track sound thats ro...</td>\n",
       "      <td>cc</td>\n",
       "      <td>en</td>\n",
       "      <td>NaN</td>\n",
       "      <td>NaN</td>\n",
       "    </tr>\n",
       "    <tr>\n",
       "      <th>24984</th>\n",
       "      <td>Automotive</td>\n",
       "      <td>styling</td>\n",
       "      <td>https://www.bikewale.com/new-bike-search/best-...</td>\n",
       "      <td>Best scooty under 60,000 | Top scooters under ...</td>\n",
       "      <td>Looking to buy a scooty under 60,000? Here is ...</td>\n",
       "      <td>styling</td>\n",
       "      <td>BikeWale</td>\n",
       "      <td>rating parameter design styling reliability co...</td>\n",
       "      <td>cc</td>\n",
       "      <td>en</td>\n",
       "      <td>NaN</td>\n",
       "      <td>NaN</td>\n",
       "    </tr>\n",
       "    <tr>\n",
       "      <th>24985</th>\n",
       "      <td>Automotive</td>\n",
       "      <td>employment</td>\n",
       "      <td>https://www.topgearpowersports.com/Inventory/A...</td>\n",
       "      <td>Scooters For Sale: Inventory at Top Gear Power...</td>\n",
       "      <td>Shop all in-stock Scooters inventory for sale ...</td>\n",
       "      <td>employment</td>\n",
       "      <td>Unknown Site</td>\n",
       "      <td>shop inventory sale dealership roselle illinoi...</td>\n",
       "      <td>cc</td>\n",
       "      <td>en</td>\n",
       "      <td>NaN</td>\n",
       "      <td>NaN</td>\n",
       "    </tr>\n",
       "    <tr>\n",
       "      <th>24986</th>\n",
       "      <td>Automotive</td>\n",
       "      <td>government</td>\n",
       "      <td>https://www.nsw.gov.au/driving-boating-and-tra...</td>\n",
       "      <td>Learner rider licence | NSW Government</td>\n",
       "      <td>Once you're 16 and 9 months, you can apply for...</td>\n",
       "      <td>government</td>\n",
       "      <td>NSW Government</td>\n",
       "      <td>youre month apply learner licence ride motorcy...</td>\n",
       "      <td>cc</td>\n",
       "      <td>en</td>\n",
       "      <td>NaN</td>\n",
       "      <td>NaN</td>\n",
       "    </tr>\n",
       "  </tbody>\n",
       "</table>\n",
       "<p>24987 rows × 12 columns</p>\n",
       "</div>"
      ],
      "text/plain": [
       "           Tier 1      Tier 2  \\\n",
       "0      Automotive     driving   \n",
       "1      Automotive     driving   \n",
       "2      Automotive     driving   \n",
       "3      Automotive      hybrid   \n",
       "4      Automotive      hybrid   \n",
       "...           ...         ...   \n",
       "24982  Automotive   adventure   \n",
       "24983  Automotive    research   \n",
       "24984  Automotive     styling   \n",
       "24985  Automotive  employment   \n",
       "24986  Automotive  government   \n",
       "\n",
       "                                                     URL  \\\n",
       "0           https://www.techradar.com/best/best-dash-cam   \n",
       "1      https://www.amazon.com/Camera-Built-170%C2%B0W...   \n",
       "2      https://matrackinc.com/dash-cams-with-cloud-st...   \n",
       "3      https://www.hikvision.com/en/products/onboard-...   \n",
       "4                          https://www.hikvision.com/en/   \n",
       "...                                                  ...   \n",
       "24982          https://www.riders-share.com/type/scooter   \n",
       "24983                                https://tvsabl.com/   \n",
       "24984  https://www.bikewale.com/new-bike-search/best-...   \n",
       "24985  https://www.topgearpowersports.com/Inventory/A...   \n",
       "24986  https://www.nsw.gov.au/driving-boating-and-tra...   \n",
       "\n",
       "                                                   Title  \\\n",
       "0      The best dash cam 2024: The latest car cameras...   \n",
       "1      Amazon.com: Dash Camera for Cars,4K Full UHD C...   \n",
       "2      Top 6 Dash cams with Local and Cloud Storage -...   \n",
       "3        Industry Dash Camera - Dash Cameras - Hikvision   \n",
       "4      Hikvision - Leading Video AIoT Solutions & Ser...   \n",
       "...                                                  ...   \n",
       "24982     Scooter Rentals & Moped Rentals - Riders Share   \n",
       "24983  Best Two Wheeler in Bangladesh - Bike, Scooter...   \n",
       "24984  Best scooty under 60,000 | Top scooters under ...   \n",
       "24985  Scooters For Sale: Inventory at Top Gear Power...   \n",
       "24986             Learner rider licence | NSW Government   \n",
       "\n",
       "                                             Description    Keywords  \\\n",
       "0      Whatever your needs and budget, we've round up...     driving   \n",
       "1      Amazon.com: Dash Camera for Cars,4K Full UHD C...     driving   \n",
       "2      est dash cams with local and cloud storage for...     driving   \n",
       "3      Hikvision dashcams provide a lightweight solut...      hybrid   \n",
       "4      Hikvision provides top-of-the-line AIoT soluti...      hybrid   \n",
       "...                                                  ...         ...   \n",
       "24982  Rent a scooter or moped across the United Stat...   adventure   \n",
       "24983  : TVS Auto Bangladesh Limited - Find the best ...    research   \n",
       "24984  Looking to buy a scooty under 60,000? Here is ...     styling   \n",
       "24985  Shop all in-stock Scooters inventory for sale ...  employment   \n",
       "24986  Once you're 16 and 9 months, you can apply for...  government   \n",
       "\n",
       "                         Site Name  \\\n",
       "0                        TechRadar   \n",
       "1                     Unknown Site   \n",
       "2                     Matrackinc -   \n",
       "3                        Hikvision   \n",
       "4                        Hikvision   \n",
       "...                            ...   \n",
       "24982                 Unknown Site   \n",
       "24983  TVS Auto Bangladesh Limited   \n",
       "24984                     BikeWale   \n",
       "24985                 Unknown Site   \n",
       "24986               NSW Government   \n",
       "\n",
       "                                                 Content   License Language  \\\n",
       "0      best dash cam nextbase garmin thinkware purcha...  cc by sa       en   \n",
       "1      offer easy convenient return least one free re...  cc by sa       en   \n",
       "2      wed love send info fill form query one team me...  cc by sa       en   \n",
       "3      login global en product network product networ...  cc by sa       en   \n",
       "4      login global en product network product networ...  cc by sa       en   \n",
       "...                                                  ...       ...      ...   \n",
       "24982  step world motor scooter moped rental convenie...        cc       en   \n",
       "24983  imposing gaze thatll stop track sound thats ro...        cc       en   \n",
       "24984  rating parameter design styling reliability co...        cc       en   \n",
       "24985  shop inventory sale dealership roselle illinoi...        cc       en   \n",
       "24986  youre month apply learner licence ride motorcy...        cc       en   \n",
       "\n",
       "      Tier 3 Tier 4  \n",
       "0        NaN    NaN  \n",
       "1        NaN    NaN  \n",
       "2        NaN    NaN  \n",
       "3        NaN    NaN  \n",
       "4        NaN    NaN  \n",
       "...      ...    ...  \n",
       "24982    NaN    NaN  \n",
       "24983    NaN    NaN  \n",
       "24984    NaN    NaN  \n",
       "24985    NaN    NaN  \n",
       "24986    NaN    NaN  \n",
       "\n",
       "[24987 rows x 12 columns]"
      ]
     },
     "execution_count": 29,
     "metadata": {},
     "output_type": "execute_result"
    }
   ],
   "source": [
    "df"
   ]
  },
  {
   "cell_type": "code",
   "execution_count": 30,
   "metadata": {},
   "outputs": [],
   "source": [
    "df['combined_text'] = df['Title'] + \" \" + df['Description'] + \" \" + df['Content']\n"
   ]
  },
  {
   "cell_type": "code",
   "execution_count": 31,
   "metadata": {},
   "outputs": [],
   "source": [
    "# Drop rows with NaN values in 'combined_text'\n",
    "df = df.dropna(subset=['combined_text'])\n",
    "\n"
   ]
  },
  {
   "cell_type": "code",
   "execution_count": 32,
   "metadata": {},
   "outputs": [],
   "source": [
    "df.to_csv('new_file.csv', index=False)"
   ]
  },
  {
   "cell_type": "code",
   "execution_count": null,
   "metadata": {},
   "outputs": [
    {
     "name": "stdout",
     "output_type": "stream",
     "text": [
      "24512 24512\n"
     ]
    },
    {
     "name": "stderr",
     "output_type": "stream",
     "text": [
      "w:\\repos\\IAB_Ad_Classification_Project\\.venv\\Lib\\site-packages\\sklearn\\utils\\__init__.py:17: UserWarning: A NumPy version >=1.23.5 and <2.3.0 is required for this version of SciPy (detected version 1.23.0)\n",
      "  from scipy.sparse import issparse\n"
     ]
    }
   ],
   "source": [
    "# Ensure X and y are created from the filtered DataFrame\n",
    "X = df['combined_text']\n",
    "y = df['Tier 1']\n",
    "\n",
    "# Check if lengths match\n",
    "print(len(X), len(y))  # Should output the same number\n",
    "\n",
    "# Proceed with your vectorizer and model\n",
    "from sklearn.model_selection import train_test_split\n",
    "from sklearn.feature_extraction.text import CountVectorizer\n",
    "\n",
    "# Split data into train and test sets\n",
    "X_train, X_test, y_train, y_test = train_test_split(X, y, test_size=0.2, random_state=42)\n",
    "\n",
    "# Convert text data to feature vectors\n",
    "vectorizer = CountVectorizer()\n",
    "X_train_vec = vectorizer.fit_transform(X_train)\n",
    "X_test_vec = vectorizer.transform(X_test)\n",
    "\n"
   ]
  },
  {
   "cell_type": "code",
   "execution_count": 2,
   "metadata": {},
   "outputs": [
    {
     "name": "stdout",
     "output_type": "stream",
     "text": [
      "False\n"
     ]
    }
   ],
   "source": [
    "import torch\n",
    "print(torch.cuda.is_available())"
   ]
  },
  {
   "cell_type": "code",
   "execution_count": 3,
   "metadata": {},
   "outputs": [],
   "source": [
    "device = torch.device(\"cuda\" if torch.cuda.is_available() else \"cpu\")"
   ]
  },
  {
   "cell_type": "code",
   "execution_count": 4,
   "metadata": {},
   "outputs": [
    {
     "data": {
      "text/plain": [
       "device(type='cpu')"
      ]
     },
     "execution_count": 4,
     "metadata": {},
     "output_type": "execute_result"
    }
   ],
   "source": [
    "device"
   ]
  },
  {
   "cell_type": "code",
   "execution_count": 30,
   "metadata": {},
   "outputs": [
    {
     "name": "stderr",
     "output_type": "stream",
     "text": [
      "w:\\repos\\IAB_Ad_Classification_Project\\.venv\\Lib\\site-packages\\tqdm\\auto.py:21: TqdmWarning: IProgress not found. Please update jupyter and ipywidgets. See https://ipywidgets.readthedocs.io/en/stable/user_install.html\n",
      "  from .autonotebook import tqdm as notebook_tqdm\n",
      "Some weights of BertForSequenceClassification were not initialized from the model checkpoint at bert-base-uncased and are newly initialized: ['classifier.bias', 'classifier.weight']\n",
      "You should probably TRAIN this model on a down-stream task to be able to use it for predictions and inference.\n",
      "w:\\repos\\IAB_Ad_Classification_Project\\.venv\\Lib\\site-packages\\transformers\\training_args.py:1575: FutureWarning: `evaluation_strategy` is deprecated and will be removed in version 4.46 of 🤗 Transformers. Use `eval_strategy` instead\n",
      "  warnings.warn(\n",
      "C:\\Users\\Kaneki\\AppData\\Local\\Temp\\ipykernel_10280\\2139101551.py:68: FutureWarning: `tokenizer` is deprecated and will be removed in version 5.0.0 for `Trainer.__init__`. Use `processing_class` instead.\n",
      "  trainer = Trainer(\n",
      "  0%|          | 10/7356 [00:39<6:42:14,  3.29s/it]"
     ]
    },
    {
     "name": "stdout",
     "output_type": "stream",
     "text": [
      "{'loss': 3.6101, 'grad_norm': 9.023456573486328, 'learning_rate': 1.9972811310494834e-05, 'epoch': 0.0}\n"
     ]
    },
    {
     "name": "stderr",
     "output_type": "stream",
     "text": [
      "  0%|          | 20/7356 [01:13<6:56:12,  3.40s/it]"
     ]
    },
    {
     "name": "stdout",
     "output_type": "stream",
     "text": [
      "{'loss': 3.5229, 'grad_norm': 11.199978828430176, 'learning_rate': 1.994562262098967e-05, 'epoch': 0.01}\n"
     ]
    },
    {
     "name": "stderr",
     "output_type": "stream",
     "text": [
      "  0%|          | 30/7356 [01:45<6:29:21,  3.19s/it]"
     ]
    },
    {
     "name": "stdout",
     "output_type": "stream",
     "text": [
      "{'loss': 3.3843, 'grad_norm': 7.86586332321167, 'learning_rate': 1.9918433931484503e-05, 'epoch': 0.01}\n"
     ]
    },
    {
     "name": "stderr",
     "output_type": "stream",
     "text": [
      "  1%|          | 40/7356 [02:17<6:45:15,  3.32s/it]"
     ]
    },
    {
     "name": "stdout",
     "output_type": "stream",
     "text": [
      "{'loss': 3.3277, 'grad_norm': 8.853838920593262, 'learning_rate': 1.989124524197934e-05, 'epoch': 0.02}\n"
     ]
    },
    {
     "name": "stderr",
     "output_type": "stream",
     "text": [
      "  1%|          | 50/7356 [02:48<6:02:27,  2.98s/it]"
     ]
    },
    {
     "name": "stdout",
     "output_type": "stream",
     "text": [
      "{'loss': 3.4325, 'grad_norm': 8.5264310836792, 'learning_rate': 1.986405655247417e-05, 'epoch': 0.02}\n"
     ]
    },
    {
     "name": "stderr",
     "output_type": "stream",
     "text": [
      "  1%|          | 60/7356 [03:19<5:53:06,  2.90s/it]"
     ]
    },
    {
     "name": "stdout",
     "output_type": "stream",
     "text": [
      "{'loss': 3.3176, 'grad_norm': 8.992729187011719, 'learning_rate': 1.9836867862969008e-05, 'epoch': 0.02}\n"
     ]
    },
    {
     "name": "stderr",
     "output_type": "stream",
     "text": [
      "  1%|          | 70/7356 [03:51<6:56:24,  3.43s/it]"
     ]
    },
    {
     "name": "stdout",
     "output_type": "stream",
     "text": [
      "{'loss': 3.176, 'grad_norm': 9.51366901397705, 'learning_rate': 1.980967917346384e-05, 'epoch': 0.03}\n"
     ]
    },
    {
     "name": "stderr",
     "output_type": "stream",
     "text": [
      "  1%|          | 80/7356 [04:23<6:15:24,  3.10s/it]"
     ]
    },
    {
     "name": "stdout",
     "output_type": "stream",
     "text": [
      "{'loss': 3.0645, 'grad_norm': 7.474613666534424, 'learning_rate': 1.9782490483958673e-05, 'epoch': 0.03}\n"
     ]
    },
    {
     "name": "stderr",
     "output_type": "stream",
     "text": [
      "  1%|          | 90/7356 [04:53<6:07:08,  3.03s/it]"
     ]
    },
    {
     "name": "stdout",
     "output_type": "stream",
     "text": [
      "{'loss': 3.201, 'grad_norm': 12.805421829223633, 'learning_rate': 1.975530179445351e-05, 'epoch': 0.04}\n"
     ]
    },
    {
     "name": "stderr",
     "output_type": "stream",
     "text": [
      "  1%|▏         | 100/7356 [05:23<6:07:40,  3.04s/it]"
     ]
    },
    {
     "name": "stdout",
     "output_type": "stream",
     "text": [
      "{'loss': 3.0134, 'grad_norm': 10.682880401611328, 'learning_rate': 1.972811310494834e-05, 'epoch': 0.04}\n"
     ]
    },
    {
     "name": "stderr",
     "output_type": "stream",
     "text": [
      "  1%|▏         | 110/7356 [05:55<6:10:45,  3.07s/it]"
     ]
    },
    {
     "name": "stdout",
     "output_type": "stream",
     "text": [
      "{'loss': 2.9818, 'grad_norm': 8.510932922363281, 'learning_rate': 1.9700924415443178e-05, 'epoch': 0.04}\n"
     ]
    },
    {
     "name": "stderr",
     "output_type": "stream",
     "text": [
      "  2%|▏         | 120/7356 [06:26<6:14:52,  3.11s/it]"
     ]
    },
    {
     "name": "stdout",
     "output_type": "stream",
     "text": [
      "{'loss': 2.9609, 'grad_norm': 8.874650001525879, 'learning_rate': 1.9673735725938014e-05, 'epoch': 0.05}\n"
     ]
    },
    {
     "name": "stderr",
     "output_type": "stream",
     "text": [
      "  2%|▏         | 130/7356 [07:00<6:55:27,  3.45s/it]"
     ]
    },
    {
     "name": "stdout",
     "output_type": "stream",
     "text": [
      "{'loss': 2.8655, 'grad_norm': 8.101019859313965, 'learning_rate': 1.9646547036432846e-05, 'epoch': 0.05}\n"
     ]
    },
    {
     "name": "stderr",
     "output_type": "stream",
     "text": [
      "  2%|▏         | 140/7356 [07:33<6:33:51,  3.27s/it]"
     ]
    },
    {
     "name": "stdout",
     "output_type": "stream",
     "text": [
      "{'loss': 2.9915, 'grad_norm': 10.179691314697266, 'learning_rate': 1.961935834692768e-05, 'epoch': 0.06}\n"
     ]
    },
    {
     "name": "stderr",
     "output_type": "stream",
     "text": [
      "  2%|▏         | 150/7356 [08:06<6:42:51,  3.35s/it]"
     ]
    },
    {
     "name": "stdout",
     "output_type": "stream",
     "text": [
      "{'loss': 2.6873, 'grad_norm': 8.060829162597656, 'learning_rate': 1.959216965742251e-05, 'epoch': 0.06}\n"
     ]
    },
    {
     "name": "stderr",
     "output_type": "stream",
     "text": [
      "  2%|▏         | 160/7356 [08:40<6:57:39,  3.48s/it]"
     ]
    },
    {
     "name": "stdout",
     "output_type": "stream",
     "text": [
      "{'loss': 2.842, 'grad_norm': 7.821836471557617, 'learning_rate': 1.9564980967917348e-05, 'epoch': 0.07}\n"
     ]
    },
    {
     "name": "stderr",
     "output_type": "stream",
     "text": [
      "  2%|▏         | 170/7356 [09:13<6:37:42,  3.32s/it]"
     ]
    },
    {
     "name": "stdout",
     "output_type": "stream",
     "text": [
      "{'loss': 2.7791, 'grad_norm': 8.85667896270752, 'learning_rate': 1.9537792278412184e-05, 'epoch': 0.07}\n"
     ]
    },
    {
     "name": "stderr",
     "output_type": "stream",
     "text": [
      "  2%|▏         | 180/7356 [09:43<5:43:36,  2.87s/it]"
     ]
    },
    {
     "name": "stdout",
     "output_type": "stream",
     "text": [
      "{'loss': 2.6591, 'grad_norm': 8.516142845153809, 'learning_rate': 1.9510603588907016e-05, 'epoch': 0.07}\n"
     ]
    },
    {
     "name": "stderr",
     "output_type": "stream",
     "text": [
      "  3%|▎         | 190/7356 [10:15<5:56:08,  2.98s/it]"
     ]
    },
    {
     "name": "stdout",
     "output_type": "stream",
     "text": [
      "{'loss': 2.6627, 'grad_norm': 11.761263847351074, 'learning_rate': 1.9483414899401852e-05, 'epoch': 0.08}\n"
     ]
    },
    {
     "name": "stderr",
     "output_type": "stream",
     "text": [
      "  3%|▎         | 200/7356 [10:43<5:10:01,  2.60s/it]"
     ]
    },
    {
     "name": "stdout",
     "output_type": "stream",
     "text": [
      "{'loss': 2.7069, 'grad_norm': 9.020231246948242, 'learning_rate': 1.9456226209896685e-05, 'epoch': 0.08}\n"
     ]
    },
    {
     "name": "stderr",
     "output_type": "stream",
     "text": [
      "  3%|▎         | 210/7356 [11:08<4:55:23,  2.48s/it]"
     ]
    },
    {
     "name": "stdout",
     "output_type": "stream",
     "text": [
      "{'loss': 2.5214, 'grad_norm': 9.594619750976562, 'learning_rate': 1.9429037520391518e-05, 'epoch': 0.09}\n"
     ]
    },
    {
     "name": "stderr",
     "output_type": "stream",
     "text": [
      "  3%|▎         | 220/7356 [11:32<4:40:47,  2.36s/it]"
     ]
    },
    {
     "name": "stdout",
     "output_type": "stream",
     "text": [
      "{'loss': 2.5199, 'grad_norm': 11.922959327697754, 'learning_rate': 1.9401848830886354e-05, 'epoch': 0.09}\n"
     ]
    },
    {
     "name": "stderr",
     "output_type": "stream",
     "text": [
      "  3%|▎         | 230/7356 [11:56<4:48:31,  2.43s/it]"
     ]
    },
    {
     "name": "stdout",
     "output_type": "stream",
     "text": [
      "{'loss': 2.4956, 'grad_norm': 9.74581527709961, 'learning_rate': 1.9374660141381186e-05, 'epoch': 0.09}\n"
     ]
    },
    {
     "name": "stderr",
     "output_type": "stream",
     "text": [
      "  3%|▎         | 240/7356 [12:20<4:46:06,  2.41s/it]"
     ]
    },
    {
     "name": "stdout",
     "output_type": "stream",
     "text": [
      "{'loss': 2.3428, 'grad_norm': 9.912372589111328, 'learning_rate': 1.9347471451876022e-05, 'epoch': 0.1}\n"
     ]
    },
    {
     "name": "stderr",
     "output_type": "stream",
     "text": [
      "  3%|▎         | 250/7356 [12:43<4:35:15,  2.32s/it]"
     ]
    },
    {
     "name": "stdout",
     "output_type": "stream",
     "text": [
      "{'loss': 2.4421, 'grad_norm': 9.703727722167969, 'learning_rate': 1.9320282762370855e-05, 'epoch': 0.1}\n"
     ]
    },
    {
     "name": "stderr",
     "output_type": "stream",
     "text": [
      "  4%|▎         | 260/7356 [13:07<4:33:50,  2.32s/it]"
     ]
    },
    {
     "name": "stdout",
     "output_type": "stream",
     "text": [
      "{'loss': 2.4271, 'grad_norm': 9.508543014526367, 'learning_rate': 1.929309407286569e-05, 'epoch': 0.11}\n"
     ]
    },
    {
     "name": "stderr",
     "output_type": "stream",
     "text": [
      "  4%|▎         | 270/7356 [13:31<4:42:56,  2.40s/it]"
     ]
    },
    {
     "name": "stdout",
     "output_type": "stream",
     "text": [
      "{'loss': 2.4393, 'grad_norm': 14.952455520629883, 'learning_rate': 1.9265905383360524e-05, 'epoch': 0.11}\n"
     ]
    },
    {
     "name": "stderr",
     "output_type": "stream",
     "text": [
      "  4%|▍         | 280/7356 [13:54<4:39:21,  2.37s/it]"
     ]
    },
    {
     "name": "stdout",
     "output_type": "stream",
     "text": [
      "{'loss': 2.2708, 'grad_norm': 12.805747985839844, 'learning_rate': 1.9238716693855356e-05, 'epoch': 0.11}\n"
     ]
    },
    {
     "name": "stderr",
     "output_type": "stream",
     "text": [
      "  4%|▍         | 290/7356 [14:18<4:37:42,  2.36s/it]"
     ]
    },
    {
     "name": "stdout",
     "output_type": "stream",
     "text": [
      "{'loss': 2.1537, 'grad_norm': 15.397726058959961, 'learning_rate': 1.9211528004350192e-05, 'epoch': 0.12}\n"
     ]
    },
    {
     "name": "stderr",
     "output_type": "stream",
     "text": [
      "  4%|▍         | 300/7356 [14:41<4:35:03,  2.34s/it]"
     ]
    },
    {
     "name": "stdout",
     "output_type": "stream",
     "text": [
      "{'loss': 2.0866, 'grad_norm': 12.759261131286621, 'learning_rate': 1.9184339314845025e-05, 'epoch': 0.12}\n"
     ]
    },
    {
     "name": "stderr",
     "output_type": "stream",
     "text": [
      "  4%|▍         | 310/7356 [15:04<4:40:37,  2.39s/it]"
     ]
    },
    {
     "name": "stdout",
     "output_type": "stream",
     "text": [
      "{'loss': 2.3574, 'grad_norm': 12.035238265991211, 'learning_rate': 1.915715062533986e-05, 'epoch': 0.13}\n"
     ]
    },
    {
     "name": "stderr",
     "output_type": "stream",
     "text": [
      "  4%|▍         | 320/7356 [15:28<4:51:46,  2.49s/it]"
     ]
    },
    {
     "name": "stdout",
     "output_type": "stream",
     "text": [
      "{'loss': 2.1928, 'grad_norm': 15.94058895111084, 'learning_rate': 1.9129961935834694e-05, 'epoch': 0.13}\n"
     ]
    },
    {
     "name": "stderr",
     "output_type": "stream",
     "text": [
      "  4%|▍         | 330/7356 [15:52<4:31:45,  2.32s/it]"
     ]
    },
    {
     "name": "stdout",
     "output_type": "stream",
     "text": [
      "{'loss': 2.1897, 'grad_norm': 10.33685302734375, 'learning_rate': 1.910277324632953e-05, 'epoch': 0.13}\n"
     ]
    },
    {
     "name": "stderr",
     "output_type": "stream",
     "text": [
      "  5%|▍         | 340/7356 [16:16<4:36:18,  2.36s/it]"
     ]
    },
    {
     "name": "stdout",
     "output_type": "stream",
     "text": [
      "{'loss': 2.098, 'grad_norm': 10.71955394744873, 'learning_rate': 1.9075584556824362e-05, 'epoch': 0.14}\n"
     ]
    },
    {
     "name": "stderr",
     "output_type": "stream",
     "text": [
      "  5%|▍         | 350/7356 [16:39<4:32:36,  2.33s/it]"
     ]
    },
    {
     "name": "stdout",
     "output_type": "stream",
     "text": [
      "{'loss': 2.3534, 'grad_norm': 9.558525085449219, 'learning_rate': 1.9048395867319195e-05, 'epoch': 0.14}\n"
     ]
    },
    {
     "name": "stderr",
     "output_type": "stream",
     "text": [
      "  5%|▍         | 360/7356 [17:03<4:45:09,  2.45s/it]"
     ]
    },
    {
     "name": "stdout",
     "output_type": "stream",
     "text": [
      "{'loss': 2.0902, 'grad_norm': 11.930771827697754, 'learning_rate': 1.902120717781403e-05, 'epoch': 0.15}\n"
     ]
    },
    {
     "name": "stderr",
     "output_type": "stream",
     "text": [
      "  5%|▌         | 370/7356 [17:26<4:35:22,  2.37s/it]"
     ]
    },
    {
     "name": "stdout",
     "output_type": "stream",
     "text": [
      "{'loss': 2.082, 'grad_norm': 8.556798934936523, 'learning_rate': 1.8994018488308864e-05, 'epoch': 0.15}\n"
     ]
    },
    {
     "name": "stderr",
     "output_type": "stream",
     "text": [
      "  5%|▌         | 380/7356 [17:50<4:37:34,  2.39s/it]"
     ]
    },
    {
     "name": "stdout",
     "output_type": "stream",
     "text": [
      "{'loss': 1.925, 'grad_norm': 10.766984939575195, 'learning_rate': 1.89668297988037e-05, 'epoch': 0.15}\n"
     ]
    },
    {
     "name": "stderr",
     "output_type": "stream",
     "text": [
      "  5%|▌         | 390/7356 [18:14<4:39:20,  2.41s/it]"
     ]
    },
    {
     "name": "stdout",
     "output_type": "stream",
     "text": [
      "{'loss': 2.0877, 'grad_norm': 10.649540901184082, 'learning_rate': 1.8939641109298536e-05, 'epoch': 0.16}\n"
     ]
    },
    {
     "name": "stderr",
     "output_type": "stream",
     "text": [
      "  5%|▌         | 400/7356 [18:40<5:28:48,  2.84s/it]"
     ]
    },
    {
     "name": "stdout",
     "output_type": "stream",
     "text": [
      "{'loss': 2.1275, 'grad_norm': 8.951517105102539, 'learning_rate': 1.891245241979337e-05, 'epoch': 0.16}\n"
     ]
    },
    {
     "name": "stderr",
     "output_type": "stream",
     "text": [
      "  6%|▌         | 410/7356 [19:05<4:54:18,  2.54s/it]"
     ]
    },
    {
     "name": "stdout",
     "output_type": "stream",
     "text": [
      "{'loss': 1.8271, 'grad_norm': 8.190356254577637, 'learning_rate': 1.88852637302882e-05, 'epoch': 0.17}\n"
     ]
    },
    {
     "name": "stderr",
     "output_type": "stream",
     "text": [
      "  6%|▌         | 420/7356 [19:29<4:32:04,  2.35s/it]"
     ]
    },
    {
     "name": "stdout",
     "output_type": "stream",
     "text": [
      "{'loss': 2.1973, 'grad_norm': 13.872722625732422, 'learning_rate': 1.8858075040783034e-05, 'epoch': 0.17}\n"
     ]
    },
    {
     "name": "stderr",
     "output_type": "stream",
     "text": [
      "  6%|▌         | 430/7356 [19:52<4:30:44,  2.35s/it]"
     ]
    },
    {
     "name": "stdout",
     "output_type": "stream",
     "text": [
      "{'loss': 1.9376, 'grad_norm': 9.695178985595703, 'learning_rate': 1.883088635127787e-05, 'epoch': 0.18}\n"
     ]
    },
    {
     "name": "stderr",
     "output_type": "stream",
     "text": [
      "  6%|▌         | 440/7356 [20:16<4:24:06,  2.29s/it]"
     ]
    },
    {
     "name": "stdout",
     "output_type": "stream",
     "text": [
      "{'loss': 2.1538, 'grad_norm': 12.83088493347168, 'learning_rate': 1.8803697661772706e-05, 'epoch': 0.18}\n"
     ]
    },
    {
     "name": "stderr",
     "output_type": "stream",
     "text": [
      "  6%|▌         | 450/7356 [20:40<4:37:41,  2.41s/it]"
     ]
    },
    {
     "name": "stdout",
     "output_type": "stream",
     "text": [
      "{'loss': 1.8521, 'grad_norm': 9.725314140319824, 'learning_rate': 1.877650897226754e-05, 'epoch': 0.18}\n"
     ]
    },
    {
     "name": "stderr",
     "output_type": "stream",
     "text": [
      "  6%|▋         | 460/7356 [21:03<4:26:55,  2.32s/it]"
     ]
    },
    {
     "name": "stdout",
     "output_type": "stream",
     "text": [
      "{'loss': 2.2105, 'grad_norm': 11.077408790588379, 'learning_rate': 1.8749320282762374e-05, 'epoch': 0.19}\n"
     ]
    },
    {
     "name": "stderr",
     "output_type": "stream",
     "text": [
      "  6%|▋         | 470/7356 [21:26<4:28:27,  2.34s/it]"
     ]
    },
    {
     "name": "stdout",
     "output_type": "stream",
     "text": [
      "{'loss': 1.7703, 'grad_norm': 13.289398193359375, 'learning_rate': 1.8722131593257207e-05, 'epoch': 0.19}\n"
     ]
    },
    {
     "name": "stderr",
     "output_type": "stream",
     "text": [
      "  7%|▋         | 480/7356 [21:53<5:11:58,  2.72s/it]"
     ]
    },
    {
     "name": "stdout",
     "output_type": "stream",
     "text": [
      "{'loss': 1.9678, 'grad_norm': 11.892580032348633, 'learning_rate': 1.869494290375204e-05, 'epoch': 0.2}\n"
     ]
    },
    {
     "name": "stderr",
     "output_type": "stream",
     "text": [
      "  7%|▋         | 490/7356 [22:16<4:36:32,  2.42s/it]"
     ]
    },
    {
     "name": "stdout",
     "output_type": "stream",
     "text": [
      "{'loss': 1.8558, 'grad_norm': 24.321487426757812, 'learning_rate': 1.8667754214246872e-05, 'epoch': 0.2}\n"
     ]
    },
    {
     "name": "stderr",
     "output_type": "stream",
     "text": [
      "  7%|▋         | 500/7356 [22:40<4:25:13,  2.32s/it]"
     ]
    },
    {
     "name": "stdout",
     "output_type": "stream",
     "text": [
      "{'loss': 1.74, 'grad_norm': 13.723588943481445, 'learning_rate': 1.864056552474171e-05, 'epoch': 0.2}\n"
     ]
    },
    {
     "name": "stderr",
     "output_type": "stream",
     "text": [
      "  7%|▋         | 510/7356 [23:10<4:40:31,  2.46s/it]"
     ]
    },
    {
     "name": "stdout",
     "output_type": "stream",
     "text": [
      "{'loss': 1.8354, 'grad_norm': 28.162738800048828, 'learning_rate': 1.8613376835236544e-05, 'epoch': 0.21}\n"
     ]
    },
    {
     "name": "stderr",
     "output_type": "stream",
     "text": [
      "  7%|▋         | 520/7356 [23:34<4:29:05,  2.36s/it]"
     ]
    },
    {
     "name": "stdout",
     "output_type": "stream",
     "text": [
      "{'loss': 2.1606, 'grad_norm': 12.492951393127441, 'learning_rate': 1.8586188145731377e-05, 'epoch': 0.21}\n"
     ]
    },
    {
     "name": "stderr",
     "output_type": "stream",
     "text": [
      "  7%|▋         | 530/7356 [23:57<4:25:10,  2.33s/it]"
     ]
    },
    {
     "name": "stdout",
     "output_type": "stream",
     "text": [
      "{'loss': 1.962, 'grad_norm': 15.371423721313477, 'learning_rate': 1.8558999456226213e-05, 'epoch': 0.22}\n"
     ]
    },
    {
     "name": "stderr",
     "output_type": "stream",
     "text": [
      "  7%|▋         | 540/7356 [24:20<4:25:17,  2.34s/it]"
     ]
    },
    {
     "name": "stdout",
     "output_type": "stream",
     "text": [
      "{'loss': 1.9464, 'grad_norm': 9.479290962219238, 'learning_rate': 1.8531810766721046e-05, 'epoch': 0.22}\n"
     ]
    },
    {
     "name": "stderr",
     "output_type": "stream",
     "text": [
      "  7%|▋         | 550/7356 [24:44<4:26:25,  2.35s/it]"
     ]
    },
    {
     "name": "stdout",
     "output_type": "stream",
     "text": [
      "{'loss': 1.6976, 'grad_norm': 9.166217803955078, 'learning_rate': 1.850462207721588e-05, 'epoch': 0.22}\n"
     ]
    },
    {
     "name": "stderr",
     "output_type": "stream",
     "text": [
      "  8%|▊         | 560/7356 [25:08<4:32:06,  2.40s/it]"
     ]
    },
    {
     "name": "stdout",
     "output_type": "stream",
     "text": [
      "{'loss': 1.842, 'grad_norm': 10.178287506103516, 'learning_rate': 1.8477433387710714e-05, 'epoch': 0.23}\n"
     ]
    },
    {
     "name": "stderr",
     "output_type": "stream",
     "text": [
      "  8%|▊         | 570/7356 [25:33<4:28:21,  2.37s/it]"
     ]
    },
    {
     "name": "stdout",
     "output_type": "stream",
     "text": [
      "{'loss': 1.6502, 'grad_norm': 8.020685195922852, 'learning_rate': 1.8450244698205547e-05, 'epoch': 0.23}\n"
     ]
    },
    {
     "name": "stderr",
     "output_type": "stream",
     "text": [
      "  8%|▊         | 580/7356 [25:57<4:24:52,  2.35s/it]"
     ]
    },
    {
     "name": "stdout",
     "output_type": "stream",
     "text": [
      "{'loss': 1.5528, 'grad_norm': 8.64126205444336, 'learning_rate': 1.8423056008700383e-05, 'epoch': 0.24}\n"
     ]
    },
    {
     "name": "stderr",
     "output_type": "stream",
     "text": [
      "  8%|▊         | 590/7356 [26:21<4:28:34,  2.38s/it]"
     ]
    },
    {
     "name": "stdout",
     "output_type": "stream",
     "text": [
      "{'loss': 1.9612, 'grad_norm': 8.113502502441406, 'learning_rate': 1.8395867319195216e-05, 'epoch': 0.24}\n"
     ]
    },
    {
     "name": "stderr",
     "output_type": "stream",
     "text": [
      "  8%|▊         | 600/7356 [26:44<4:21:20,  2.32s/it]"
     ]
    },
    {
     "name": "stdout",
     "output_type": "stream",
     "text": [
      "{'loss': 1.614, 'grad_norm': 10.694259643554688, 'learning_rate': 1.8368678629690052e-05, 'epoch': 0.24}\n"
     ]
    },
    {
     "name": "stderr",
     "output_type": "stream",
     "text": [
      "  8%|▊         | 610/7356 [27:08<4:28:04,  2.38s/it]"
     ]
    },
    {
     "name": "stdout",
     "output_type": "stream",
     "text": [
      "{'loss': 1.9845, 'grad_norm': 10.411994934082031, 'learning_rate': 1.8341489940184884e-05, 'epoch': 0.25}\n"
     ]
    },
    {
     "name": "stderr",
     "output_type": "stream",
     "text": [
      "  8%|▊         | 620/7356 [27:32<4:29:30,  2.40s/it]"
     ]
    },
    {
     "name": "stdout",
     "output_type": "stream",
     "text": [
      "{'loss': 1.8088, 'grad_norm': 13.566210746765137, 'learning_rate': 1.8314301250679717e-05, 'epoch': 0.25}\n"
     ]
    },
    {
     "name": "stderr",
     "output_type": "stream",
     "text": [
      "  9%|▊         | 630/7356 [27:56<4:41:39,  2.51s/it]"
     ]
    },
    {
     "name": "stdout",
     "output_type": "stream",
     "text": [
      "{'loss': 1.4836, 'grad_norm': 11.086950302124023, 'learning_rate': 1.8287112561174553e-05, 'epoch': 0.26}\n"
     ]
    },
    {
     "name": "stderr",
     "output_type": "stream",
     "text": [
      "  9%|▊         | 640/7356 [28:21<4:25:33,  2.37s/it]"
     ]
    },
    {
     "name": "stdout",
     "output_type": "stream",
     "text": [
      "{'loss': 1.7801, 'grad_norm': 9.90341854095459, 'learning_rate': 1.8259923871669386e-05, 'epoch': 0.26}\n"
     ]
    },
    {
     "name": "stderr",
     "output_type": "stream",
     "text": [
      "  9%|▉         | 650/7356 [28:46<4:36:31,  2.47s/it]"
     ]
    },
    {
     "name": "stdout",
     "output_type": "stream",
     "text": [
      "{'loss': 1.3354, 'grad_norm': 11.560335159301758, 'learning_rate': 1.8232735182164222e-05, 'epoch': 0.27}\n"
     ]
    },
    {
     "name": "stderr",
     "output_type": "stream",
     "text": [
      "  9%|▉         | 660/7356 [29:11<4:31:26,  2.43s/it]"
     ]
    },
    {
     "name": "stdout",
     "output_type": "stream",
     "text": [
      "{'loss': 1.8204, 'grad_norm': 9.01984691619873, 'learning_rate': 1.8205546492659058e-05, 'epoch': 0.27}\n"
     ]
    },
    {
     "name": "stderr",
     "output_type": "stream",
     "text": [
      "  9%|▉         | 670/7356 [29:35<4:39:37,  2.51s/it]"
     ]
    },
    {
     "name": "stdout",
     "output_type": "stream",
     "text": [
      "{'loss': 1.5572, 'grad_norm': 23.15236473083496, 'learning_rate': 1.817835780315389e-05, 'epoch': 0.27}\n"
     ]
    },
    {
     "name": "stderr",
     "output_type": "stream",
     "text": [
      "  9%|▉         | 672/7356 [29:40<4:37:02,  2.49s/it]"
     ]
    },
    {
     "ename": "KeyboardInterrupt",
     "evalue": "",
     "output_type": "error",
     "traceback": [
      "\u001b[1;31m---------------------------------------------------------------------------\u001b[0m",
      "\u001b[1;31mKeyboardInterrupt\u001b[0m                         Traceback (most recent call last)",
      "Cell \u001b[1;32mIn[30], line 77\u001b[0m\n\u001b[0;32m     68\u001b[0m trainer \u001b[38;5;241m=\u001b[39m Trainer(\n\u001b[0;32m     69\u001b[0m     model\u001b[38;5;241m=\u001b[39mmodel,\n\u001b[0;32m     70\u001b[0m     args\u001b[38;5;241m=\u001b[39mtraining_args,\n\u001b[1;32m   (...)\u001b[0m\n\u001b[0;32m     73\u001b[0m     tokenizer\u001b[38;5;241m=\u001b[39mtokenizer\n\u001b[0;32m     74\u001b[0m )\n\u001b[0;32m     76\u001b[0m \u001b[38;5;66;03m# Train the model\u001b[39;00m\n\u001b[1;32m---> 77\u001b[0m \u001b[43mtrainer\u001b[49m\u001b[38;5;241;43m.\u001b[39;49m\u001b[43mtrain\u001b[49m\u001b[43m(\u001b[49m\u001b[43m)\u001b[49m\n\u001b[0;32m     79\u001b[0m \u001b[38;5;66;03m# Evaluate the model\u001b[39;00m\n\u001b[0;32m     80\u001b[0m trainer\u001b[38;5;241m.\u001b[39mevaluate()\n",
      "File \u001b[1;32mw:\\repos\\IAB_Ad_Classification_Project\\.venv\\Lib\\site-packages\\transformers\\trainer.py:2164\u001b[0m, in \u001b[0;36mTrainer.train\u001b[1;34m(self, resume_from_checkpoint, trial, ignore_keys_for_eval, **kwargs)\u001b[0m\n\u001b[0;32m   2162\u001b[0m         hf_hub_utils\u001b[38;5;241m.\u001b[39menable_progress_bars()\n\u001b[0;32m   2163\u001b[0m \u001b[38;5;28;01melse\u001b[39;00m:\n\u001b[1;32m-> 2164\u001b[0m     \u001b[38;5;28;01mreturn\u001b[39;00m \u001b[43minner_training_loop\u001b[49m\u001b[43m(\u001b[49m\n\u001b[0;32m   2165\u001b[0m \u001b[43m        \u001b[49m\u001b[43margs\u001b[49m\u001b[38;5;241;43m=\u001b[39;49m\u001b[43margs\u001b[49m\u001b[43m,\u001b[49m\n\u001b[0;32m   2166\u001b[0m \u001b[43m        \u001b[49m\u001b[43mresume_from_checkpoint\u001b[49m\u001b[38;5;241;43m=\u001b[39;49m\u001b[43mresume_from_checkpoint\u001b[49m\u001b[43m,\u001b[49m\n\u001b[0;32m   2167\u001b[0m \u001b[43m        \u001b[49m\u001b[43mtrial\u001b[49m\u001b[38;5;241;43m=\u001b[39;49m\u001b[43mtrial\u001b[49m\u001b[43m,\u001b[49m\n\u001b[0;32m   2168\u001b[0m \u001b[43m        \u001b[49m\u001b[43mignore_keys_for_eval\u001b[49m\u001b[38;5;241;43m=\u001b[39;49m\u001b[43mignore_keys_for_eval\u001b[49m\u001b[43m,\u001b[49m\n\u001b[0;32m   2169\u001b[0m \u001b[43m    \u001b[49m\u001b[43m)\u001b[49m\n",
      "File \u001b[1;32mw:\\repos\\IAB_Ad_Classification_Project\\.venv\\Lib\\site-packages\\transformers\\trainer.py:2522\u001b[0m, in \u001b[0;36mTrainer._inner_training_loop\u001b[1;34m(self, batch_size, args, resume_from_checkpoint, trial, ignore_keys_for_eval)\u001b[0m\n\u001b[0;32m   2516\u001b[0m context \u001b[38;5;241m=\u001b[39m (\n\u001b[0;32m   2517\u001b[0m     functools\u001b[38;5;241m.\u001b[39mpartial(\u001b[38;5;28mself\u001b[39m\u001b[38;5;241m.\u001b[39maccelerator\u001b[38;5;241m.\u001b[39mno_sync, model\u001b[38;5;241m=\u001b[39mmodel)\n\u001b[0;32m   2518\u001b[0m     \u001b[38;5;28;01mif\u001b[39;00m i \u001b[38;5;241m!=\u001b[39m \u001b[38;5;28mlen\u001b[39m(batch_samples) \u001b[38;5;241m-\u001b[39m \u001b[38;5;241m1\u001b[39m\n\u001b[0;32m   2519\u001b[0m     \u001b[38;5;28;01melse\u001b[39;00m contextlib\u001b[38;5;241m.\u001b[39mnullcontext\n\u001b[0;32m   2520\u001b[0m )\n\u001b[0;32m   2521\u001b[0m \u001b[38;5;28;01mwith\u001b[39;00m context():\n\u001b[1;32m-> 2522\u001b[0m     tr_loss_step \u001b[38;5;241m=\u001b[39m \u001b[38;5;28;43mself\u001b[39;49m\u001b[38;5;241;43m.\u001b[39;49m\u001b[43mtraining_step\u001b[49m\u001b[43m(\u001b[49m\u001b[43mmodel\u001b[49m\u001b[43m,\u001b[49m\u001b[43m \u001b[49m\u001b[43minputs\u001b[49m\u001b[43m,\u001b[49m\u001b[43m \u001b[49m\u001b[43mnum_items_in_batch\u001b[49m\u001b[43m)\u001b[49m\n\u001b[0;32m   2524\u001b[0m \u001b[38;5;28;01mif\u001b[39;00m (\n\u001b[0;32m   2525\u001b[0m     args\u001b[38;5;241m.\u001b[39mlogging_nan_inf_filter\n\u001b[0;32m   2526\u001b[0m     \u001b[38;5;129;01mand\u001b[39;00m \u001b[38;5;129;01mnot\u001b[39;00m is_torch_xla_available()\n\u001b[0;32m   2527\u001b[0m     \u001b[38;5;129;01mand\u001b[39;00m (torch\u001b[38;5;241m.\u001b[39misnan(tr_loss_step) \u001b[38;5;129;01mor\u001b[39;00m torch\u001b[38;5;241m.\u001b[39misinf(tr_loss_step))\n\u001b[0;32m   2528\u001b[0m ):\n\u001b[0;32m   2529\u001b[0m     \u001b[38;5;66;03m# if loss is nan or inf simply add the average of previous logged losses\u001b[39;00m\n\u001b[0;32m   2530\u001b[0m     tr_loss \u001b[38;5;241m=\u001b[39m tr_loss \u001b[38;5;241m+\u001b[39m tr_loss \u001b[38;5;241m/\u001b[39m (\u001b[38;5;241m1\u001b[39m \u001b[38;5;241m+\u001b[39m \u001b[38;5;28mself\u001b[39m\u001b[38;5;241m.\u001b[39mstate\u001b[38;5;241m.\u001b[39mglobal_step \u001b[38;5;241m-\u001b[39m \u001b[38;5;28mself\u001b[39m\u001b[38;5;241m.\u001b[39m_globalstep_last_logged)\n",
      "File \u001b[1;32mw:\\repos\\IAB_Ad_Classification_Project\\.venv\\Lib\\site-packages\\transformers\\trainer.py:3655\u001b[0m, in \u001b[0;36mTrainer.training_step\u001b[1;34m(self, model, inputs, num_items_in_batch)\u001b[0m\n\u001b[0;32m   3653\u001b[0m         loss \u001b[38;5;241m=\u001b[39m \u001b[38;5;28mself\u001b[39m\u001b[38;5;241m.\u001b[39mcompute_loss(model, inputs)\n\u001b[0;32m   3654\u001b[0m     \u001b[38;5;28;01melse\u001b[39;00m:\n\u001b[1;32m-> 3655\u001b[0m         loss \u001b[38;5;241m=\u001b[39m \u001b[38;5;28;43mself\u001b[39;49m\u001b[38;5;241;43m.\u001b[39;49m\u001b[43mcompute_loss\u001b[49m\u001b[43m(\u001b[49m\u001b[43mmodel\u001b[49m\u001b[43m,\u001b[49m\u001b[43m \u001b[49m\u001b[43minputs\u001b[49m\u001b[43m,\u001b[49m\u001b[43m \u001b[49m\u001b[43mnum_items_in_batch\u001b[49m\u001b[38;5;241;43m=\u001b[39;49m\u001b[43mnum_items_in_batch\u001b[49m\u001b[43m)\u001b[49m\n\u001b[0;32m   3657\u001b[0m \u001b[38;5;28;01mdel\u001b[39;00m inputs\n\u001b[0;32m   3658\u001b[0m \u001b[38;5;28;01mif\u001b[39;00m (\n\u001b[0;32m   3659\u001b[0m     \u001b[38;5;28mself\u001b[39m\u001b[38;5;241m.\u001b[39margs\u001b[38;5;241m.\u001b[39mtorch_empty_cache_steps \u001b[38;5;129;01mis\u001b[39;00m \u001b[38;5;129;01mnot\u001b[39;00m \u001b[38;5;28;01mNone\u001b[39;00m\n\u001b[0;32m   3660\u001b[0m     \u001b[38;5;129;01mand\u001b[39;00m \u001b[38;5;28mself\u001b[39m\u001b[38;5;241m.\u001b[39mstate\u001b[38;5;241m.\u001b[39mglobal_step \u001b[38;5;241m%\u001b[39m \u001b[38;5;28mself\u001b[39m\u001b[38;5;241m.\u001b[39margs\u001b[38;5;241m.\u001b[39mtorch_empty_cache_steps \u001b[38;5;241m==\u001b[39m \u001b[38;5;241m0\u001b[39m\n\u001b[0;32m   3661\u001b[0m ):\n",
      "File \u001b[1;32mw:\\repos\\IAB_Ad_Classification_Project\\.venv\\Lib\\site-packages\\transformers\\trainer.py:3709\u001b[0m, in \u001b[0;36mTrainer.compute_loss\u001b[1;34m(self, model, inputs, return_outputs, num_items_in_batch)\u001b[0m\n\u001b[0;32m   3707\u001b[0m         loss_kwargs[\u001b[38;5;124m\"\u001b[39m\u001b[38;5;124mnum_items_in_batch\u001b[39m\u001b[38;5;124m\"\u001b[39m] \u001b[38;5;241m=\u001b[39m num_items_in_batch\n\u001b[0;32m   3708\u001b[0m     inputs \u001b[38;5;241m=\u001b[39m {\u001b[38;5;241m*\u001b[39m\u001b[38;5;241m*\u001b[39minputs, \u001b[38;5;241m*\u001b[39m\u001b[38;5;241m*\u001b[39mloss_kwargs}\n\u001b[1;32m-> 3709\u001b[0m outputs \u001b[38;5;241m=\u001b[39m \u001b[43mmodel\u001b[49m\u001b[43m(\u001b[49m\u001b[38;5;241;43m*\u001b[39;49m\u001b[38;5;241;43m*\u001b[39;49m\u001b[43minputs\u001b[49m\u001b[43m)\u001b[49m\n\u001b[0;32m   3710\u001b[0m \u001b[38;5;66;03m# Save past state if it exists\u001b[39;00m\n\u001b[0;32m   3711\u001b[0m \u001b[38;5;66;03m# TODO: this needs to be fixed and made cleaner later.\u001b[39;00m\n\u001b[0;32m   3712\u001b[0m \u001b[38;5;28;01mif\u001b[39;00m \u001b[38;5;28mself\u001b[39m\u001b[38;5;241m.\u001b[39margs\u001b[38;5;241m.\u001b[39mpast_index \u001b[38;5;241m>\u001b[39m\u001b[38;5;241m=\u001b[39m \u001b[38;5;241m0\u001b[39m:\n",
      "File \u001b[1;32mw:\\repos\\IAB_Ad_Classification_Project\\.venv\\Lib\\site-packages\\torch\\nn\\modules\\module.py:1736\u001b[0m, in \u001b[0;36mModule._wrapped_call_impl\u001b[1;34m(self, *args, **kwargs)\u001b[0m\n\u001b[0;32m   1734\u001b[0m     \u001b[38;5;28;01mreturn\u001b[39;00m \u001b[38;5;28mself\u001b[39m\u001b[38;5;241m.\u001b[39m_compiled_call_impl(\u001b[38;5;241m*\u001b[39margs, \u001b[38;5;241m*\u001b[39m\u001b[38;5;241m*\u001b[39mkwargs)  \u001b[38;5;66;03m# type: ignore[misc]\u001b[39;00m\n\u001b[0;32m   1735\u001b[0m \u001b[38;5;28;01melse\u001b[39;00m:\n\u001b[1;32m-> 1736\u001b[0m     \u001b[38;5;28;01mreturn\u001b[39;00m \u001b[38;5;28;43mself\u001b[39;49m\u001b[38;5;241;43m.\u001b[39;49m\u001b[43m_call_impl\u001b[49m\u001b[43m(\u001b[49m\u001b[38;5;241;43m*\u001b[39;49m\u001b[43margs\u001b[49m\u001b[43m,\u001b[49m\u001b[43m \u001b[49m\u001b[38;5;241;43m*\u001b[39;49m\u001b[38;5;241;43m*\u001b[39;49m\u001b[43mkwargs\u001b[49m\u001b[43m)\u001b[49m\n",
      "File \u001b[1;32mw:\\repos\\IAB_Ad_Classification_Project\\.venv\\Lib\\site-packages\\torch\\nn\\modules\\module.py:1747\u001b[0m, in \u001b[0;36mModule._call_impl\u001b[1;34m(self, *args, **kwargs)\u001b[0m\n\u001b[0;32m   1742\u001b[0m \u001b[38;5;66;03m# If we don't have any hooks, we want to skip the rest of the logic in\u001b[39;00m\n\u001b[0;32m   1743\u001b[0m \u001b[38;5;66;03m# this function, and just call forward.\u001b[39;00m\n\u001b[0;32m   1744\u001b[0m \u001b[38;5;28;01mif\u001b[39;00m \u001b[38;5;129;01mnot\u001b[39;00m (\u001b[38;5;28mself\u001b[39m\u001b[38;5;241m.\u001b[39m_backward_hooks \u001b[38;5;129;01mor\u001b[39;00m \u001b[38;5;28mself\u001b[39m\u001b[38;5;241m.\u001b[39m_backward_pre_hooks \u001b[38;5;129;01mor\u001b[39;00m \u001b[38;5;28mself\u001b[39m\u001b[38;5;241m.\u001b[39m_forward_hooks \u001b[38;5;129;01mor\u001b[39;00m \u001b[38;5;28mself\u001b[39m\u001b[38;5;241m.\u001b[39m_forward_pre_hooks\n\u001b[0;32m   1745\u001b[0m         \u001b[38;5;129;01mor\u001b[39;00m _global_backward_pre_hooks \u001b[38;5;129;01mor\u001b[39;00m _global_backward_hooks\n\u001b[0;32m   1746\u001b[0m         \u001b[38;5;129;01mor\u001b[39;00m _global_forward_hooks \u001b[38;5;129;01mor\u001b[39;00m _global_forward_pre_hooks):\n\u001b[1;32m-> 1747\u001b[0m     \u001b[38;5;28;01mreturn\u001b[39;00m \u001b[43mforward_call\u001b[49m\u001b[43m(\u001b[49m\u001b[38;5;241;43m*\u001b[39;49m\u001b[43margs\u001b[49m\u001b[43m,\u001b[49m\u001b[43m \u001b[49m\u001b[38;5;241;43m*\u001b[39;49m\u001b[38;5;241;43m*\u001b[39;49m\u001b[43mkwargs\u001b[49m\u001b[43m)\u001b[49m\n\u001b[0;32m   1749\u001b[0m result \u001b[38;5;241m=\u001b[39m \u001b[38;5;28;01mNone\u001b[39;00m\n\u001b[0;32m   1750\u001b[0m called_always_called_hooks \u001b[38;5;241m=\u001b[39m \u001b[38;5;28mset\u001b[39m()\n",
      "File \u001b[1;32mw:\\repos\\IAB_Ad_Classification_Project\\.venv\\Lib\\site-packages\\transformers\\models\\bert\\modeling_bert.py:1668\u001b[0m, in \u001b[0;36mBertForSequenceClassification.forward\u001b[1;34m(self, input_ids, attention_mask, token_type_ids, position_ids, head_mask, inputs_embeds, labels, output_attentions, output_hidden_states, return_dict)\u001b[0m\n\u001b[0;32m   1660\u001b[0m \u001b[38;5;250m\u001b[39m\u001b[38;5;124mr\u001b[39m\u001b[38;5;124;03m\"\"\"\u001b[39;00m\n\u001b[0;32m   1661\u001b[0m \u001b[38;5;124;03mlabels (`torch.LongTensor` of shape `(batch_size,)`, *optional*):\u001b[39;00m\n\u001b[0;32m   1662\u001b[0m \u001b[38;5;124;03m    Labels for computing the sequence classification/regression loss. Indices should be in `[0, ...,\u001b[39;00m\n\u001b[0;32m   1663\u001b[0m \u001b[38;5;124;03m    config.num_labels - 1]`. If `config.num_labels == 1` a regression loss is computed (Mean-Square loss), If\u001b[39;00m\n\u001b[0;32m   1664\u001b[0m \u001b[38;5;124;03m    `config.num_labels > 1` a classification loss is computed (Cross-Entropy).\u001b[39;00m\n\u001b[0;32m   1665\u001b[0m \u001b[38;5;124;03m\"\"\"\u001b[39;00m\n\u001b[0;32m   1666\u001b[0m return_dict \u001b[38;5;241m=\u001b[39m return_dict \u001b[38;5;28;01mif\u001b[39;00m return_dict \u001b[38;5;129;01mis\u001b[39;00m \u001b[38;5;129;01mnot\u001b[39;00m \u001b[38;5;28;01mNone\u001b[39;00m \u001b[38;5;28;01melse\u001b[39;00m \u001b[38;5;28mself\u001b[39m\u001b[38;5;241m.\u001b[39mconfig\u001b[38;5;241m.\u001b[39muse_return_dict\n\u001b[1;32m-> 1668\u001b[0m outputs \u001b[38;5;241m=\u001b[39m \u001b[38;5;28;43mself\u001b[39;49m\u001b[38;5;241;43m.\u001b[39;49m\u001b[43mbert\u001b[49m\u001b[43m(\u001b[49m\n\u001b[0;32m   1669\u001b[0m \u001b[43m    \u001b[49m\u001b[43minput_ids\u001b[49m\u001b[43m,\u001b[49m\n\u001b[0;32m   1670\u001b[0m \u001b[43m    \u001b[49m\u001b[43mattention_mask\u001b[49m\u001b[38;5;241;43m=\u001b[39;49m\u001b[43mattention_mask\u001b[49m\u001b[43m,\u001b[49m\n\u001b[0;32m   1671\u001b[0m \u001b[43m    \u001b[49m\u001b[43mtoken_type_ids\u001b[49m\u001b[38;5;241;43m=\u001b[39;49m\u001b[43mtoken_type_ids\u001b[49m\u001b[43m,\u001b[49m\n\u001b[0;32m   1672\u001b[0m \u001b[43m    \u001b[49m\u001b[43mposition_ids\u001b[49m\u001b[38;5;241;43m=\u001b[39;49m\u001b[43mposition_ids\u001b[49m\u001b[43m,\u001b[49m\n\u001b[0;32m   1673\u001b[0m \u001b[43m    \u001b[49m\u001b[43mhead_mask\u001b[49m\u001b[38;5;241;43m=\u001b[39;49m\u001b[43mhead_mask\u001b[49m\u001b[43m,\u001b[49m\n\u001b[0;32m   1674\u001b[0m \u001b[43m    \u001b[49m\u001b[43minputs_embeds\u001b[49m\u001b[38;5;241;43m=\u001b[39;49m\u001b[43minputs_embeds\u001b[49m\u001b[43m,\u001b[49m\n\u001b[0;32m   1675\u001b[0m \u001b[43m    \u001b[49m\u001b[43moutput_attentions\u001b[49m\u001b[38;5;241;43m=\u001b[39;49m\u001b[43moutput_attentions\u001b[49m\u001b[43m,\u001b[49m\n\u001b[0;32m   1676\u001b[0m \u001b[43m    \u001b[49m\u001b[43moutput_hidden_states\u001b[49m\u001b[38;5;241;43m=\u001b[39;49m\u001b[43moutput_hidden_states\u001b[49m\u001b[43m,\u001b[49m\n\u001b[0;32m   1677\u001b[0m \u001b[43m    \u001b[49m\u001b[43mreturn_dict\u001b[49m\u001b[38;5;241;43m=\u001b[39;49m\u001b[43mreturn_dict\u001b[49m\u001b[43m,\u001b[49m\n\u001b[0;32m   1678\u001b[0m \u001b[43m\u001b[49m\u001b[43m)\u001b[49m\n\u001b[0;32m   1680\u001b[0m pooled_output \u001b[38;5;241m=\u001b[39m outputs[\u001b[38;5;241m1\u001b[39m]\n\u001b[0;32m   1682\u001b[0m pooled_output \u001b[38;5;241m=\u001b[39m \u001b[38;5;28mself\u001b[39m\u001b[38;5;241m.\u001b[39mdropout(pooled_output)\n",
      "File \u001b[1;32mw:\\repos\\IAB_Ad_Classification_Project\\.venv\\Lib\\site-packages\\torch\\nn\\modules\\module.py:1736\u001b[0m, in \u001b[0;36mModule._wrapped_call_impl\u001b[1;34m(self, *args, **kwargs)\u001b[0m\n\u001b[0;32m   1734\u001b[0m     \u001b[38;5;28;01mreturn\u001b[39;00m \u001b[38;5;28mself\u001b[39m\u001b[38;5;241m.\u001b[39m_compiled_call_impl(\u001b[38;5;241m*\u001b[39margs, \u001b[38;5;241m*\u001b[39m\u001b[38;5;241m*\u001b[39mkwargs)  \u001b[38;5;66;03m# type: ignore[misc]\u001b[39;00m\n\u001b[0;32m   1735\u001b[0m \u001b[38;5;28;01melse\u001b[39;00m:\n\u001b[1;32m-> 1736\u001b[0m     \u001b[38;5;28;01mreturn\u001b[39;00m \u001b[38;5;28;43mself\u001b[39;49m\u001b[38;5;241;43m.\u001b[39;49m\u001b[43m_call_impl\u001b[49m\u001b[43m(\u001b[49m\u001b[38;5;241;43m*\u001b[39;49m\u001b[43margs\u001b[49m\u001b[43m,\u001b[49m\u001b[43m \u001b[49m\u001b[38;5;241;43m*\u001b[39;49m\u001b[38;5;241;43m*\u001b[39;49m\u001b[43mkwargs\u001b[49m\u001b[43m)\u001b[49m\n",
      "File \u001b[1;32mw:\\repos\\IAB_Ad_Classification_Project\\.venv\\Lib\\site-packages\\torch\\nn\\modules\\module.py:1747\u001b[0m, in \u001b[0;36mModule._call_impl\u001b[1;34m(self, *args, **kwargs)\u001b[0m\n\u001b[0;32m   1742\u001b[0m \u001b[38;5;66;03m# If we don't have any hooks, we want to skip the rest of the logic in\u001b[39;00m\n\u001b[0;32m   1743\u001b[0m \u001b[38;5;66;03m# this function, and just call forward.\u001b[39;00m\n\u001b[0;32m   1744\u001b[0m \u001b[38;5;28;01mif\u001b[39;00m \u001b[38;5;129;01mnot\u001b[39;00m (\u001b[38;5;28mself\u001b[39m\u001b[38;5;241m.\u001b[39m_backward_hooks \u001b[38;5;129;01mor\u001b[39;00m \u001b[38;5;28mself\u001b[39m\u001b[38;5;241m.\u001b[39m_backward_pre_hooks \u001b[38;5;129;01mor\u001b[39;00m \u001b[38;5;28mself\u001b[39m\u001b[38;5;241m.\u001b[39m_forward_hooks \u001b[38;5;129;01mor\u001b[39;00m \u001b[38;5;28mself\u001b[39m\u001b[38;5;241m.\u001b[39m_forward_pre_hooks\n\u001b[0;32m   1745\u001b[0m         \u001b[38;5;129;01mor\u001b[39;00m _global_backward_pre_hooks \u001b[38;5;129;01mor\u001b[39;00m _global_backward_hooks\n\u001b[0;32m   1746\u001b[0m         \u001b[38;5;129;01mor\u001b[39;00m _global_forward_hooks \u001b[38;5;129;01mor\u001b[39;00m _global_forward_pre_hooks):\n\u001b[1;32m-> 1747\u001b[0m     \u001b[38;5;28;01mreturn\u001b[39;00m \u001b[43mforward_call\u001b[49m\u001b[43m(\u001b[49m\u001b[38;5;241;43m*\u001b[39;49m\u001b[43margs\u001b[49m\u001b[43m,\u001b[49m\u001b[43m \u001b[49m\u001b[38;5;241;43m*\u001b[39;49m\u001b[38;5;241;43m*\u001b[39;49m\u001b[43mkwargs\u001b[49m\u001b[43m)\u001b[49m\n\u001b[0;32m   1749\u001b[0m result \u001b[38;5;241m=\u001b[39m \u001b[38;5;28;01mNone\u001b[39;00m\n\u001b[0;32m   1750\u001b[0m called_always_called_hooks \u001b[38;5;241m=\u001b[39m \u001b[38;5;28mset\u001b[39m()\n",
      "File \u001b[1;32mw:\\repos\\IAB_Ad_Classification_Project\\.venv\\Lib\\site-packages\\transformers\\models\\bert\\modeling_bert.py:1142\u001b[0m, in \u001b[0;36mBertModel.forward\u001b[1;34m(self, input_ids, attention_mask, token_type_ids, position_ids, head_mask, inputs_embeds, encoder_hidden_states, encoder_attention_mask, past_key_values, use_cache, output_attentions, output_hidden_states, return_dict)\u001b[0m\n\u001b[0;32m   1135\u001b[0m \u001b[38;5;66;03m# Prepare head mask if needed\u001b[39;00m\n\u001b[0;32m   1136\u001b[0m \u001b[38;5;66;03m# 1.0 in head_mask indicate we keep the head\u001b[39;00m\n\u001b[0;32m   1137\u001b[0m \u001b[38;5;66;03m# attention_probs has shape bsz x n_heads x N x N\u001b[39;00m\n\u001b[0;32m   1138\u001b[0m \u001b[38;5;66;03m# input head_mask has shape [num_heads] or [num_hidden_layers x num_heads]\u001b[39;00m\n\u001b[0;32m   1139\u001b[0m \u001b[38;5;66;03m# and head_mask is converted to shape [num_hidden_layers x batch x num_heads x seq_length x seq_length]\u001b[39;00m\n\u001b[0;32m   1140\u001b[0m head_mask \u001b[38;5;241m=\u001b[39m \u001b[38;5;28mself\u001b[39m\u001b[38;5;241m.\u001b[39mget_head_mask(head_mask, \u001b[38;5;28mself\u001b[39m\u001b[38;5;241m.\u001b[39mconfig\u001b[38;5;241m.\u001b[39mnum_hidden_layers)\n\u001b[1;32m-> 1142\u001b[0m encoder_outputs \u001b[38;5;241m=\u001b[39m \u001b[38;5;28;43mself\u001b[39;49m\u001b[38;5;241;43m.\u001b[39;49m\u001b[43mencoder\u001b[49m\u001b[43m(\u001b[49m\n\u001b[0;32m   1143\u001b[0m \u001b[43m    \u001b[49m\u001b[43membedding_output\u001b[49m\u001b[43m,\u001b[49m\n\u001b[0;32m   1144\u001b[0m \u001b[43m    \u001b[49m\u001b[43mattention_mask\u001b[49m\u001b[38;5;241;43m=\u001b[39;49m\u001b[43mextended_attention_mask\u001b[49m\u001b[43m,\u001b[49m\n\u001b[0;32m   1145\u001b[0m \u001b[43m    \u001b[49m\u001b[43mhead_mask\u001b[49m\u001b[38;5;241;43m=\u001b[39;49m\u001b[43mhead_mask\u001b[49m\u001b[43m,\u001b[49m\n\u001b[0;32m   1146\u001b[0m \u001b[43m    \u001b[49m\u001b[43mencoder_hidden_states\u001b[49m\u001b[38;5;241;43m=\u001b[39;49m\u001b[43mencoder_hidden_states\u001b[49m\u001b[43m,\u001b[49m\n\u001b[0;32m   1147\u001b[0m \u001b[43m    \u001b[49m\u001b[43mencoder_attention_mask\u001b[49m\u001b[38;5;241;43m=\u001b[39;49m\u001b[43mencoder_extended_attention_mask\u001b[49m\u001b[43m,\u001b[49m\n\u001b[0;32m   1148\u001b[0m \u001b[43m    \u001b[49m\u001b[43mpast_key_values\u001b[49m\u001b[38;5;241;43m=\u001b[39;49m\u001b[43mpast_key_values\u001b[49m\u001b[43m,\u001b[49m\n\u001b[0;32m   1149\u001b[0m \u001b[43m    \u001b[49m\u001b[43muse_cache\u001b[49m\u001b[38;5;241;43m=\u001b[39;49m\u001b[43muse_cache\u001b[49m\u001b[43m,\u001b[49m\n\u001b[0;32m   1150\u001b[0m \u001b[43m    \u001b[49m\u001b[43moutput_attentions\u001b[49m\u001b[38;5;241;43m=\u001b[39;49m\u001b[43moutput_attentions\u001b[49m\u001b[43m,\u001b[49m\n\u001b[0;32m   1151\u001b[0m \u001b[43m    \u001b[49m\u001b[43moutput_hidden_states\u001b[49m\u001b[38;5;241;43m=\u001b[39;49m\u001b[43moutput_hidden_states\u001b[49m\u001b[43m,\u001b[49m\n\u001b[0;32m   1152\u001b[0m \u001b[43m    \u001b[49m\u001b[43mreturn_dict\u001b[49m\u001b[38;5;241;43m=\u001b[39;49m\u001b[43mreturn_dict\u001b[49m\u001b[43m,\u001b[49m\n\u001b[0;32m   1153\u001b[0m \u001b[43m\u001b[49m\u001b[43m)\u001b[49m\n\u001b[0;32m   1154\u001b[0m sequence_output \u001b[38;5;241m=\u001b[39m encoder_outputs[\u001b[38;5;241m0\u001b[39m]\n\u001b[0;32m   1155\u001b[0m pooled_output \u001b[38;5;241m=\u001b[39m \u001b[38;5;28mself\u001b[39m\u001b[38;5;241m.\u001b[39mpooler(sequence_output) \u001b[38;5;28;01mif\u001b[39;00m \u001b[38;5;28mself\u001b[39m\u001b[38;5;241m.\u001b[39mpooler \u001b[38;5;129;01mis\u001b[39;00m \u001b[38;5;129;01mnot\u001b[39;00m \u001b[38;5;28;01mNone\u001b[39;00m \u001b[38;5;28;01melse\u001b[39;00m \u001b[38;5;28;01mNone\u001b[39;00m\n",
      "File \u001b[1;32mw:\\repos\\IAB_Ad_Classification_Project\\.venv\\Lib\\site-packages\\torch\\nn\\modules\\module.py:1736\u001b[0m, in \u001b[0;36mModule._wrapped_call_impl\u001b[1;34m(self, *args, **kwargs)\u001b[0m\n\u001b[0;32m   1734\u001b[0m     \u001b[38;5;28;01mreturn\u001b[39;00m \u001b[38;5;28mself\u001b[39m\u001b[38;5;241m.\u001b[39m_compiled_call_impl(\u001b[38;5;241m*\u001b[39margs, \u001b[38;5;241m*\u001b[39m\u001b[38;5;241m*\u001b[39mkwargs)  \u001b[38;5;66;03m# type: ignore[misc]\u001b[39;00m\n\u001b[0;32m   1735\u001b[0m \u001b[38;5;28;01melse\u001b[39;00m:\n\u001b[1;32m-> 1736\u001b[0m     \u001b[38;5;28;01mreturn\u001b[39;00m \u001b[38;5;28;43mself\u001b[39;49m\u001b[38;5;241;43m.\u001b[39;49m\u001b[43m_call_impl\u001b[49m\u001b[43m(\u001b[49m\u001b[38;5;241;43m*\u001b[39;49m\u001b[43margs\u001b[49m\u001b[43m,\u001b[49m\u001b[43m \u001b[49m\u001b[38;5;241;43m*\u001b[39;49m\u001b[38;5;241;43m*\u001b[39;49m\u001b[43mkwargs\u001b[49m\u001b[43m)\u001b[49m\n",
      "File \u001b[1;32mw:\\repos\\IAB_Ad_Classification_Project\\.venv\\Lib\\site-packages\\torch\\nn\\modules\\module.py:1747\u001b[0m, in \u001b[0;36mModule._call_impl\u001b[1;34m(self, *args, **kwargs)\u001b[0m\n\u001b[0;32m   1742\u001b[0m \u001b[38;5;66;03m# If we don't have any hooks, we want to skip the rest of the logic in\u001b[39;00m\n\u001b[0;32m   1743\u001b[0m \u001b[38;5;66;03m# this function, and just call forward.\u001b[39;00m\n\u001b[0;32m   1744\u001b[0m \u001b[38;5;28;01mif\u001b[39;00m \u001b[38;5;129;01mnot\u001b[39;00m (\u001b[38;5;28mself\u001b[39m\u001b[38;5;241m.\u001b[39m_backward_hooks \u001b[38;5;129;01mor\u001b[39;00m \u001b[38;5;28mself\u001b[39m\u001b[38;5;241m.\u001b[39m_backward_pre_hooks \u001b[38;5;129;01mor\u001b[39;00m \u001b[38;5;28mself\u001b[39m\u001b[38;5;241m.\u001b[39m_forward_hooks \u001b[38;5;129;01mor\u001b[39;00m \u001b[38;5;28mself\u001b[39m\u001b[38;5;241m.\u001b[39m_forward_pre_hooks\n\u001b[0;32m   1745\u001b[0m         \u001b[38;5;129;01mor\u001b[39;00m _global_backward_pre_hooks \u001b[38;5;129;01mor\u001b[39;00m _global_backward_hooks\n\u001b[0;32m   1746\u001b[0m         \u001b[38;5;129;01mor\u001b[39;00m _global_forward_hooks \u001b[38;5;129;01mor\u001b[39;00m _global_forward_pre_hooks):\n\u001b[1;32m-> 1747\u001b[0m     \u001b[38;5;28;01mreturn\u001b[39;00m \u001b[43mforward_call\u001b[49m\u001b[43m(\u001b[49m\u001b[38;5;241;43m*\u001b[39;49m\u001b[43margs\u001b[49m\u001b[43m,\u001b[49m\u001b[43m \u001b[49m\u001b[38;5;241;43m*\u001b[39;49m\u001b[38;5;241;43m*\u001b[39;49m\u001b[43mkwargs\u001b[49m\u001b[43m)\u001b[49m\n\u001b[0;32m   1749\u001b[0m result \u001b[38;5;241m=\u001b[39m \u001b[38;5;28;01mNone\u001b[39;00m\n\u001b[0;32m   1750\u001b[0m called_always_called_hooks \u001b[38;5;241m=\u001b[39m \u001b[38;5;28mset\u001b[39m()\n",
      "File \u001b[1;32mw:\\repos\\IAB_Ad_Classification_Project\\.venv\\Lib\\site-packages\\transformers\\models\\bert\\modeling_bert.py:695\u001b[0m, in \u001b[0;36mBertEncoder.forward\u001b[1;34m(self, hidden_states, attention_mask, head_mask, encoder_hidden_states, encoder_attention_mask, past_key_values, use_cache, output_attentions, output_hidden_states, return_dict)\u001b[0m\n\u001b[0;32m    684\u001b[0m     layer_outputs \u001b[38;5;241m=\u001b[39m \u001b[38;5;28mself\u001b[39m\u001b[38;5;241m.\u001b[39m_gradient_checkpointing_func(\n\u001b[0;32m    685\u001b[0m         layer_module\u001b[38;5;241m.\u001b[39m\u001b[38;5;21m__call__\u001b[39m,\n\u001b[0;32m    686\u001b[0m         hidden_states,\n\u001b[1;32m   (...)\u001b[0m\n\u001b[0;32m    692\u001b[0m         output_attentions,\n\u001b[0;32m    693\u001b[0m     )\n\u001b[0;32m    694\u001b[0m \u001b[38;5;28;01melse\u001b[39;00m:\n\u001b[1;32m--> 695\u001b[0m     layer_outputs \u001b[38;5;241m=\u001b[39m \u001b[43mlayer_module\u001b[49m\u001b[43m(\u001b[49m\n\u001b[0;32m    696\u001b[0m \u001b[43m        \u001b[49m\u001b[43mhidden_states\u001b[49m\u001b[43m,\u001b[49m\n\u001b[0;32m    697\u001b[0m \u001b[43m        \u001b[49m\u001b[43mattention_mask\u001b[49m\u001b[43m,\u001b[49m\n\u001b[0;32m    698\u001b[0m \u001b[43m        \u001b[49m\u001b[43mlayer_head_mask\u001b[49m\u001b[43m,\u001b[49m\n\u001b[0;32m    699\u001b[0m \u001b[43m        \u001b[49m\u001b[43mencoder_hidden_states\u001b[49m\u001b[43m,\u001b[49m\n\u001b[0;32m    700\u001b[0m \u001b[43m        \u001b[49m\u001b[43mencoder_attention_mask\u001b[49m\u001b[43m,\u001b[49m\n\u001b[0;32m    701\u001b[0m \u001b[43m        \u001b[49m\u001b[43mpast_key_value\u001b[49m\u001b[43m,\u001b[49m\n\u001b[0;32m    702\u001b[0m \u001b[43m        \u001b[49m\u001b[43moutput_attentions\u001b[49m\u001b[43m,\u001b[49m\n\u001b[0;32m    703\u001b[0m \u001b[43m    \u001b[49m\u001b[43m)\u001b[49m\n\u001b[0;32m    705\u001b[0m hidden_states \u001b[38;5;241m=\u001b[39m layer_outputs[\u001b[38;5;241m0\u001b[39m]\n\u001b[0;32m    706\u001b[0m \u001b[38;5;28;01mif\u001b[39;00m use_cache:\n",
      "File \u001b[1;32mw:\\repos\\IAB_Ad_Classification_Project\\.venv\\Lib\\site-packages\\torch\\nn\\modules\\module.py:1736\u001b[0m, in \u001b[0;36mModule._wrapped_call_impl\u001b[1;34m(self, *args, **kwargs)\u001b[0m\n\u001b[0;32m   1734\u001b[0m     \u001b[38;5;28;01mreturn\u001b[39;00m \u001b[38;5;28mself\u001b[39m\u001b[38;5;241m.\u001b[39m_compiled_call_impl(\u001b[38;5;241m*\u001b[39margs, \u001b[38;5;241m*\u001b[39m\u001b[38;5;241m*\u001b[39mkwargs)  \u001b[38;5;66;03m# type: ignore[misc]\u001b[39;00m\n\u001b[0;32m   1735\u001b[0m \u001b[38;5;28;01melse\u001b[39;00m:\n\u001b[1;32m-> 1736\u001b[0m     \u001b[38;5;28;01mreturn\u001b[39;00m \u001b[38;5;28;43mself\u001b[39;49m\u001b[38;5;241;43m.\u001b[39;49m\u001b[43m_call_impl\u001b[49m\u001b[43m(\u001b[49m\u001b[38;5;241;43m*\u001b[39;49m\u001b[43margs\u001b[49m\u001b[43m,\u001b[49m\u001b[43m \u001b[49m\u001b[38;5;241;43m*\u001b[39;49m\u001b[38;5;241;43m*\u001b[39;49m\u001b[43mkwargs\u001b[49m\u001b[43m)\u001b[49m\n",
      "File \u001b[1;32mw:\\repos\\IAB_Ad_Classification_Project\\.venv\\Lib\\site-packages\\torch\\nn\\modules\\module.py:1747\u001b[0m, in \u001b[0;36mModule._call_impl\u001b[1;34m(self, *args, **kwargs)\u001b[0m\n\u001b[0;32m   1742\u001b[0m \u001b[38;5;66;03m# If we don't have any hooks, we want to skip the rest of the logic in\u001b[39;00m\n\u001b[0;32m   1743\u001b[0m \u001b[38;5;66;03m# this function, and just call forward.\u001b[39;00m\n\u001b[0;32m   1744\u001b[0m \u001b[38;5;28;01mif\u001b[39;00m \u001b[38;5;129;01mnot\u001b[39;00m (\u001b[38;5;28mself\u001b[39m\u001b[38;5;241m.\u001b[39m_backward_hooks \u001b[38;5;129;01mor\u001b[39;00m \u001b[38;5;28mself\u001b[39m\u001b[38;5;241m.\u001b[39m_backward_pre_hooks \u001b[38;5;129;01mor\u001b[39;00m \u001b[38;5;28mself\u001b[39m\u001b[38;5;241m.\u001b[39m_forward_hooks \u001b[38;5;129;01mor\u001b[39;00m \u001b[38;5;28mself\u001b[39m\u001b[38;5;241m.\u001b[39m_forward_pre_hooks\n\u001b[0;32m   1745\u001b[0m         \u001b[38;5;129;01mor\u001b[39;00m _global_backward_pre_hooks \u001b[38;5;129;01mor\u001b[39;00m _global_backward_hooks\n\u001b[0;32m   1746\u001b[0m         \u001b[38;5;129;01mor\u001b[39;00m _global_forward_hooks \u001b[38;5;129;01mor\u001b[39;00m _global_forward_pre_hooks):\n\u001b[1;32m-> 1747\u001b[0m     \u001b[38;5;28;01mreturn\u001b[39;00m \u001b[43mforward_call\u001b[49m\u001b[43m(\u001b[49m\u001b[38;5;241;43m*\u001b[39;49m\u001b[43margs\u001b[49m\u001b[43m,\u001b[49m\u001b[43m \u001b[49m\u001b[38;5;241;43m*\u001b[39;49m\u001b[38;5;241;43m*\u001b[39;49m\u001b[43mkwargs\u001b[49m\u001b[43m)\u001b[49m\n\u001b[0;32m   1749\u001b[0m result \u001b[38;5;241m=\u001b[39m \u001b[38;5;28;01mNone\u001b[39;00m\n\u001b[0;32m   1750\u001b[0m called_always_called_hooks \u001b[38;5;241m=\u001b[39m \u001b[38;5;28mset\u001b[39m()\n",
      "File \u001b[1;32mw:\\repos\\IAB_Ad_Classification_Project\\.venv\\Lib\\site-packages\\transformers\\models\\bert\\modeling_bert.py:585\u001b[0m, in \u001b[0;36mBertLayer.forward\u001b[1;34m(self, hidden_states, attention_mask, head_mask, encoder_hidden_states, encoder_attention_mask, past_key_value, output_attentions)\u001b[0m\n\u001b[0;32m    573\u001b[0m \u001b[38;5;28;01mdef\u001b[39;00m \u001b[38;5;21mforward\u001b[39m(\n\u001b[0;32m    574\u001b[0m     \u001b[38;5;28mself\u001b[39m,\n\u001b[0;32m    575\u001b[0m     hidden_states: torch\u001b[38;5;241m.\u001b[39mTensor,\n\u001b[1;32m   (...)\u001b[0m\n\u001b[0;32m    582\u001b[0m ) \u001b[38;5;241m-\u001b[39m\u001b[38;5;241m>\u001b[39m Tuple[torch\u001b[38;5;241m.\u001b[39mTensor]:\n\u001b[0;32m    583\u001b[0m     \u001b[38;5;66;03m# decoder uni-directional self-attention cached key/values tuple is at positions 1,2\u001b[39;00m\n\u001b[0;32m    584\u001b[0m     self_attn_past_key_value \u001b[38;5;241m=\u001b[39m past_key_value[:\u001b[38;5;241m2\u001b[39m] \u001b[38;5;28;01mif\u001b[39;00m past_key_value \u001b[38;5;129;01mis\u001b[39;00m \u001b[38;5;129;01mnot\u001b[39;00m \u001b[38;5;28;01mNone\u001b[39;00m \u001b[38;5;28;01melse\u001b[39;00m \u001b[38;5;28;01mNone\u001b[39;00m\n\u001b[1;32m--> 585\u001b[0m     self_attention_outputs \u001b[38;5;241m=\u001b[39m \u001b[38;5;28;43mself\u001b[39;49m\u001b[38;5;241;43m.\u001b[39;49m\u001b[43mattention\u001b[49m\u001b[43m(\u001b[49m\n\u001b[0;32m    586\u001b[0m \u001b[43m        \u001b[49m\u001b[43mhidden_states\u001b[49m\u001b[43m,\u001b[49m\n\u001b[0;32m    587\u001b[0m \u001b[43m        \u001b[49m\u001b[43mattention_mask\u001b[49m\u001b[43m,\u001b[49m\n\u001b[0;32m    588\u001b[0m \u001b[43m        \u001b[49m\u001b[43mhead_mask\u001b[49m\u001b[43m,\u001b[49m\n\u001b[0;32m    589\u001b[0m \u001b[43m        \u001b[49m\u001b[43moutput_attentions\u001b[49m\u001b[38;5;241;43m=\u001b[39;49m\u001b[43moutput_attentions\u001b[49m\u001b[43m,\u001b[49m\n\u001b[0;32m    590\u001b[0m \u001b[43m        \u001b[49m\u001b[43mpast_key_value\u001b[49m\u001b[38;5;241;43m=\u001b[39;49m\u001b[43mself_attn_past_key_value\u001b[49m\u001b[43m,\u001b[49m\n\u001b[0;32m    591\u001b[0m \u001b[43m    \u001b[49m\u001b[43m)\u001b[49m\n\u001b[0;32m    592\u001b[0m     attention_output \u001b[38;5;241m=\u001b[39m self_attention_outputs[\u001b[38;5;241m0\u001b[39m]\n\u001b[0;32m    594\u001b[0m     \u001b[38;5;66;03m# if decoder, the last output is tuple of self-attn cache\u001b[39;00m\n",
      "File \u001b[1;32mw:\\repos\\IAB_Ad_Classification_Project\\.venv\\Lib\\site-packages\\torch\\nn\\modules\\module.py:1736\u001b[0m, in \u001b[0;36mModule._wrapped_call_impl\u001b[1;34m(self, *args, **kwargs)\u001b[0m\n\u001b[0;32m   1734\u001b[0m     \u001b[38;5;28;01mreturn\u001b[39;00m \u001b[38;5;28mself\u001b[39m\u001b[38;5;241m.\u001b[39m_compiled_call_impl(\u001b[38;5;241m*\u001b[39margs, \u001b[38;5;241m*\u001b[39m\u001b[38;5;241m*\u001b[39mkwargs)  \u001b[38;5;66;03m# type: ignore[misc]\u001b[39;00m\n\u001b[0;32m   1735\u001b[0m \u001b[38;5;28;01melse\u001b[39;00m:\n\u001b[1;32m-> 1736\u001b[0m     \u001b[38;5;28;01mreturn\u001b[39;00m \u001b[38;5;28;43mself\u001b[39;49m\u001b[38;5;241;43m.\u001b[39;49m\u001b[43m_call_impl\u001b[49m\u001b[43m(\u001b[49m\u001b[38;5;241;43m*\u001b[39;49m\u001b[43margs\u001b[49m\u001b[43m,\u001b[49m\u001b[43m \u001b[49m\u001b[38;5;241;43m*\u001b[39;49m\u001b[38;5;241;43m*\u001b[39;49m\u001b[43mkwargs\u001b[49m\u001b[43m)\u001b[49m\n",
      "File \u001b[1;32mw:\\repos\\IAB_Ad_Classification_Project\\.venv\\Lib\\site-packages\\torch\\nn\\modules\\module.py:1747\u001b[0m, in \u001b[0;36mModule._call_impl\u001b[1;34m(self, *args, **kwargs)\u001b[0m\n\u001b[0;32m   1742\u001b[0m \u001b[38;5;66;03m# If we don't have any hooks, we want to skip the rest of the logic in\u001b[39;00m\n\u001b[0;32m   1743\u001b[0m \u001b[38;5;66;03m# this function, and just call forward.\u001b[39;00m\n\u001b[0;32m   1744\u001b[0m \u001b[38;5;28;01mif\u001b[39;00m \u001b[38;5;129;01mnot\u001b[39;00m (\u001b[38;5;28mself\u001b[39m\u001b[38;5;241m.\u001b[39m_backward_hooks \u001b[38;5;129;01mor\u001b[39;00m \u001b[38;5;28mself\u001b[39m\u001b[38;5;241m.\u001b[39m_backward_pre_hooks \u001b[38;5;129;01mor\u001b[39;00m \u001b[38;5;28mself\u001b[39m\u001b[38;5;241m.\u001b[39m_forward_hooks \u001b[38;5;129;01mor\u001b[39;00m \u001b[38;5;28mself\u001b[39m\u001b[38;5;241m.\u001b[39m_forward_pre_hooks\n\u001b[0;32m   1745\u001b[0m         \u001b[38;5;129;01mor\u001b[39;00m _global_backward_pre_hooks \u001b[38;5;129;01mor\u001b[39;00m _global_backward_hooks\n\u001b[0;32m   1746\u001b[0m         \u001b[38;5;129;01mor\u001b[39;00m _global_forward_hooks \u001b[38;5;129;01mor\u001b[39;00m _global_forward_pre_hooks):\n\u001b[1;32m-> 1747\u001b[0m     \u001b[38;5;28;01mreturn\u001b[39;00m \u001b[43mforward_call\u001b[49m\u001b[43m(\u001b[49m\u001b[38;5;241;43m*\u001b[39;49m\u001b[43margs\u001b[49m\u001b[43m,\u001b[49m\u001b[43m \u001b[49m\u001b[38;5;241;43m*\u001b[39;49m\u001b[38;5;241;43m*\u001b[39;49m\u001b[43mkwargs\u001b[49m\u001b[43m)\u001b[49m\n\u001b[0;32m   1749\u001b[0m result \u001b[38;5;241m=\u001b[39m \u001b[38;5;28;01mNone\u001b[39;00m\n\u001b[0;32m   1750\u001b[0m called_always_called_hooks \u001b[38;5;241m=\u001b[39m \u001b[38;5;28mset\u001b[39m()\n",
      "File \u001b[1;32mw:\\repos\\IAB_Ad_Classification_Project\\.venv\\Lib\\site-packages\\transformers\\models\\bert\\modeling_bert.py:524\u001b[0m, in \u001b[0;36mBertAttention.forward\u001b[1;34m(self, hidden_states, attention_mask, head_mask, encoder_hidden_states, encoder_attention_mask, past_key_value, output_attentions)\u001b[0m\n\u001b[0;32m    505\u001b[0m \u001b[38;5;28;01mdef\u001b[39;00m \u001b[38;5;21mforward\u001b[39m(\n\u001b[0;32m    506\u001b[0m     \u001b[38;5;28mself\u001b[39m,\n\u001b[0;32m    507\u001b[0m     hidden_states: torch\u001b[38;5;241m.\u001b[39mTensor,\n\u001b[1;32m   (...)\u001b[0m\n\u001b[0;32m    513\u001b[0m     output_attentions: Optional[\u001b[38;5;28mbool\u001b[39m] \u001b[38;5;241m=\u001b[39m \u001b[38;5;28;01mFalse\u001b[39;00m,\n\u001b[0;32m    514\u001b[0m ) \u001b[38;5;241m-\u001b[39m\u001b[38;5;241m>\u001b[39m Tuple[torch\u001b[38;5;241m.\u001b[39mTensor]:\n\u001b[0;32m    515\u001b[0m     self_outputs \u001b[38;5;241m=\u001b[39m \u001b[38;5;28mself\u001b[39m\u001b[38;5;241m.\u001b[39mself(\n\u001b[0;32m    516\u001b[0m         hidden_states,\n\u001b[0;32m    517\u001b[0m         attention_mask,\n\u001b[1;32m   (...)\u001b[0m\n\u001b[0;32m    522\u001b[0m         output_attentions,\n\u001b[0;32m    523\u001b[0m     )\n\u001b[1;32m--> 524\u001b[0m     attention_output \u001b[38;5;241m=\u001b[39m \u001b[38;5;28;43mself\u001b[39;49m\u001b[38;5;241;43m.\u001b[39;49m\u001b[43moutput\u001b[49m\u001b[43m(\u001b[49m\u001b[43mself_outputs\u001b[49m\u001b[43m[\u001b[49m\u001b[38;5;241;43m0\u001b[39;49m\u001b[43m]\u001b[49m\u001b[43m,\u001b[49m\u001b[43m \u001b[49m\u001b[43mhidden_states\u001b[49m\u001b[43m)\u001b[49m\n\u001b[0;32m    525\u001b[0m     outputs \u001b[38;5;241m=\u001b[39m (attention_output,) \u001b[38;5;241m+\u001b[39m self_outputs[\u001b[38;5;241m1\u001b[39m:]  \u001b[38;5;66;03m# add attentions if we output them\u001b[39;00m\n\u001b[0;32m    526\u001b[0m     \u001b[38;5;28;01mreturn\u001b[39;00m outputs\n",
      "File \u001b[1;32mw:\\repos\\IAB_Ad_Classification_Project\\.venv\\Lib\\site-packages\\torch\\nn\\modules\\module.py:1736\u001b[0m, in \u001b[0;36mModule._wrapped_call_impl\u001b[1;34m(self, *args, **kwargs)\u001b[0m\n\u001b[0;32m   1734\u001b[0m     \u001b[38;5;28;01mreturn\u001b[39;00m \u001b[38;5;28mself\u001b[39m\u001b[38;5;241m.\u001b[39m_compiled_call_impl(\u001b[38;5;241m*\u001b[39margs, \u001b[38;5;241m*\u001b[39m\u001b[38;5;241m*\u001b[39mkwargs)  \u001b[38;5;66;03m# type: ignore[misc]\u001b[39;00m\n\u001b[0;32m   1735\u001b[0m \u001b[38;5;28;01melse\u001b[39;00m:\n\u001b[1;32m-> 1736\u001b[0m     \u001b[38;5;28;01mreturn\u001b[39;00m \u001b[38;5;28;43mself\u001b[39;49m\u001b[38;5;241;43m.\u001b[39;49m\u001b[43m_call_impl\u001b[49m\u001b[43m(\u001b[49m\u001b[38;5;241;43m*\u001b[39;49m\u001b[43margs\u001b[49m\u001b[43m,\u001b[49m\u001b[43m \u001b[49m\u001b[38;5;241;43m*\u001b[39;49m\u001b[38;5;241;43m*\u001b[39;49m\u001b[43mkwargs\u001b[49m\u001b[43m)\u001b[49m\n",
      "File \u001b[1;32mw:\\repos\\IAB_Ad_Classification_Project\\.venv\\Lib\\site-packages\\torch\\nn\\modules\\module.py:1747\u001b[0m, in \u001b[0;36mModule._call_impl\u001b[1;34m(self, *args, **kwargs)\u001b[0m\n\u001b[0;32m   1742\u001b[0m \u001b[38;5;66;03m# If we don't have any hooks, we want to skip the rest of the logic in\u001b[39;00m\n\u001b[0;32m   1743\u001b[0m \u001b[38;5;66;03m# this function, and just call forward.\u001b[39;00m\n\u001b[0;32m   1744\u001b[0m \u001b[38;5;28;01mif\u001b[39;00m \u001b[38;5;129;01mnot\u001b[39;00m (\u001b[38;5;28mself\u001b[39m\u001b[38;5;241m.\u001b[39m_backward_hooks \u001b[38;5;129;01mor\u001b[39;00m \u001b[38;5;28mself\u001b[39m\u001b[38;5;241m.\u001b[39m_backward_pre_hooks \u001b[38;5;129;01mor\u001b[39;00m \u001b[38;5;28mself\u001b[39m\u001b[38;5;241m.\u001b[39m_forward_hooks \u001b[38;5;129;01mor\u001b[39;00m \u001b[38;5;28mself\u001b[39m\u001b[38;5;241m.\u001b[39m_forward_pre_hooks\n\u001b[0;32m   1745\u001b[0m         \u001b[38;5;129;01mor\u001b[39;00m _global_backward_pre_hooks \u001b[38;5;129;01mor\u001b[39;00m _global_backward_hooks\n\u001b[0;32m   1746\u001b[0m         \u001b[38;5;129;01mor\u001b[39;00m _global_forward_hooks \u001b[38;5;129;01mor\u001b[39;00m _global_forward_pre_hooks):\n\u001b[1;32m-> 1747\u001b[0m     \u001b[38;5;28;01mreturn\u001b[39;00m \u001b[43mforward_call\u001b[49m\u001b[43m(\u001b[49m\u001b[38;5;241;43m*\u001b[39;49m\u001b[43margs\u001b[49m\u001b[43m,\u001b[49m\u001b[43m \u001b[49m\u001b[38;5;241;43m*\u001b[39;49m\u001b[38;5;241;43m*\u001b[39;49m\u001b[43mkwargs\u001b[49m\u001b[43m)\u001b[49m\n\u001b[0;32m   1749\u001b[0m result \u001b[38;5;241m=\u001b[39m \u001b[38;5;28;01mNone\u001b[39;00m\n\u001b[0;32m   1750\u001b[0m called_always_called_hooks \u001b[38;5;241m=\u001b[39m \u001b[38;5;28mset\u001b[39m()\n",
      "File \u001b[1;32mw:\\repos\\IAB_Ad_Classification_Project\\.venv\\Lib\\site-packages\\transformers\\models\\bert\\modeling_bert.py:466\u001b[0m, in \u001b[0;36mBertSelfOutput.forward\u001b[1;34m(self, hidden_states, input_tensor)\u001b[0m\n\u001b[0;32m    465\u001b[0m \u001b[38;5;28;01mdef\u001b[39;00m \u001b[38;5;21mforward\u001b[39m(\u001b[38;5;28mself\u001b[39m, hidden_states: torch\u001b[38;5;241m.\u001b[39mTensor, input_tensor: torch\u001b[38;5;241m.\u001b[39mTensor) \u001b[38;5;241m-\u001b[39m\u001b[38;5;241m>\u001b[39m torch\u001b[38;5;241m.\u001b[39mTensor:\n\u001b[1;32m--> 466\u001b[0m     hidden_states \u001b[38;5;241m=\u001b[39m \u001b[38;5;28;43mself\u001b[39;49m\u001b[38;5;241;43m.\u001b[39;49m\u001b[43mdense\u001b[49m\u001b[43m(\u001b[49m\u001b[43mhidden_states\u001b[49m\u001b[43m)\u001b[49m\n\u001b[0;32m    467\u001b[0m     hidden_states \u001b[38;5;241m=\u001b[39m \u001b[38;5;28mself\u001b[39m\u001b[38;5;241m.\u001b[39mdropout(hidden_states)\n\u001b[0;32m    468\u001b[0m     hidden_states \u001b[38;5;241m=\u001b[39m \u001b[38;5;28mself\u001b[39m\u001b[38;5;241m.\u001b[39mLayerNorm(hidden_states \u001b[38;5;241m+\u001b[39m input_tensor)\n",
      "File \u001b[1;32mw:\\repos\\IAB_Ad_Classification_Project\\.venv\\Lib\\site-packages\\torch\\nn\\modules\\module.py:1736\u001b[0m, in \u001b[0;36mModule._wrapped_call_impl\u001b[1;34m(self, *args, **kwargs)\u001b[0m\n\u001b[0;32m   1734\u001b[0m     \u001b[38;5;28;01mreturn\u001b[39;00m \u001b[38;5;28mself\u001b[39m\u001b[38;5;241m.\u001b[39m_compiled_call_impl(\u001b[38;5;241m*\u001b[39margs, \u001b[38;5;241m*\u001b[39m\u001b[38;5;241m*\u001b[39mkwargs)  \u001b[38;5;66;03m# type: ignore[misc]\u001b[39;00m\n\u001b[0;32m   1735\u001b[0m \u001b[38;5;28;01melse\u001b[39;00m:\n\u001b[1;32m-> 1736\u001b[0m     \u001b[38;5;28;01mreturn\u001b[39;00m \u001b[38;5;28;43mself\u001b[39;49m\u001b[38;5;241;43m.\u001b[39;49m\u001b[43m_call_impl\u001b[49m\u001b[43m(\u001b[49m\u001b[38;5;241;43m*\u001b[39;49m\u001b[43margs\u001b[49m\u001b[43m,\u001b[49m\u001b[43m \u001b[49m\u001b[38;5;241;43m*\u001b[39;49m\u001b[38;5;241;43m*\u001b[39;49m\u001b[43mkwargs\u001b[49m\u001b[43m)\u001b[49m\n",
      "File \u001b[1;32mw:\\repos\\IAB_Ad_Classification_Project\\.venv\\Lib\\site-packages\\torch\\nn\\modules\\module.py:1747\u001b[0m, in \u001b[0;36mModule._call_impl\u001b[1;34m(self, *args, **kwargs)\u001b[0m\n\u001b[0;32m   1742\u001b[0m \u001b[38;5;66;03m# If we don't have any hooks, we want to skip the rest of the logic in\u001b[39;00m\n\u001b[0;32m   1743\u001b[0m \u001b[38;5;66;03m# this function, and just call forward.\u001b[39;00m\n\u001b[0;32m   1744\u001b[0m \u001b[38;5;28;01mif\u001b[39;00m \u001b[38;5;129;01mnot\u001b[39;00m (\u001b[38;5;28mself\u001b[39m\u001b[38;5;241m.\u001b[39m_backward_hooks \u001b[38;5;129;01mor\u001b[39;00m \u001b[38;5;28mself\u001b[39m\u001b[38;5;241m.\u001b[39m_backward_pre_hooks \u001b[38;5;129;01mor\u001b[39;00m \u001b[38;5;28mself\u001b[39m\u001b[38;5;241m.\u001b[39m_forward_hooks \u001b[38;5;129;01mor\u001b[39;00m \u001b[38;5;28mself\u001b[39m\u001b[38;5;241m.\u001b[39m_forward_pre_hooks\n\u001b[0;32m   1745\u001b[0m         \u001b[38;5;129;01mor\u001b[39;00m _global_backward_pre_hooks \u001b[38;5;129;01mor\u001b[39;00m _global_backward_hooks\n\u001b[0;32m   1746\u001b[0m         \u001b[38;5;129;01mor\u001b[39;00m _global_forward_hooks \u001b[38;5;129;01mor\u001b[39;00m _global_forward_pre_hooks):\n\u001b[1;32m-> 1747\u001b[0m     \u001b[38;5;28;01mreturn\u001b[39;00m \u001b[43mforward_call\u001b[49m\u001b[43m(\u001b[49m\u001b[38;5;241;43m*\u001b[39;49m\u001b[43margs\u001b[49m\u001b[43m,\u001b[49m\u001b[43m \u001b[49m\u001b[38;5;241;43m*\u001b[39;49m\u001b[38;5;241;43m*\u001b[39;49m\u001b[43mkwargs\u001b[49m\u001b[43m)\u001b[49m\n\u001b[0;32m   1749\u001b[0m result \u001b[38;5;241m=\u001b[39m \u001b[38;5;28;01mNone\u001b[39;00m\n\u001b[0;32m   1750\u001b[0m called_always_called_hooks \u001b[38;5;241m=\u001b[39m \u001b[38;5;28mset\u001b[39m()\n",
      "File \u001b[1;32mw:\\repos\\IAB_Ad_Classification_Project\\.venv\\Lib\\site-packages\\torch\\nn\\modules\\linear.py:125\u001b[0m, in \u001b[0;36mLinear.forward\u001b[1;34m(self, input)\u001b[0m\n\u001b[0;32m    124\u001b[0m \u001b[38;5;28;01mdef\u001b[39;00m \u001b[38;5;21mforward\u001b[39m(\u001b[38;5;28mself\u001b[39m, \u001b[38;5;28minput\u001b[39m: Tensor) \u001b[38;5;241m-\u001b[39m\u001b[38;5;241m>\u001b[39m Tensor:\n\u001b[1;32m--> 125\u001b[0m     \u001b[38;5;28;01mreturn\u001b[39;00m \u001b[43mF\u001b[49m\u001b[38;5;241;43m.\u001b[39;49m\u001b[43mlinear\u001b[49m\u001b[43m(\u001b[49m\u001b[38;5;28;43minput\u001b[39;49m\u001b[43m,\u001b[49m\u001b[43m \u001b[49m\u001b[38;5;28;43mself\u001b[39;49m\u001b[38;5;241;43m.\u001b[39;49m\u001b[43mweight\u001b[49m\u001b[43m,\u001b[49m\u001b[43m \u001b[49m\u001b[38;5;28;43mself\u001b[39;49m\u001b[38;5;241;43m.\u001b[39;49m\u001b[43mbias\u001b[49m\u001b[43m)\u001b[49m\n",
      "\u001b[1;31mKeyboardInterrupt\u001b[0m: "
     ]
    }
   ],
   "source": [
    "import pandas as pd\n",
    "from sklearn.model_selection import train_test_split\n",
    "from transformers import BertTokenizer, BertForSequenceClassification\n",
    "from transformers import TrainingArguments, Trainer\n",
    "import torch\n",
    "from torch.utils.data import Dataset\n",
    "\n",
    "# Example dataset (replace with your DataFrame)\n",
    "df = df.dropna(subset=['combined_text'])  # Remove rows with NaN in 'combined_text'\n",
    "\n",
    "# Prepare data\n",
    "X = df['combined_text'].tolist()\n",
    "y = pd.factorize(df['Tier 1'])[0]  # Convert Tier 1 labels to numerical format\n",
    "\n",
    "# Split data\n",
    "X_train, X_test, y_train, y_test = train_test_split(X, y, test_size=0.2, random_state=42)\n",
    "\n",
    "# Define a custom dataset for Hugging Face\n",
    "class TextDataset(Dataset):\n",
    "    def __init__(self, texts, labels, tokenizer, max_length=128):\n",
    "        self.texts = texts\n",
    "        self.labels = labels\n",
    "        self.tokenizer = tokenizer\n",
    "        self.max_length = max_length\n",
    "\n",
    "    def __len__(self):\n",
    "        return len(self.texts)\n",
    "\n",
    "    def __getitem__(self, idx):\n",
    "        text = self.texts[idx]\n",
    "        label = self.labels[idx]\n",
    "        encoding = self.tokenizer(\n",
    "            text,\n",
    "            padding=\"max_length\",\n",
    "            truncation=True,\n",
    "            max_length=self.max_length,\n",
    "            return_tensors=\"pt\"\n",
    "        )\n",
    "        return {\n",
    "            'input_ids': encoding['input_ids'].squeeze(0),\n",
    "            'attention_mask': encoding['attention_mask'].squeeze(0),\n",
    "            'labels': torch.tensor(label, dtype=torch.long)\n",
    "        }\n",
    "\n",
    "# Initialize tokenizer and dataset\n",
    "tokenizer = BertTokenizer.from_pretrained('bert-base-uncased')\n",
    "train_dataset = TextDataset(X_train, y_train, tokenizer)\n",
    "test_dataset = TextDataset(X_test, y_test, tokenizer)\n",
    "\n",
    "# Load the model\n",
    "model = BertForSequenceClassification.from_pretrained('bert-base-uncased', num_labels=len(set(y)))\n",
    "\n",
    "# Define training arguments\n",
    "training_args = TrainingArguments(\n",
    "    output_dir='./results',\n",
    "    evaluation_strategy=\"epoch\",\n",
    "    learning_rate=2e-5,\n",
    "    per_device_train_batch_size=8,\n",
    "    per_device_eval_batch_size=8,\n",
    "    num_train_epochs=3,\n",
    "    weight_decay=0.01,\n",
    "    logging_dir='./logs',\n",
    "    logging_steps=10,\n",
    "    save_total_limit=2\n",
    ")\n",
    "\n",
    "# Define the Trainer\n",
    "trainer = Trainer(\n",
    "    model=model,\n",
    "    args=training_args,\n",
    "    train_dataset=train_dataset,\n",
    "    eval_dataset=test_dataset,\n",
    "    tokenizer=tokenizer\n",
    ")\n",
    "\n",
    "# Train the model\n",
    "trainer.train()\n",
    "\n",
    "# Evaluate the model\n",
    "trainer.evaluate()\n",
    "\n",
    "# Save the model\n",
    "model.save_pretrained('./tier1_classifier')\n",
    "tokenizer.save_pretrained('./tier1_classifier')"
   ]
  },
  {
   "cell_type": "code",
   "execution_count": null,
   "metadata": {},
   "outputs": [
    {
     "name": "stdout",
     "output_type": "stream",
     "text": [
      "Requirement already satisfied: accelerate in w:\\repos\\iab_ad_classification_project\\.venv\\lib\\site-packages (0.26.0)\n",
      "Collecting accelerate\n",
      "  Downloading accelerate-1.2.0-py3-none-any.whl.metadata (19 kB)\n",
      "Requirement already satisfied: numpy<3.0.0,>=1.17 in w:\\repos\\iab_ad_classification_project\\.venv\\lib\\site-packages (from accelerate) (1.23.0)\n",
      "Requirement already satisfied: packaging>=20.0 in w:\\repos\\iab_ad_classification_project\\.venv\\lib\\site-packages (from accelerate) (24.2)\n",
      "Requirement already satisfied: psutil in w:\\repos\\iab_ad_classification_project\\.venv\\lib\\site-packages (from accelerate) (6.1.0)\n",
      "Requirement already satisfied: pyyaml in w:\\repos\\iab_ad_classification_project\\.venv\\lib\\site-packages (from accelerate) (6.0.2)\n",
      "Requirement already satisfied: torch>=1.10.0 in w:\\repos\\iab_ad_classification_project\\.venv\\lib\\site-packages (from accelerate) (2.5.1)\n",
      "Requirement already satisfied: huggingface-hub>=0.21.0 in w:\\repos\\iab_ad_classification_project\\.venv\\lib\\site-packages (from accelerate) (0.26.5)\n",
      "Requirement already satisfied: safetensors>=0.4.3 in w:\\repos\\iab_ad_classification_project\\.venv\\lib\\site-packages (from accelerate) (0.4.5)\n",
      "Requirement already satisfied: filelock in w:\\repos\\iab_ad_classification_project\\.venv\\lib\\site-packages (from huggingface-hub>=0.21.0->accelerate) (3.16.1)\n",
      "Requirement already satisfied: fsspec>=2023.5.0 in w:\\repos\\iab_ad_classification_project\\.venv\\lib\\site-packages (from huggingface-hub>=0.21.0->accelerate) (2024.10.0)\n",
      "Requirement already satisfied: requests in w:\\repos\\iab_ad_classification_project\\.venv\\lib\\site-packages (from huggingface-hub>=0.21.0->accelerate) (2.32.3)\n",
      "Requirement already satisfied: tqdm>=4.42.1 in w:\\repos\\iab_ad_classification_project\\.venv\\lib\\site-packages (from huggingface-hub>=0.21.0->accelerate) (4.67.1)\n",
      "Requirement already satisfied: typing-extensions>=3.7.4.3 in w:\\repos\\iab_ad_classification_project\\.venv\\lib\\site-packages (from huggingface-hub>=0.21.0->accelerate) (4.12.2)\n",
      "Requirement already satisfied: networkx in w:\\repos\\iab_ad_classification_project\\.venv\\lib\\site-packages (from torch>=1.10.0->accelerate) (3.4.2)\n",
      "Requirement already satisfied: jinja2 in w:\\repos\\iab_ad_classification_project\\.venv\\lib\\site-packages (from torch>=1.10.0->accelerate) (3.1.4)\n",
      "Requirement already satisfied: sympy==1.13.1 in w:\\repos\\iab_ad_classification_project\\.venv\\lib\\site-packages (from torch>=1.10.0->accelerate) (1.13.1)\n",
      "Requirement already satisfied: mpmath<1.4,>=1.1.0 in w:\\repos\\iab_ad_classification_project\\.venv\\lib\\site-packages (from sympy==1.13.1->torch>=1.10.0->accelerate) (1.3.0)\n",
      "Requirement already satisfied: colorama in w:\\repos\\iab_ad_classification_project\\.venv\\lib\\site-packages (from tqdm>=4.42.1->huggingface-hub>=0.21.0->accelerate) (0.4.6)\n",
      "Requirement already satisfied: MarkupSafe>=2.0 in w:\\repos\\iab_ad_classification_project\\.venv\\lib\\site-packages (from jinja2->torch>=1.10.0->accelerate) (3.0.2)\n",
      "Requirement already satisfied: charset-normalizer<4,>=2 in w:\\repos\\iab_ad_classification_project\\.venv\\lib\\site-packages (from requests->huggingface-hub>=0.21.0->accelerate) (3.4.0)\n",
      "Requirement already satisfied: idna<4,>=2.5 in w:\\repos\\iab_ad_classification_project\\.venv\\lib\\site-packages (from requests->huggingface-hub>=0.21.0->accelerate) (3.10)\n",
      "Requirement already satisfied: urllib3<3,>=1.21.1 in w:\\repos\\iab_ad_classification_project\\.venv\\lib\\site-packages (from requests->huggingface-hub>=0.21.0->accelerate) (2.2.3)\n",
      "Requirement already satisfied: certifi>=2017.4.17 in w:\\repos\\iab_ad_classification_project\\.venv\\lib\\site-packages (from requests->huggingface-hub>=0.21.0->accelerate) (2024.8.30)\n",
      "Downloading accelerate-1.2.0-py3-none-any.whl (336 kB)\n",
      "Installing collected packages: accelerate\n",
      "  Attempting uninstall: accelerate\n",
      "    Found existing installation: accelerate 0.26.0\n",
      "    Uninstalling accelerate-0.26.0:\n",
      "      Successfully uninstalled accelerate-0.26.0\n",
      "Successfully installed accelerate-1.2.0\n",
      "Requirement already satisfied: transformers in w:\\repos\\iab_ad_classification_project\\.venv\\lib\\site-packages (4.47.0)\n",
      "Requirement already satisfied: filelock in w:\\repos\\iab_ad_classification_project\\.venv\\lib\\site-packages (from transformers) (3.16.1)\n",
      "Requirement already satisfied: huggingface-hub<1.0,>=0.24.0 in w:\\repos\\iab_ad_classification_project\\.venv\\lib\\site-packages (from transformers) (0.26.5)\n",
      "Requirement already satisfied: numpy>=1.17 in w:\\repos\\iab_ad_classification_project\\.venv\\lib\\site-packages (from transformers) (1.23.0)\n",
      "Requirement already satisfied: packaging>=20.0 in w:\\repos\\iab_ad_classification_project\\.venv\\lib\\site-packages (from transformers) (24.2)\n",
      "Requirement already satisfied: pyyaml>=5.1 in w:\\repos\\iab_ad_classification_project\\.venv\\lib\\site-packages (from transformers) (6.0.2)\n",
      "Requirement already satisfied: regex!=2019.12.17 in w:\\repos\\iab_ad_classification_project\\.venv\\lib\\site-packages (from transformers) (2024.11.6)\n",
      "Requirement already satisfied: requests in w:\\repos\\iab_ad_classification_project\\.venv\\lib\\site-packages (from transformers) (2.32.3)\n",
      "Requirement already satisfied: tokenizers<0.22,>=0.21 in w:\\repos\\iab_ad_classification_project\\.venv\\lib\\site-packages (from transformers) (0.21.0)\n",
      "Requirement already satisfied: safetensors>=0.4.1 in w:\\repos\\iab_ad_classification_project\\.venv\\lib\\site-packages (from transformers) (0.4.5)\n",
      "Requirement already satisfied: tqdm>=4.27 in w:\\repos\\iab_ad_classification_project\\.venv\\lib\\site-packages (from transformers) (4.67.1)\n",
      "Requirement already satisfied: fsspec>=2023.5.0 in w:\\repos\\iab_ad_classification_project\\.venv\\lib\\site-packages (from huggingface-hub<1.0,>=0.24.0->transformers) (2024.10.0)\n",
      "Requirement already satisfied: typing-extensions>=3.7.4.3 in w:\\repos\\iab_ad_classification_project\\.venv\\lib\\site-packages (from huggingface-hub<1.0,>=0.24.0->transformers) (4.12.2)\n",
      "Requirement already satisfied: colorama in w:\\repos\\iab_ad_classification_project\\.venv\\lib\\site-packages (from tqdm>=4.27->transformers) (0.4.6)\n",
      "Requirement already satisfied: charset-normalizer<4,>=2 in w:\\repos\\iab_ad_classification_project\\.venv\\lib\\site-packages (from requests->transformers) (3.4.0)\n",
      "Requirement already satisfied: idna<4,>=2.5 in w:\\repos\\iab_ad_classification_project\\.venv\\lib\\site-packages (from requests->transformers) (3.10)\n",
      "Requirement already satisfied: urllib3<3,>=1.21.1 in w:\\repos\\iab_ad_classification_project\\.venv\\lib\\site-packages (from requests->transformers) (2.2.3)\n",
      "Requirement already satisfied: certifi>=2017.4.17 in w:\\repos\\iab_ad_classification_project\\.venv\\lib\\site-packages (from requests->transformers) (2024.8.30)\n"
     ]
    }
   ],
   "source": [
    "! pip install -U accelerate\n",
    "! pip install -U transformers"
   ]
  },
  {
   "cell_type": "code",
   "execution_count": null,
   "metadata": {},
   "outputs": [
    {
     "name": "stdout",
     "output_type": "stream",
     "text": [
      "0.26.0\n"
     ]
    }
   ],
   "source": [
    "import accelerate\n",
    "print(accelerate.__version__)"
   ]
  },
  {
   "cell_type": "code",
   "execution_count": null,
   "metadata": {},
   "outputs": [],
   "source": []
  },
  {
   "cell_type": "code",
   "execution_count": null,
   "metadata": {},
   "outputs": [],
   "source": []
  }
 ],
 "metadata": {
  "kernelspec": {
   "display_name": ".venv",
   "language": "python",
   "name": "python3"
  },
  "language_info": {
   "codemirror_mode": {
    "name": "ipython",
    "version": 3
   },
   "file_extension": ".py",
   "mimetype": "text/x-python",
   "name": "python",
   "nbconvert_exporter": "python",
   "pygments_lexer": "ipython3",
   "version": "3.11.0"
  }
 },
 "nbformat": 4,
 "nbformat_minor": 2
}
