{
 "cells": [
  {
   "cell_type": "code",
   "execution_count": 2,
   "metadata": {},
   "outputs": [],
   "source": [
    "from bs4 import BeautifulSoup\n",
    "import requests\n",
    "import random"
   ]
  },
  {
   "cell_type": "code",
   "execution_count": 3,
   "metadata": {},
   "outputs": [],
   "source": [
    "#in-case if selinium is required\n",
    "from selenium import webdriver\n",
    "from selenium.webdriver.common.by import By\n",
    "from selenium.webdriver.chrome.service import Service\n",
    "from webdriver_manager.chrome import ChromeDriverManager\n",
    "\n",
    "from selenium.webdriver.support.ui import WebDriverWait\n",
    "from selenium.webdriver.support import expected_conditions as EC"
   ]
  },
  {
   "cell_type": "code",
   "execution_count": 4,
   "metadata": {},
   "outputs": [],
   "source": [
    "user_agents =[\n",
    "    'Mozilla/5.0 (Windows NT 10.0; Win64; x64 AppleWebKit/537.36 (KHTML, like Gecko) Chrome/109.0.0.0 Safari/537.36',\n",
    "    'Mozilla/5.0 (Macintosh; Intel Mac OS X 10_15_7) AppleWebKit/537.36 (KHTML, like Gecko) Chrome/109.0.0.0 Safari/537.36',\n",
    "    'Mozilla/5.0 (Macintosh; Intel Mac OS X 10_15_7) AppleWebKit/537.36 (KHTML, like Gecko) Chrome/108.0.0.0 Safari/537.36',\n",
    "    'Mozilla/5.0 (X11; Linux x86_64) AppleWebKit/537.36 (KHTML, like Gecko) Chrome/108.0.0.0 Safari/537.36'\n",
    "    ]"
   ]
  },
  {
   "cell_type": "code",
   "execution_count": 5,
   "metadata": {},
   "outputs": [],
   "source": [
    "request_headers = {\n",
    "    'user-agent': random.choice(user_agents)\n",
    "}"
   ]
  },
  {
   "cell_type": "code",
   "execution_count": 1,
   "metadata": {},
   "outputs": [],
   "source": [
    "def extract_metadata(url):\n",
    "\n",
    "    response = requests.get(url, headers=request_headers)\n",
    "\n",
    "    soup = BeautifulSoup(response.content, \"html.parser\")\n",
    "\n",
    "    head_block = soup.find('head')\n",
    "\n",
    "    meta_block = head_block.find_all(\"meta\") if head_block else []\n",
    "\n",
    "    metadata_information = {}\n",
    "\n",
    "    for info in meta_block:\n",
    "        property = info.get(\"property\")\n",
    "        name = info.get(\"name\")\n",
    "        content = info.get(\"content\")\n",
    "        if name and content:\n",
    "            metadata_information[name] = content\n",
    "        elif property and content:\n",
    "             metadata_information[property] = content\n",
    "        else:\n",
    "            print(f\"Skipped meta tag due to missing name or content: {info}\")\n",
    "\n",
    "    return metadata_information\n"
   ]
  },
  {
   "cell_type": "code",
   "execution_count": 6,
   "metadata": {},
   "outputs": [
    {
     "name": "stdout",
     "output_type": "stream",
     "text": [
      "Skipped meta tag due to missing name or content: <meta charset=\"utf-8\"/>\n",
      "Skipped meta tag due to missing name or content: <meta content=\"IE=edge\" http-equiv=\"X-UA-Compatible\"/>\n"
     ]
    }
   ],
   "source": [
    "metadata_information = extract_metadata(\"https://www.iab.com/\")"
   ]
  },
  {
   "cell_type": "code",
   "execution_count": 7,
   "metadata": {},
   "outputs": [
    {
     "data": {
      "text/plain": [
       "{'viewport': 'width=device-width, initial-scale=1',\n",
       " 'robots': 'index, follow, max-image-preview:large, max-snippet:-1, max-video-preview:-1',\n",
       " 'description': 'Interactive Advertising Bureau (IAB) empowers the media and marketing industries to thrive in the digital economy.',\n",
       " 'og:locale': 'en_US',\n",
       " 'og:type': 'website',\n",
       " 'og:title': 'Home',\n",
       " 'og:description': 'Interactive Advertising Bureau (IAB) empowers the media and marketing industries to thrive in the digital economy.',\n",
       " 'og:url': 'https://www.iab.com/',\n",
       " 'og:site_name': 'IAB',\n",
       " 'article:publisher': 'https://www.facebook.com/IAB',\n",
       " 'article:modified_time': '2023-09-20T13:43:13+00:00',\n",
       " 'og:image': 'https://www.iab.com/wp-content/uploads/2016/03/iab-big-square.png',\n",
       " 'og:image:width': '1200',\n",
       " 'og:image:height': '1200',\n",
       " 'og:image:type': 'image/png',\n",
       " 'twitter:card': 'summary_large_image',\n",
       " 'twitter:image': 'https://www.iab.com/wp-content/uploads/2022/02/iab-logo-placeholder.png',\n",
       " 'twitter:site': '@iab',\n",
       " 'google-site-verification': '08-GtJKPFibb9O2BISsf-IkC3QgHVXSpGpnbfny1Dak'}"
      ]
     },
     "execution_count": 7,
     "metadata": {},
     "output_type": "execute_result"
    }
   ],
   "source": [
    "metadata_information"
   ]
  },
  {
   "cell_type": "code",
   "execution_count": null,
   "metadata": {},
   "outputs": [],
   "source": []
  }
 ],
 "metadata": {
  "kernelspec": {
   "display_name": "Python 3",
   "language": "python",
   "name": "python3"
  },
  "language_info": {
   "codemirror_mode": {
    "name": "ipython",
    "version": 3
   },
   "file_extension": ".py",
   "mimetype": "text/x-python",
   "name": "python",
   "nbconvert_exporter": "python",
   "pygments_lexer": "ipython3",
   "version": "3.11.0"
  }
 },
 "nbformat": 4,
 "nbformat_minor": 2
}
