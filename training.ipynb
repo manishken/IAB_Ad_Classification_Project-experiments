{
 "cells": [
  {
   "cell_type": "code",
   "execution_count": 23,
   "metadata": {},
   "outputs": [],
   "source": [
    "import pandas as pd\n",
    "\n",
    "# Specify the path to your CSV file\n",
    "file_path = 'new_file.csv'\n",
    "\n",
    "# Load the CSV file into a DataFrame\n",
    "df = pd.read_csv(file_path)\n",
    "\n"
   ]
  },
  {
   "cell_type": "code",
   "execution_count": 24,
   "metadata": {},
   "outputs": [
    {
     "name": "stdout",
     "output_type": "stream",
     "text": [
      "Requirement already satisfied: accelerate in c:\\users\\kaneki\\appdata\\local\\programs\\python\\python311\\lib\\site-packages (1.2.0)\n",
      "Requirement already satisfied: numpy<3.0.0,>=1.17 in c:\\users\\kaneki\\appdata\\local\\programs\\python\\python311\\lib\\site-packages (from accelerate) (1.26.4)\n",
      "Requirement already satisfied: packaging>=20.0 in c:\\users\\kaneki\\appdata\\local\\programs\\python\\python311\\lib\\site-packages (from accelerate) (24.1)\n",
      "Requirement already satisfied: psutil in c:\\users\\kaneki\\appdata\\local\\programs\\python\\python311\\lib\\site-packages (from accelerate) (5.9.6)\n",
      "Requirement already satisfied: pyyaml in c:\\users\\kaneki\\appdata\\local\\programs\\python\\python311\\lib\\site-packages (from accelerate) (6.0.2)\n",
      "Requirement already satisfied: torch>=1.10.0 in c:\\users\\kaneki\\appdata\\local\\programs\\python\\python311\\lib\\site-packages (from accelerate) (2.5.1+cu124)\n",
      "Requirement already satisfied: huggingface-hub>=0.21.0 in c:\\users\\kaneki\\appdata\\local\\programs\\python\\python311\\lib\\site-packages (from accelerate) (0.26.5)\n",
      "Requirement already satisfied: safetensors>=0.4.3 in c:\\users\\kaneki\\appdata\\local\\programs\\python\\python311\\lib\\site-packages (from accelerate) (0.4.5)\n",
      "Requirement already satisfied: filelock in c:\\users\\kaneki\\appdata\\local\\programs\\python\\python311\\lib\\site-packages (from huggingface-hub>=0.21.0->accelerate) (3.16.1)\n",
      "Requirement already satisfied: fsspec>=2023.5.0 in c:\\users\\kaneki\\appdata\\local\\programs\\python\\python311\\lib\\site-packages (from huggingface-hub>=0.21.0->accelerate) (2024.10.0)\n",
      "Requirement already satisfied: requests in c:\\users\\kaneki\\appdata\\local\\programs\\python\\python311\\lib\\site-packages (from huggingface-hub>=0.21.0->accelerate) (2.31.0)\n",
      "Requirement already satisfied: tqdm>=4.42.1 in c:\\users\\kaneki\\appdata\\local\\programs\\python\\python311\\lib\\site-packages (from huggingface-hub>=0.21.0->accelerate) (4.66.1)\n",
      "Requirement already satisfied: typing-extensions>=3.7.4.3 in c:\\users\\kaneki\\appdata\\local\\programs\\python\\python311\\lib\\site-packages (from huggingface-hub>=0.21.0->accelerate) (4.12.2)\n",
      "Requirement already satisfied: networkx in c:\\users\\kaneki\\appdata\\local\\programs\\python\\python311\\lib\\site-packages (from torch>=1.10.0->accelerate) (3.2.1)\n",
      "Requirement already satisfied: jinja2 in c:\\users\\kaneki\\appdata\\local\\programs\\python\\python311\\lib\\site-packages (from torch>=1.10.0->accelerate) (3.1.2)\n",
      "Requirement already satisfied: sympy==1.13.1 in c:\\users\\kaneki\\appdata\\local\\programs\\python\\python311\\lib\\site-packages (from torch>=1.10.0->accelerate) (1.13.1)\n",
      "Requirement already satisfied: mpmath<1.4,>=1.1.0 in c:\\users\\kaneki\\appdata\\local\\programs\\python\\python311\\lib\\site-packages (from sympy==1.13.1->torch>=1.10.0->accelerate) (1.3.0)\n",
      "Requirement already satisfied: colorama in c:\\users\\kaneki\\appdata\\local\\programs\\python\\python311\\lib\\site-packages (from tqdm>=4.42.1->huggingface-hub>=0.21.0->accelerate) (0.4.6)\n",
      "Requirement already satisfied: MarkupSafe>=2.0 in c:\\users\\kaneki\\appdata\\local\\programs\\python\\python311\\lib\\site-packages (from jinja2->torch>=1.10.0->accelerate) (2.1.3)\n",
      "Requirement already satisfied: charset-normalizer<4,>=2 in c:\\users\\kaneki\\appdata\\local\\programs\\python\\python311\\lib\\site-packages (from requests->huggingface-hub>=0.21.0->accelerate) (3.3.2)\n",
      "Requirement already satisfied: idna<4,>=2.5 in c:\\users\\kaneki\\appdata\\local\\programs\\python\\python311\\lib\\site-packages (from requests->huggingface-hub>=0.21.0->accelerate) (3.10)\n",
      "Requirement already satisfied: urllib3<3,>=1.21.1 in c:\\users\\kaneki\\appdata\\local\\programs\\python\\python311\\lib\\site-packages (from requests->huggingface-hub>=0.21.0->accelerate) (2.1.0)\n",
      "Requirement already satisfied: certifi>=2017.4.17 in c:\\users\\kaneki\\appdata\\local\\programs\\python\\python311\\lib\\site-packages (from requests->huggingface-hub>=0.21.0->accelerate) (2024.8.30)\n",
      "Requirement already satisfied: transformers in c:\\users\\kaneki\\appdata\\local\\programs\\python\\python311\\lib\\site-packages (4.47.0)\n",
      "Requirement already satisfied: filelock in c:\\users\\kaneki\\appdata\\local\\programs\\python\\python311\\lib\\site-packages (from transformers) (3.16.1)\n",
      "Requirement already satisfied: huggingface-hub<1.0,>=0.24.0 in c:\\users\\kaneki\\appdata\\local\\programs\\python\\python311\\lib\\site-packages (from transformers) (0.26.5)\n",
      "Requirement already satisfied: numpy>=1.17 in c:\\users\\kaneki\\appdata\\local\\programs\\python\\python311\\lib\\site-packages (from transformers) (1.26.4)\n",
      "Requirement already satisfied: packaging>=20.0 in c:\\users\\kaneki\\appdata\\local\\programs\\python\\python311\\lib\\site-packages (from transformers) (24.1)\n",
      "Requirement already satisfied: pyyaml>=5.1 in c:\\users\\kaneki\\appdata\\local\\programs\\python\\python311\\lib\\site-packages (from transformers) (6.0.2)\n",
      "Requirement already satisfied: regex!=2019.12.17 in c:\\users\\kaneki\\appdata\\local\\programs\\python\\python311\\lib\\site-packages (from transformers) (2024.11.6)\n",
      "Requirement already satisfied: requests in c:\\users\\kaneki\\appdata\\local\\programs\\python\\python311\\lib\\site-packages (from transformers) (2.31.0)\n",
      "Requirement already satisfied: tokenizers<0.22,>=0.21 in c:\\users\\kaneki\\appdata\\local\\programs\\python\\python311\\lib\\site-packages (from transformers) (0.21.0)\n",
      "Requirement already satisfied: safetensors>=0.4.1 in c:\\users\\kaneki\\appdata\\local\\programs\\python\\python311\\lib\\site-packages (from transformers) (0.4.5)\n",
      "Requirement already satisfied: tqdm>=4.27 in c:\\users\\kaneki\\appdata\\local\\programs\\python\\python311\\lib\\site-packages (from transformers) (4.66.1)\n",
      "Requirement already satisfied: fsspec>=2023.5.0 in c:\\users\\kaneki\\appdata\\local\\programs\\python\\python311\\lib\\site-packages (from huggingface-hub<1.0,>=0.24.0->transformers) (2024.10.0)\n",
      "Requirement already satisfied: typing-extensions>=3.7.4.3 in c:\\users\\kaneki\\appdata\\local\\programs\\python\\python311\\lib\\site-packages (from huggingface-hub<1.0,>=0.24.0->transformers) (4.12.2)\n",
      "Requirement already satisfied: colorama in c:\\users\\kaneki\\appdata\\local\\programs\\python\\python311\\lib\\site-packages (from tqdm>=4.27->transformers) (0.4.6)\n",
      "Requirement already satisfied: charset-normalizer<4,>=2 in c:\\users\\kaneki\\appdata\\local\\programs\\python\\python311\\lib\\site-packages (from requests->transformers) (3.3.2)\n",
      "Requirement already satisfied: idna<4,>=2.5 in c:\\users\\kaneki\\appdata\\local\\programs\\python\\python311\\lib\\site-packages (from requests->transformers) (3.10)\n",
      "Requirement already satisfied: urllib3<3,>=1.21.1 in c:\\users\\kaneki\\appdata\\local\\programs\\python\\python311\\lib\\site-packages (from requests->transformers) (2.1.0)\n",
      "Requirement already satisfied: certifi>=2017.4.17 in c:\\users\\kaneki\\appdata\\local\\programs\\python\\python311\\lib\\site-packages (from requests->transformers) (2024.8.30)\n"
     ]
    }
   ],
   "source": [
    "! pip install -U accelerate\n",
    "! pip install -U transformers"
   ]
  },
  {
   "cell_type": "code",
   "execution_count": 25,
   "metadata": {},
   "outputs": [
    {
     "name": "stdout",
     "output_type": "stream",
     "text": [
      "1.2.0\n"
     ]
    }
   ],
   "source": [
    "import accelerate\n",
    "print(accelerate.__version__)"
   ]
  },
  {
   "cell_type": "code",
   "execution_count": 26,
   "metadata": {},
   "outputs": [
    {
     "data": {
      "text/html": [
       "<div>\n",
       "<style scoped>\n",
       "    .dataframe tbody tr th:only-of-type {\n",
       "        vertical-align: middle;\n",
       "    }\n",
       "\n",
       "    .dataframe tbody tr th {\n",
       "        vertical-align: top;\n",
       "    }\n",
       "\n",
       "    .dataframe thead th {\n",
       "        text-align: right;\n",
       "    }\n",
       "</style>\n",
       "<table border=\"1\" class=\"dataframe\">\n",
       "  <thead>\n",
       "    <tr style=\"text-align: right;\">\n",
       "      <th></th>\n",
       "      <th>Tier 1</th>\n",
       "      <th>Tier 2</th>\n",
       "      <th>URL</th>\n",
       "      <th>Title</th>\n",
       "      <th>Description</th>\n",
       "      <th>Keywords</th>\n",
       "      <th>Site Name</th>\n",
       "      <th>Content</th>\n",
       "      <th>License</th>\n",
       "      <th>Language</th>\n",
       "      <th>Tier 3</th>\n",
       "      <th>Tier 4</th>\n",
       "      <th>combined_text</th>\n",
       "    </tr>\n",
       "  </thead>\n",
       "  <tbody>\n",
       "    <tr>\n",
       "      <th>0</th>\n",
       "      <td>Automotive</td>\n",
       "      <td>driving</td>\n",
       "      <td>https://www.techradar.com/best/best-dash-cam</td>\n",
       "      <td>The best dash cam 2024: The latest car cameras...</td>\n",
       "      <td>Whatever your needs and budget, we've round up...</td>\n",
       "      <td>driving</td>\n",
       "      <td>TechRadar</td>\n",
       "      <td>best dash cam nextbase garmin thinkware purcha...</td>\n",
       "      <td>cc by sa</td>\n",
       "      <td>en</td>\n",
       "      <td>NaN</td>\n",
       "      <td>NaN</td>\n",
       "      <td>The best dash cam 2024: The latest car cameras...</td>\n",
       "    </tr>\n",
       "    <tr>\n",
       "      <th>1</th>\n",
       "      <td>Automotive</td>\n",
       "      <td>driving</td>\n",
       "      <td>https://www.amazon.com/Camera-Built-170%C2%B0W...</td>\n",
       "      <td>Amazon.com: Dash Camera for Cars,4K Full UHD C...</td>\n",
       "      <td>Amazon.com: Dash Camera for Cars,4K Full UHD C...</td>\n",
       "      <td>driving</td>\n",
       "      <td>Unknown Site</td>\n",
       "      <td>offer easy convenient return least one free re...</td>\n",
       "      <td>cc by sa</td>\n",
       "      <td>en</td>\n",
       "      <td>NaN</td>\n",
       "      <td>NaN</td>\n",
       "      <td>Amazon.com: Dash Camera for Cars,4K Full UHD C...</td>\n",
       "    </tr>\n",
       "    <tr>\n",
       "      <th>2</th>\n",
       "      <td>Automotive</td>\n",
       "      <td>driving</td>\n",
       "      <td>https://matrackinc.com/dash-cams-with-cloud-st...</td>\n",
       "      <td>Top 6 Dash cams with Local and Cloud Storage -...</td>\n",
       "      <td>est dash cams with local and cloud storage for...</td>\n",
       "      <td>driving</td>\n",
       "      <td>Matrackinc -</td>\n",
       "      <td>wed love send info fill form query one team me...</td>\n",
       "      <td>cc by sa</td>\n",
       "      <td>en</td>\n",
       "      <td>NaN</td>\n",
       "      <td>NaN</td>\n",
       "      <td>Top 6 Dash cams with Local and Cloud Storage -...</td>\n",
       "    </tr>\n",
       "    <tr>\n",
       "      <th>3</th>\n",
       "      <td>Automotive</td>\n",
       "      <td>hybrid</td>\n",
       "      <td>https://www.hikvision.com/en/products/onboard-...</td>\n",
       "      <td>Industry Dash Camera - Dash Cameras - Hikvision</td>\n",
       "      <td>Hikvision dashcams provide a lightweight solut...</td>\n",
       "      <td>hybrid</td>\n",
       "      <td>Hikvision</td>\n",
       "      <td>login global en product network product networ...</td>\n",
       "      <td>cc by sa</td>\n",
       "      <td>en</td>\n",
       "      <td>NaN</td>\n",
       "      <td>NaN</td>\n",
       "      <td>Industry Dash Camera - Dash Cameras - Hikvisio...</td>\n",
       "    </tr>\n",
       "    <tr>\n",
       "      <th>4</th>\n",
       "      <td>Automotive</td>\n",
       "      <td>hybrid</td>\n",
       "      <td>https://www.hikvision.com/en/</td>\n",
       "      <td>Hikvision - Leading Video AIoT Solutions &amp; Ser...</td>\n",
       "      <td>Hikvision provides top-of-the-line AIoT soluti...</td>\n",
       "      <td>hybrid</td>\n",
       "      <td>Hikvision</td>\n",
       "      <td>login global en product network product networ...</td>\n",
       "      <td>cc by sa</td>\n",
       "      <td>en</td>\n",
       "      <td>NaN</td>\n",
       "      <td>NaN</td>\n",
       "      <td>Hikvision - Leading Video AIoT Solutions &amp; Ser...</td>\n",
       "    </tr>\n",
       "    <tr>\n",
       "      <th>...</th>\n",
       "      <td>...</td>\n",
       "      <td>...</td>\n",
       "      <td>...</td>\n",
       "      <td>...</td>\n",
       "      <td>...</td>\n",
       "      <td>...</td>\n",
       "      <td>...</td>\n",
       "      <td>...</td>\n",
       "      <td>...</td>\n",
       "      <td>...</td>\n",
       "      <td>...</td>\n",
       "      <td>...</td>\n",
       "      <td>...</td>\n",
       "    </tr>\n",
       "    <tr>\n",
       "      <th>24507</th>\n",
       "      <td>Automotive</td>\n",
       "      <td>adventure</td>\n",
       "      <td>https://www.riders-share.com/type/scooter</td>\n",
       "      <td>Scooter Rentals &amp; Moped Rentals - Riders Share</td>\n",
       "      <td>Rent a scooter or moped across the United Stat...</td>\n",
       "      <td>adventure</td>\n",
       "      <td>Unknown Site</td>\n",
       "      <td>step world motor scooter moped rental convenie...</td>\n",
       "      <td>cc</td>\n",
       "      <td>en</td>\n",
       "      <td>NaN</td>\n",
       "      <td>NaN</td>\n",
       "      <td>Scooter Rentals &amp; Moped Rentals - Riders Share...</td>\n",
       "    </tr>\n",
       "    <tr>\n",
       "      <th>24508</th>\n",
       "      <td>Automotive</td>\n",
       "      <td>research</td>\n",
       "      <td>https://tvsabl.com/</td>\n",
       "      <td>Best Two Wheeler in Bangladesh - Bike, Scooter...</td>\n",
       "      <td>: TVS Auto Bangladesh Limited - Find the best ...</td>\n",
       "      <td>research</td>\n",
       "      <td>TVS Auto Bangladesh Limited</td>\n",
       "      <td>imposing gaze thatll stop track sound thats ro...</td>\n",
       "      <td>cc</td>\n",
       "      <td>en</td>\n",
       "      <td>NaN</td>\n",
       "      <td>NaN</td>\n",
       "      <td>Best Two Wheeler in Bangladesh - Bike, Scooter...</td>\n",
       "    </tr>\n",
       "    <tr>\n",
       "      <th>24509</th>\n",
       "      <td>Automotive</td>\n",
       "      <td>styling</td>\n",
       "      <td>https://www.bikewale.com/new-bike-search/best-...</td>\n",
       "      <td>Best scooty under 60,000 | Top scooters under ...</td>\n",
       "      <td>Looking to buy a scooty under 60,000? Here is ...</td>\n",
       "      <td>styling</td>\n",
       "      <td>BikeWale</td>\n",
       "      <td>rating parameter design styling reliability co...</td>\n",
       "      <td>cc</td>\n",
       "      <td>en</td>\n",
       "      <td>NaN</td>\n",
       "      <td>NaN</td>\n",
       "      <td>Best scooty under 60,000 | Top scooters under ...</td>\n",
       "    </tr>\n",
       "    <tr>\n",
       "      <th>24510</th>\n",
       "      <td>Automotive</td>\n",
       "      <td>employment</td>\n",
       "      <td>https://www.topgearpowersports.com/Inventory/A...</td>\n",
       "      <td>Scooters For Sale: Inventory at Top Gear Power...</td>\n",
       "      <td>Shop all in-stock Scooters inventory for sale ...</td>\n",
       "      <td>employment</td>\n",
       "      <td>Unknown Site</td>\n",
       "      <td>shop inventory sale dealership roselle illinoi...</td>\n",
       "      <td>cc</td>\n",
       "      <td>en</td>\n",
       "      <td>NaN</td>\n",
       "      <td>NaN</td>\n",
       "      <td>Scooters For Sale: Inventory at Top Gear Power...</td>\n",
       "    </tr>\n",
       "    <tr>\n",
       "      <th>24511</th>\n",
       "      <td>Automotive</td>\n",
       "      <td>government</td>\n",
       "      <td>https://www.nsw.gov.au/driving-boating-and-tra...</td>\n",
       "      <td>Learner rider licence | NSW Government</td>\n",
       "      <td>Once you're 16 and 9 months, you can apply for...</td>\n",
       "      <td>government</td>\n",
       "      <td>NSW Government</td>\n",
       "      <td>youre month apply learner licence ride motorcy...</td>\n",
       "      <td>cc</td>\n",
       "      <td>en</td>\n",
       "      <td>NaN</td>\n",
       "      <td>NaN</td>\n",
       "      <td>Learner rider licence | NSW Government Once yo...</td>\n",
       "    </tr>\n",
       "  </tbody>\n",
       "</table>\n",
       "<p>24512 rows × 13 columns</p>\n",
       "</div>"
      ],
      "text/plain": [
       "           Tier 1      Tier 2  \\\n",
       "0      Automotive     driving   \n",
       "1      Automotive     driving   \n",
       "2      Automotive     driving   \n",
       "3      Automotive      hybrid   \n",
       "4      Automotive      hybrid   \n",
       "...           ...         ...   \n",
       "24507  Automotive   adventure   \n",
       "24508  Automotive    research   \n",
       "24509  Automotive     styling   \n",
       "24510  Automotive  employment   \n",
       "24511  Automotive  government   \n",
       "\n",
       "                                                     URL  \\\n",
       "0           https://www.techradar.com/best/best-dash-cam   \n",
       "1      https://www.amazon.com/Camera-Built-170%C2%B0W...   \n",
       "2      https://matrackinc.com/dash-cams-with-cloud-st...   \n",
       "3      https://www.hikvision.com/en/products/onboard-...   \n",
       "4                          https://www.hikvision.com/en/   \n",
       "...                                                  ...   \n",
       "24507          https://www.riders-share.com/type/scooter   \n",
       "24508                                https://tvsabl.com/   \n",
       "24509  https://www.bikewale.com/new-bike-search/best-...   \n",
       "24510  https://www.topgearpowersports.com/Inventory/A...   \n",
       "24511  https://www.nsw.gov.au/driving-boating-and-tra...   \n",
       "\n",
       "                                                   Title  \\\n",
       "0      The best dash cam 2024: The latest car cameras...   \n",
       "1      Amazon.com: Dash Camera for Cars,4K Full UHD C...   \n",
       "2      Top 6 Dash cams with Local and Cloud Storage -...   \n",
       "3        Industry Dash Camera - Dash Cameras - Hikvision   \n",
       "4      Hikvision - Leading Video AIoT Solutions & Ser...   \n",
       "...                                                  ...   \n",
       "24507     Scooter Rentals & Moped Rentals - Riders Share   \n",
       "24508  Best Two Wheeler in Bangladesh - Bike, Scooter...   \n",
       "24509  Best scooty under 60,000 | Top scooters under ...   \n",
       "24510  Scooters For Sale: Inventory at Top Gear Power...   \n",
       "24511             Learner rider licence | NSW Government   \n",
       "\n",
       "                                             Description    Keywords  \\\n",
       "0      Whatever your needs and budget, we've round up...     driving   \n",
       "1      Amazon.com: Dash Camera for Cars,4K Full UHD C...     driving   \n",
       "2      est dash cams with local and cloud storage for...     driving   \n",
       "3      Hikvision dashcams provide a lightweight solut...      hybrid   \n",
       "4      Hikvision provides top-of-the-line AIoT soluti...      hybrid   \n",
       "...                                                  ...         ...   \n",
       "24507  Rent a scooter or moped across the United Stat...   adventure   \n",
       "24508  : TVS Auto Bangladesh Limited - Find the best ...    research   \n",
       "24509  Looking to buy a scooty under 60,000? Here is ...     styling   \n",
       "24510  Shop all in-stock Scooters inventory for sale ...  employment   \n",
       "24511  Once you're 16 and 9 months, you can apply for...  government   \n",
       "\n",
       "                         Site Name  \\\n",
       "0                        TechRadar   \n",
       "1                     Unknown Site   \n",
       "2                     Matrackinc -   \n",
       "3                        Hikvision   \n",
       "4                        Hikvision   \n",
       "...                            ...   \n",
       "24507                 Unknown Site   \n",
       "24508  TVS Auto Bangladesh Limited   \n",
       "24509                     BikeWale   \n",
       "24510                 Unknown Site   \n",
       "24511               NSW Government   \n",
       "\n",
       "                                                 Content   License Language  \\\n",
       "0      best dash cam nextbase garmin thinkware purcha...  cc by sa       en   \n",
       "1      offer easy convenient return least one free re...  cc by sa       en   \n",
       "2      wed love send info fill form query one team me...  cc by sa       en   \n",
       "3      login global en product network product networ...  cc by sa       en   \n",
       "4      login global en product network product networ...  cc by sa       en   \n",
       "...                                                  ...       ...      ...   \n",
       "24507  step world motor scooter moped rental convenie...        cc       en   \n",
       "24508  imposing gaze thatll stop track sound thats ro...        cc       en   \n",
       "24509  rating parameter design styling reliability co...        cc       en   \n",
       "24510  shop inventory sale dealership roselle illinoi...        cc       en   \n",
       "24511  youre month apply learner licence ride motorcy...        cc       en   \n",
       "\n",
       "      Tier 3 Tier 4                                      combined_text  \n",
       "0        NaN    NaN  The best dash cam 2024: The latest car cameras...  \n",
       "1        NaN    NaN  Amazon.com: Dash Camera for Cars,4K Full UHD C...  \n",
       "2        NaN    NaN  Top 6 Dash cams with Local and Cloud Storage -...  \n",
       "3        NaN    NaN  Industry Dash Camera - Dash Cameras - Hikvisio...  \n",
       "4        NaN    NaN  Hikvision - Leading Video AIoT Solutions & Ser...  \n",
       "...      ...    ...                                                ...  \n",
       "24507    NaN    NaN  Scooter Rentals & Moped Rentals - Riders Share...  \n",
       "24508    NaN    NaN  Best Two Wheeler in Bangladesh - Bike, Scooter...  \n",
       "24509    NaN    NaN  Best scooty under 60,000 | Top scooters under ...  \n",
       "24510    NaN    NaN  Scooters For Sale: Inventory at Top Gear Power...  \n",
       "24511    NaN    NaN  Learner rider licence | NSW Government Once yo...  \n",
       "\n",
       "[24512 rows x 13 columns]"
      ]
     },
     "execution_count": 26,
     "metadata": {},
     "output_type": "execute_result"
    }
   ],
   "source": [
    "df"
   ]
  },
  {
   "cell_type": "code",
   "execution_count": 27,
   "metadata": {},
   "outputs": [
    {
     "name": "stdout",
     "output_type": "stream",
     "text": [
      "True\n"
     ]
    }
   ],
   "source": [
    "import torch\n",
    "print(torch.cuda.is_available())"
   ]
  },
  {
   "cell_type": "code",
   "execution_count": 28,
   "metadata": {},
   "outputs": [],
   "source": [
    "device = torch.device(\"cuda\" if torch.cuda.is_available() else \"cpu\")"
   ]
  },
  {
   "cell_type": "code",
   "execution_count": 29,
   "metadata": {},
   "outputs": [],
   "source": [
    "X = df['combined_text']\n",
    "y = df['Tier 1']"
   ]
  },
  {
   "cell_type": "code",
   "execution_count": 9,
   "metadata": {},
   "outputs": [
    {
     "name": "stdout",
     "output_type": "stream",
     "text": [
      "24512 24512\n"
     ]
    }
   ],
   "source": [
    "# Check if lengths match\n",
    "print(len(X), len(y))  # Should output the same number\n",
    "\n",
    "# Proceed with your vectorizer and model\n",
    "from sklearn.model_selection import train_test_split\n",
    "from sklearn.feature_extraction.text import CountVectorizer\n",
    "\n",
    "# Split data into train and test sets\n",
    "X_train, X_test, y_train, y_test = train_test_split(X, y, test_size=0.2, random_state=42)\n",
    "\n",
    "# Convert text data to feature vectors\n",
    "vectorizer = CountVectorizer()\n",
    "X_train_vec = vectorizer.fit_transform(X_train)\n",
    "X_test_vec = vectorizer.transform(X_test)"
   ]
  },
  {
   "cell_type": "code",
   "execution_count": 30,
   "metadata": {},
   "outputs": [
    {
     "name": "stdout",
     "output_type": "stream",
     "text": [
      "Using device: cuda\n"
     ]
    },
    {
     "name": "stderr",
     "output_type": "stream",
     "text": [
      "Some weights of BertForSequenceClassification were not initialized from the model checkpoint at bert-base-uncased and are newly initialized: ['classifier.bias', 'classifier.weight']\n",
      "You should probably TRAIN this model on a down-stream task to be able to use it for predictions and inference.\n",
      "c:\\Users\\Kaneki\\AppData\\Local\\Programs\\Python\\Python311\\Lib\\site-packages\\transformers\\training_args.py:1575: FutureWarning: `evaluation_strategy` is deprecated and will be removed in version 4.46 of 🤗 Transformers. Use `eval_strategy` instead\n",
      "  warnings.warn(\n",
      "C:\\Users\\Kaneki\\AppData\\Local\\Temp\\ipykernel_30768\\3984759120.py:76: FutureWarning: `tokenizer` is deprecated and will be removed in version 5.0.0 for `Trainer.__init__`. Use `processing_class` instead.\n",
      "  trainer = Trainer(\n",
      "  0%|          | 10/7356 [00:02<29:30,  4.15it/s] "
     ]
    },
    {
     "name": "stdout",
     "output_type": "stream",
     "text": [
      "{'loss': 5.2948, 'grad_norm': 11.078274726867676, 'learning_rate': 1.9975530179445354e-05, 'epoch': 0.0}\n"
     ]
    },
    {
     "name": "stderr",
     "output_type": "stream",
     "text": [
      "  0%|          | 21/7356 [00:05<22:37,  5.40it/s]"
     ]
    },
    {
     "name": "stdout",
     "output_type": "stream",
     "text": [
      "{'loss': 5.132, 'grad_norm': 8.310257911682129, 'learning_rate': 1.9951060358890702e-05, 'epoch': 0.01}\n"
     ]
    },
    {
     "name": "stderr",
     "output_type": "stream",
     "text": [
      "  0%|          | 30/7356 [00:06<22:37,  5.40it/s]"
     ]
    },
    {
     "name": "stdout",
     "output_type": "stream",
     "text": [
      "{'loss': 5.0275, 'grad_norm': 10.285294532775879, 'learning_rate': 1.992387166938554e-05, 'epoch': 0.01}\n"
     ]
    },
    {
     "name": "stderr",
     "output_type": "stream",
     "text": [
      "  1%|          | 41/7356 [00:09<30:13,  4.03it/s]"
     ]
    },
    {
     "name": "stdout",
     "output_type": "stream",
     "text": [
      "{'loss': 5.0773, 'grad_norm': 9.9159517288208, 'learning_rate': 1.989668297988037e-05, 'epoch': 0.02}\n"
     ]
    },
    {
     "name": "stderr",
     "output_type": "stream",
     "text": [
      "  1%|          | 50/7356 [00:10<21:45,  5.60it/s]"
     ]
    },
    {
     "name": "stdout",
     "output_type": "stream",
     "text": [
      "{'loss': 4.9826, 'grad_norm': 9.141681671142578, 'learning_rate': 1.9872213159325723e-05, 'epoch': 0.02}\n"
     ]
    },
    {
     "name": "stderr",
     "output_type": "stream",
     "text": [
      "  1%|          | 61/7356 [00:13<22:53,  5.31it/s]  "
     ]
    },
    {
     "name": "stdout",
     "output_type": "stream",
     "text": [
      "{'loss': 4.8716, 'grad_norm': 9.060290336608887, 'learning_rate': 1.9845024469820556e-05, 'epoch': 0.02}\n"
     ]
    },
    {
     "name": "stderr",
     "output_type": "stream",
     "text": [
      "  1%|          | 68/7356 [00:15<23:31,  5.16it/s]"
     ]
    },
    {
     "ename": "",
     "evalue": "",
     "output_type": "error",
     "traceback": [
      "\u001b[1;31mThe Kernel crashed while executing code in the current cell or a previous cell. \n",
      "\u001b[1;31mPlease review the code in the cell(s) to identify a possible cause of the failure. \n",
      "\u001b[1;31mClick <a href='https://aka.ms/vscodeJupyterKernelCrash'>here</a> for more info. \n",
      "\u001b[1;31mView Jupyter <a href='command:jupyter.viewOutput'>log</a> for further details."
     ]
    }
   ],
   "source": [
    "import pandas as pd\n",
    "from sklearn.model_selection import train_test_split\n",
    "from transformers import BertTokenizer, BertForSequenceClassification\n",
    "from transformers import TrainingArguments, Trainer\n",
    "import torch\n",
    "from torch.utils.data import Dataset\n",
    "\n",
    "# Check if CUDA is available\n",
    "device = torch.device(\"cuda\" if torch.cuda.is_available() else \"cpu\")\n",
    "print(f\"Using device: {device}\")\n",
    "\n",
    "# Example dataset (replace with your DataFrame)\n",
    "df = df.dropna(subset=['combined_text'])  # Remove rows with NaN in 'combined_text'\n",
    "\n",
    "# Prepare data\n",
    "X = df['combined_text'].tolist()\n",
    "y = pd.factorize(df['Tier 2'])[0]  # Convert Tier 1 labels to numerical format\n",
    "\n",
    "# Split data\n",
    "X_train, X_test, y_train, y_test = train_test_split(X, y, test_size=0.2, random_state=42)\n",
    "\n",
    "# Define a custom dataset for Hugging Face\n",
    "class TextDataset(Dataset):\n",
    "    def __init__(self, texts, labels, tokenizer, max_length=128):\n",
    "        self.texts = texts\n",
    "        self.labels = labels\n",
    "        self.tokenizer = tokenizer\n",
    "        self.max_length = max_length\n",
    "\n",
    "    def __len__(self):\n",
    "        return len(self.texts)\n",
    "\n",
    "    def __getitem__(self, idx):\n",
    "        text = self.texts[idx]\n",
    "        label = self.labels[idx]\n",
    "        encoding = self.tokenizer(\n",
    "            text,\n",
    "            padding=\"max_length\",\n",
    "            truncation=True,\n",
    "            max_length=self.max_length,\n",
    "            return_tensors=\"pt\"\n",
    "        )\n",
    "        return {\n",
    "            'input_ids': encoding['input_ids'].squeeze(0),\n",
    "            'attention_mask': encoding['attention_mask'].squeeze(0),\n",
    "            'labels': torch.tensor(label, dtype=torch.long)\n",
    "        }\n",
    "\n",
    "# Initialize tokenizer and dataset\n",
    "tokenizer = BertTokenizer.from_pretrained('bert-base-uncased')\n",
    "train_dataset = TextDataset(X_train, y_train, tokenizer, max_length=64)\n",
    "test_dataset = TextDataset(X_test, y_test, tokenizer, max_length=64)\n",
    "\n",
    "# Load the model and move it to the correct device\n",
    "model = BertForSequenceClassification.from_pretrained('bert-base-uncased', num_labels=len(set(y)))\n",
    "model.to(device)\n",
    "\n",
    "# Define training arguments\n",
    "training_args = TrainingArguments(\n",
    "    output_dir='./results',\n",
    "    evaluation_strategy=\"epoch\",\n",
    "    learning_rate=2e-5,\n",
    "    per_device_train_batch_size=8,\n",
    "    per_device_eval_batch_size=8,\n",
    "    num_train_epochs=3,\n",
    "    weight_decay=0.01,\n",
    "    logging_dir='./logs',\n",
    "    logging_steps=10,\n",
    "    save_total_limit=2,\n",
    "    push_to_hub=False,  # Disable pushing to Hugging Face hub\n",
    "    report_to=\"none\",   # Avoid extra logging if unnecessary\n",
    "    fp16=torch.cuda.is_available()  # Use mixed precision training if on GPU\n",
    ")\n",
    "\n",
    "# Define the Trainer\n",
    "trainer = Trainer(\n",
    "    model=model,\n",
    "    args=training_args,\n",
    "    train_dataset=train_dataset,\n",
    "    eval_dataset=test_dataset,\n",
    "    tokenizer=tokenizer\n",
    ")\n",
    "\n",
    "# Train the model\n",
    "trainer.train()\n",
    "\n",
    "# Evaluate the model\n",
    "evaluation_results = trainer.evaluate()\n",
    "print(\"Evaluation Results:\", evaluation_results)\n",
    "\n",
    "# Save the model\n",
    "model.save_pretrained('./tier1_classifier')\n",
    "tokenizer.save_pretrained('./tier1_classifier')\n",
    "\n",
    "print(\"Model and tokenizer saved to './tier1_classifier'\")"
   ]
  },
  {
   "cell_type": "code",
   "execution_count": 11,
   "metadata": {},
   "outputs": [
    {
     "name": "stderr",
     "output_type": "stream",
     "text": [
      "100%|██████████| 613/613 [02:36<00:00,  3.91it/s]"
     ]
    },
    {
     "name": "stdout",
     "output_type": "stream",
     "text": [
      "Evaluation Results: {'eval_loss': 1.0939775705337524, 'eval_runtime': 157.2537, 'eval_samples_per_second': 31.179, 'eval_steps_per_second': 3.898, 'epoch': 3.0}\n"
     ]
    },
    {
     "name": "stderr",
     "output_type": "stream",
     "text": [
      "\n"
     ]
    }
   ],
   "source": [
    "evaluation_results = trainer.evaluate()\n",
    "print(\"Evaluation Results:\", evaluation_results)"
   ]
  },
  {
   "cell_type": "code",
   "execution_count": 12,
   "metadata": {},
   "outputs": [
    {
     "name": "stderr",
     "output_type": "stream",
     "text": [
      "100%|██████████| 613/613 [02:13<00:00,  4.61it/s]"
     ]
    },
    {
     "name": "stdout",
     "output_type": "stream",
     "text": [
      "Test Accuracy: 75.57%\n"
     ]
    },
    {
     "name": "stderr",
     "output_type": "stream",
     "text": [
      "\n"
     ]
    }
   ],
   "source": [
    "from sklearn.metrics import accuracy_score\n",
    "\n",
    "# Get predictions on the test dataset\n",
    "predictions = trainer.predict(test_dataset)\n",
    "\n",
    "# Extract predicted labels\n",
    "predicted_labels = predictions.predictions.argmax(axis=1)\n",
    "\n",
    "# Calculate accuracy\n",
    "test_accuracy = accuracy_score(y_test, predicted_labels)\n",
    "\n",
    "print(f\"Test Accuracy: {test_accuracy * 100:.2f}%\")"
   ]
  },
  {
   "cell_type": "code",
   "execution_count": 17,
   "metadata": {},
   "outputs": [
    {
     "data": {
      "text/plain": [
       "array([ 1, 28, 10, 13,  7, 18,  1, 21,  7], dtype=int64)"
      ]
     },
     "execution_count": 17,
     "metadata": {},
     "output_type": "execute_result"
    }
   ],
   "source": [
    "predictions.label_ids[1:10]"
   ]
  },
  {
   "cell_type": "code",
   "execution_count": null,
   "metadata": {},
   "outputs": [],
   "source": [
    "predictions"
   ]
  },
  {
   "cell_type": "code",
   "execution_count": 13,
   "metadata": {},
   "outputs": [
    {
     "data": {
      "text/plain": [
       "<__main__.TextDataset at 0x1f3e397fe50>"
      ]
     },
     "execution_count": 13,
     "metadata": {},
     "output_type": "execute_result"
    }
   ],
   "source": [
    "test_dataset"
   ]
  },
  {
   "cell_type": "code",
   "execution_count": 22,
   "metadata": {},
   "outputs": [
    {
     "name": "stdout",
     "output_type": "stream",
     "text": [
      "                                             Content            True Label  \\\n",
      "0  Lincoln® Hybrid Electric Vehicles | Performanc...             Education   \n",
      "1  Initial Registration as a Manufacturer for Pha...                   Law   \n",
      "2  What Is the BRICS Group and Why Is It Expandin...          Food & Drink   \n",
      "3  American Adoptions - American Adoptions - Amer...      Personal Finance   \n",
      "4  Makesy® - shop fragrance oils, candle supplies...  Business and Finance   \n",
      "\n",
      "        Predicted Label  \n",
      "0             Education  \n",
      "1                   Law  \n",
      "2                   Law  \n",
      "3      Personal Finance  \n",
      "4  Business and Finance  \n"
     ]
    }
   ],
   "source": [
    "# Create a mapping from numerical labels to their original string labels\n",
    "label_mapping = {index: label for index, label in enumerate(set(df['Tier 1']))}\n",
    "\n",
    "# Extract predicted labels\n",
    "predicted_labels = predictions.predictions.argmax(axis=1)\n",
    "\n",
    "# Create a DataFrame for better visualization\n",
    "test_results = pd.DataFrame({\n",
    "    'Content': X_test,                              # Original text content\n",
    "    'True Label': [label_mapping[i] for i in y_test],  # Convert numerical labels to original text labels\n",
    "    'Predicted Label': [label_mapping[i] for i in predicted_labels]  # Convert predicted numerical labels to original text labels\n",
    "})\n",
    "\n",
    "# Display the DataFrame\n",
    "print(test_results.head())"
   ]
  },
  {
   "cell_type": "code",
   "execution_count": 19,
   "metadata": {},
   "outputs": [
    {
     "name": "stdout",
     "output_type": "stream",
     "text": [
      "Label Mapping (Numerical to Tier 1):\n",
      "0: Automotive\n",
      "1: Business and Finance\n",
      "2: Books and Literature\n",
      "3: Careers\n",
      "4: Communication\n",
      "5: Crime\n",
      "6: Disasters\n",
      "7: Education\n",
      "8: Entertainment\n",
      "9: Events\n",
      "10: Family and Relationships\n",
      "11: Fine Art\n",
      "12: Food & Drink\n",
      "13: Hobbies & Interests\n",
      "14: Genres\n",
      "15: Healthy Living\n",
      "16: Holidays\n",
      "17: Home & Garden\n",
      "18: Law\n",
      "19: Medical Health\n",
      "20: Maps & Navigation\n",
      "21: Personal Finance\n",
      "22: Personal Celebrations & Life Events\n",
      "23: Pets\n",
      "24: Politics\n",
      "25: Pop Culture\n",
      "26: Productivity\n",
      "27: Real Estate\n",
      "28: Religion & Spirituality\n",
      "29: Science\n",
      "30: Sensitive Topics\n",
      "31: Shopping\n",
      "32: Style & Fashion\n",
      "33: Technology & Computing\n",
      "34: Travel\n",
      "35: Video Gaming\n",
      "36: War and Conflicts\n",
      "37: Attractions\n"
     ]
    }
   ],
   "source": [
    "# Create a mapping of numerical labels to original labels\n",
    "label_mapping = {index: label for index, label in enumerate(pd.factorize(df['Tier 1'])[1])}\n",
    "\n",
    "# Print the mapping\n",
    "print(\"Label Mapping (Numerical to Tier 1):\")\n",
    "for num_label, tier1_label in label_mapping.items():\n",
    "    print(f\"{num_label}: {tier1_label}\")"
   ]
  },
  {
   "cell_type": "code",
   "execution_count": 21,
   "metadata": {},
   "outputs": [
    {
     "ename": "AttributeError",
     "evalue": "'list' object has no attribute 'iterrows'",
     "output_type": "error",
     "traceback": [
      "\u001b[1;31m---------------------------------------------------------------------------\u001b[0m",
      "\u001b[1;31mAttributeError\u001b[0m                            Traceback (most recent call last)",
      "Cell \u001b[1;32mIn[21], line 48\u001b[0m\n\u001b[0;32m     45\u001b[0m \u001b[38;5;66;03m# Step 4: Predict Tier 2 for test data\u001b[39;00m\n\u001b[0;32m     46\u001b[0m tier2_predictions \u001b[38;5;241m=\u001b[39m []\n\u001b[1;32m---> 48\u001b[0m \u001b[38;5;28;01mfor\u001b[39;00m i, row \u001b[38;5;129;01min\u001b[39;00m \u001b[43mX_test\u001b[49m\u001b[38;5;241;43m.\u001b[39;49m\u001b[43miterrows\u001b[49m():  \u001b[38;5;66;03m# Assuming test_df contains test data\u001b[39;00m\n\u001b[0;32m     49\u001b[0m     predicted_tier1 \u001b[38;5;241m=\u001b[39m row[\u001b[38;5;124m'\u001b[39m\u001b[38;5;124mPredicted Tier 1\u001b[39m\u001b[38;5;124m'\u001b[39m]  \u001b[38;5;66;03m# From Tier 1 classification\u001b[39;00m\n\u001b[0;32m     50\u001b[0m     combined_text \u001b[38;5;241m=\u001b[39m row[\u001b[38;5;124m'\u001b[39m\u001b[38;5;124mcombined_text\u001b[39m\u001b[38;5;124m'\u001b[39m]\n",
      "\u001b[1;31mAttributeError\u001b[0m: 'list' object has no attribute 'iterrows'"
     ]
    }
   ],
   "source": [
    "from neo4j import GraphDatabase\n",
    "from sklearn.feature_extraction.text import TfidfVectorizer\n",
    "from sklearn.metrics.pairwise import cosine_similarity\n",
    "\n",
    "# Step 1: Connect to Neo4j\n",
    "class Neo4jConnection:\n",
    "    def __init__(self, uri, user, password):\n",
    "        self.driver = GraphDatabase.driver(uri, auth=(user, password))\n",
    "    \n",
    "    def close(self):\n",
    "        self.driver.close()\n",
    "    \n",
    "    def query(self, query, parameters=None):\n",
    "        with self.driver.session() as session:\n",
    "            return session.run(query, parameters)\n",
    "\n",
    "# Initialize Neo4j connection\n",
    "conn = Neo4jConnection(uri=\"bolt://localhost:7687\", user=\"neo4j\", password=\"kenkaneki\")\n",
    "\n",
    "# Step 2: Get Tier 2 candidates from Neo4j\n",
    "def get_tier2_candidates_from_neo4j(predicted_tier1):\n",
    "    query = \"\"\"\n",
    "    MATCH (t1:Tier1 {name: $tier1_name})-[:HAS]->(t2:Tier2)\n",
    "    RETURN t2.name AS tier2_name\n",
    "    \"\"\"\n",
    "    result = conn.query(query, parameters={\"tier1_name\": predicted_tier1})\n",
    "    return [record[\"tier2_name\"] for record in result]\n",
    "\n",
    "# Step 3: Match combined_text with Tier 2 candidates\n",
    "def match_tier2_with_similarity(combined_text, tier2_candidates):\n",
    "    if not tier2_candidates:\n",
    "        return \"No Tier 2 Candidates Found\"\n",
    "    \n",
    "    # Vectorize texts\n",
    "    vectorizer = TfidfVectorizer()\n",
    "    texts = [combined_text] + tier2_candidates\n",
    "    tfidf_matrix = vectorizer.fit_transform(texts)\n",
    "    \n",
    "    # Compute cosine similarity\n",
    "    similarities = cosine_similarity(tfidf_matrix[0:1], tfidf_matrix[1:])\n",
    "    most_similar_idx = similarities.argmax()\n",
    "    \n",
    "    return tier2_candidates[most_similar_idx]\n",
    "\n",
    "# Step 4: Predict Tier 2 for test data\n",
    "tier2_predictions = []\n",
    "\n",
    "for i, row in X_test.iterrows():  # Assuming test_df contains test data\n",
    "    predicted_tier1 = row['Predicted Tier 1']  # From Tier 1 classification\n",
    "    combined_text = row['combined_text']\n",
    "    \n",
    "    # Fetch Tier 2 candidates from Neo4j\n",
    "    tier2_candidates = get_tier2_candidates_from_neo4j(predicted_tier1)\n",
    "    \n",
    "    # Match and predict Tier 2\n",
    "    predicted_tier2 = match_tier2_with_similarity(combined_text, tier2_candidates)\n",
    "    tier2_predictions.append(predicted_tier2)\n",
    "\n",
    "# Add Tier 2 predictions to DataFrame\n",
    "X_test['Predicted Tier 2'] = tier2_predictions\n",
    "\n",
    "# Display results\n",
    "print(X_test[['combined_text', 'Predicted Tier 1', 'Predicted Tier 2']])\n",
    "\n",
    "# Close Neo4j connection\n",
    "conn.close()"
   ]
  },
  {
   "cell_type": "code",
   "execution_count": null,
   "metadata": {},
   "outputs": [],
   "source": []
  }
 ],
 "metadata": {
  "kernelspec": {
   "display_name": "Python 3",
   "language": "python",
   "name": "python3"
  },
  "language_info": {
   "codemirror_mode": {
    "name": "ipython",
    "version": 3
   },
   "file_extension": ".py",
   "mimetype": "text/x-python",
   "name": "python",
   "nbconvert_exporter": "python",
   "pygments_lexer": "ipython3",
   "version": "3.11.0"
  }
 },
 "nbformat": 4,
 "nbformat_minor": 2
}
